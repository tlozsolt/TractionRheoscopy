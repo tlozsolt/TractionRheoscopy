{
 "cells": [
  {
   "cell_type": "code",
   "execution_count": 1,
   "metadata": {
    "collapsed": true
   },
   "outputs": [],
   "source": [
    "from particleLocating import locationStitch as locStitch\n",
    "import pandas as pd\n",
    "import numpy as np\n",
    "import dask.dataframe as dd"
   ]
  },
  {
   "cell_type": "code",
   "execution_count": 2,
   "metadata": {
    "pycharm": {
     "name": "#%% load directories for testing\n"
    }
   },
   "outputs": [],
   "source": [
    "yamlPath = '/Users/zsolt/Colloid_git/TractionRheoscopy/metaDataYAML/tfrGel10212018A_shearRun10292018f_metaData.yaml'\n",
    "transfer_stem = '/Volumes/TFR/tfrGel10212018A_shearRun10292018f/Transfer_ODSY'\n",
    "loc_leaf = '/locations'\n",
    "log_leaf = '/log'\n"
   ]
  },
  {
   "cell_type": "code",
   "execution_count": 3,
   "metadata": {
    "pycharm": {
     "name": "#%%\n"
    }
   },
   "outputs": [],
   "source": [
    "# initialize hashStich class\n",
    "inst = locStitch.ParticleStitch(yamlPath,computer='IMAC')"
   ]
  },
  {
   "cell_type": "code",
   "execution_count": 4,
   "metadata": {
    "pycharm": {
     "name": "#%%\n"
    }
   },
   "outputs": [],
   "source": [
    "%%capture\n",
    "dfList = []\n",
    "for hv in range(251):\n",
    "    df_temp = inst.csv2DataFrame(hv)\n",
    "    dfList.append(inst.recenterHash(df_temp,hv,coordStr='(um, rheo_sedHeight)'))\n",
    "df_combined = pd.concat(dfList)\n",
    "#ddf_combined = dd.from_pandas(pd.concat(dfList),npartitions=10)\n",
    "del dfList"
   ]
  },
  {
   "cell_type": "code",
   "execution_count": 6,
   "metadata": {
    "pycharm": {
     "name": "#%%\n"
    }
   },
   "outputs": [],
   "source": [
    "# split into sed and gel for a given timeFrame and delete the combined list\n",
    "df_sed0 = df_combined[(df_combined['material'] == 'sed') &\n",
    "                     (df_combined['frame'] == 0)].reset_index()\n",
    "df_sed1 = df_combined[(df_combined['material'] == 'sed') &\n",
    "                     (df_combined['frame'] == 1)].reset_index()\n",
    "df_gel0 = df_combined[(df_combined['material'] == 'gel') &\n",
    "                     (df_combined['frame'] == 0)].reset_index()\n",
    "df_gel1 = df_combined[(df_combined['material'] == 'gel') &\n",
    "                     (df_combined['frame'] == 1)].reset_index()"
   ]
  },
  {
   "cell_type": "code",
   "execution_count": 7,
   "metadata": {
    "pycharm": {
     "name": "#%%\n"
    }
   },
   "outputs": [],
   "source": [
    "from scipy.spatial import cKDTree\n",
    "treeSed0= cKDTree(df_sed0[['z (um, rheo_sedHeight)',\n",
    "                           'y (um, rheo_sedHeight)',\n",
    "                           'x (um, rheo_sedHeight)']])\n",
    "treeSed1= cKDTree(df_sed1[['z (um, rheo_sedHeight)',\n",
    "                           'y (um, rheo_sedHeight)',\n",
    "                           'x (um, rheo_sedHeight)']])\n",
    "treeGel0= cKDTree(df_gel0[['z (um, rheo_sedHeight)',\n",
    "                           'y (um, rheo_sedHeight)',\n",
    "                           'x (um, rheo_sedHeight)']])\n",
    "treeGel1= cKDTree(df_gel1[['z (um, rheo_sedHeight)',\n",
    "                           'y (um, rheo_sedHeight)',\n",
    "                           'x (um, rheo_sedHeight)']])"
   ]
  },
  {
   "cell_type": "code",
   "execution_count": 8,
   "metadata": {
    "pycharm": {
     "name": "#%%\n"
    }
   },
   "outputs": [],
   "source": [
    "# get pairs to remove\n",
    "sed0_pairs = sorted(treeSed0.query_pairs(0.25))\n",
    "sed1_pairs = sorted(treeSed1.query_pairs(0.25))\n",
    "gel0_pairs = sorted(treeGel0.query_pairs(0.25))\n",
    "gel1_pairs = sorted(treeGel1.query_pairs(0.25))"
   ]
  },
  {
   "cell_type": "markdown",
   "metadata": {
    "pycharm": {
     "name": "#%% md\n"
    }
   },
   "source": [
    "# Parallel find double hits\n",
    "I think there are a few approaches to make this parallel:\n",
    " - First, dont modify the code; just split the pair list and run multiprocessing\n",
    "     > however this will yield multiple processes modifying the dataframe\n",
    " - Second:\n",
    "   - create a dask bag for all pairs\n",
    "   - apply flagDouble on each pair in embarrassingly parallel manner returning  (row #, keepBool value)\n",
    "   - convert the output dask bag to a pandas dataFrame\n",
    "   - group-by key (which is row number of the parent dataframe)\n",
    "   - apply cumulative product to obtain 'keepBool' value\n",
    "   - assign that row back to dataframe['keepBool']"
   ]
  },
  {
   "cell_type": "code",
   "execution_count": 10,
   "metadata": {
    "pycharm": {
     "name": "#%%\n"
    }
   },
   "outputs": [
    {
     "ename": "SystemError",
     "evalue": "<built-in function is_scalar> returned a result with an error set",
     "output_type": "error",
     "traceback": [
      "\u001b[0;31m---------------------------------------------------------------------------\u001b[0m",
      "\u001b[0;31mKeyboardInterrupt\u001b[0m                         Traceback (most recent call last)",
      "\u001b[0;32m~/.conda/envs/TractionRheoscopy/lib/python3.7/abc.py\u001b[0m in \u001b[0;36m__instancecheck__\u001b[0;34m(cls, instance)\u001b[0m\n\u001b[1;32m    138\u001b[0m             \u001b[0;34m\"\"\"Override for isinstance(instance, cls).\"\"\"\u001b[0m\u001b[0;34m\u001b[0m\u001b[0;34m\u001b[0m\u001b[0m\n\u001b[0;32m--> 139\u001b[0;31m             \u001b[0;32mreturn\u001b[0m \u001b[0m_abc_instancecheck\u001b[0m\u001b[0;34m(\u001b[0m\u001b[0mcls\u001b[0m\u001b[0;34m,\u001b[0m \u001b[0minstance\u001b[0m\u001b[0;34m)\u001b[0m\u001b[0;34m\u001b[0m\u001b[0;34m\u001b[0m\u001b[0m\n\u001b[0m\u001b[1;32m    140\u001b[0m \u001b[0;34m\u001b[0m\u001b[0m\n",
      "\u001b[0;31mKeyboardInterrupt\u001b[0m: ",
      "\nThe above exception was the direct cause of the following exception:\n",
      "\u001b[0;31mSystemError\u001b[0m                               Traceback (most recent call last)",
      "\u001b[0;32m<ipython-input-10-bbfd5782b345>\u001b[0m in \u001b[0;36m<module>\u001b[0;34m\u001b[0m\n\u001b[1;32m      3\u001b[0m     \u001b[0;32mreturn\u001b[0m \u001b[0mnp\u001b[0m\u001b[0;34m.\u001b[0m\u001b[0msqrt\u001b[0m\u001b[0;34m(\u001b[0m\u001b[0mnp\u001b[0m\u001b[0;34m.\u001b[0m\u001b[0msum\u001b[0m\u001b[0;34m(\u001b[0m\u001b[0;34m(\u001b[0m\u001b[0mstdList_px\u001b[0m \u001b[0;34m*\u001b[0m \u001b[0mpx2Micron\u001b[0m\u001b[0;34m)\u001b[0m \u001b[0;34m**\u001b[0m \u001b[0;36m2\u001b[0m\u001b[0;34m)\u001b[0m\u001b[0;34m)\u001b[0m\u001b[0;34m\u001b[0m\u001b[0;34m\u001b[0m\u001b[0m\n\u001b[1;32m      4\u001b[0m \u001b[0;34m\u001b[0m\u001b[0m\n\u001b[0;32m----> 5\u001b[0;31m \u001b[0mdf_sed\u001b[0m\u001b[0;34m[\u001b[0m\u001b[0;34m'total_std'\u001b[0m\u001b[0;34m]\u001b[0m \u001b[0;34m=\u001b[0m \u001b[0mdf_sed\u001b[0m\u001b[0;34m[\u001b[0m\u001b[0;34m[\u001b[0m\u001b[0;34m'x_std'\u001b[0m\u001b[0;34m,\u001b[0m\u001b[0;34m'y_std'\u001b[0m\u001b[0;34m,\u001b[0m\u001b[0;34m'z_std'\u001b[0m\u001b[0;34m]\u001b[0m\u001b[0;34m]\u001b[0m\u001b[0;34m.\u001b[0m\u001b[0mapply\u001b[0m\u001b[0;34m(\u001b[0m\u001b[0msumError\u001b[0m\u001b[0;34m,\u001b[0m\u001b[0maxis\u001b[0m\u001b[0;34m=\u001b[0m\u001b[0;36m1\u001b[0m\u001b[0;34m)\u001b[0m\u001b[0;34m\u001b[0m\u001b[0;34m\u001b[0m\u001b[0m\n\u001b[0m\u001b[1;32m      6\u001b[0m \u001b[0;34m\u001b[0m\u001b[0m\n\u001b[1;32m      7\u001b[0m \u001b[0;34m\u001b[0m\u001b[0m\n",
      "\u001b[0;32m~/.conda/envs/TractionRheoscopy/lib/python3.7/site-packages/pandas/core/frame.py\u001b[0m in \u001b[0;36mapply\u001b[0;34m(self, func, axis, raw, result_type, args, **kwds)\u001b[0m\n\u001b[1;32m   6876\u001b[0m             \u001b[0mkwds\u001b[0m\u001b[0;34m=\u001b[0m\u001b[0mkwds\u001b[0m\u001b[0;34m,\u001b[0m\u001b[0;34m\u001b[0m\u001b[0;34m\u001b[0m\u001b[0m\n\u001b[1;32m   6877\u001b[0m         )\n\u001b[0;32m-> 6878\u001b[0;31m         \u001b[0;32mreturn\u001b[0m \u001b[0mop\u001b[0m\u001b[0;34m.\u001b[0m\u001b[0mget_result\u001b[0m\u001b[0;34m(\u001b[0m\u001b[0;34m)\u001b[0m\u001b[0;34m\u001b[0m\u001b[0;34m\u001b[0m\u001b[0m\n\u001b[0m\u001b[1;32m   6879\u001b[0m \u001b[0;34m\u001b[0m\u001b[0m\n\u001b[1;32m   6880\u001b[0m     \u001b[0;32mdef\u001b[0m \u001b[0mapplymap\u001b[0m\u001b[0;34m(\u001b[0m\u001b[0mself\u001b[0m\u001b[0;34m,\u001b[0m \u001b[0mfunc\u001b[0m\u001b[0;34m)\u001b[0m \u001b[0;34m->\u001b[0m \u001b[0;34m\"DataFrame\"\u001b[0m\u001b[0;34m:\u001b[0m\u001b[0;34m\u001b[0m\u001b[0;34m\u001b[0m\u001b[0m\n",
      "\u001b[0;32m~/.conda/envs/TractionRheoscopy/lib/python3.7/site-packages/pandas/core/apply.py\u001b[0m in \u001b[0;36mget_result\u001b[0;34m(self)\u001b[0m\n\u001b[1;32m    184\u001b[0m             \u001b[0;32mreturn\u001b[0m \u001b[0mself\u001b[0m\u001b[0;34m.\u001b[0m\u001b[0mapply_raw\u001b[0m\u001b[0;34m(\u001b[0m\u001b[0;34m)\u001b[0m\u001b[0;34m\u001b[0m\u001b[0;34m\u001b[0m\u001b[0m\n\u001b[1;32m    185\u001b[0m \u001b[0;34m\u001b[0m\u001b[0m\n\u001b[0;32m--> 186\u001b[0;31m         \u001b[0;32mreturn\u001b[0m \u001b[0mself\u001b[0m\u001b[0;34m.\u001b[0m\u001b[0mapply_standard\u001b[0m\u001b[0;34m(\u001b[0m\u001b[0;34m)\u001b[0m\u001b[0;34m\u001b[0m\u001b[0;34m\u001b[0m\u001b[0m\n\u001b[0m\u001b[1;32m    187\u001b[0m \u001b[0;34m\u001b[0m\u001b[0m\n\u001b[1;32m    188\u001b[0m     \u001b[0;32mdef\u001b[0m \u001b[0mapply_empty_result\u001b[0m\u001b[0;34m(\u001b[0m\u001b[0mself\u001b[0m\u001b[0;34m)\u001b[0m\u001b[0;34m:\u001b[0m\u001b[0;34m\u001b[0m\u001b[0;34m\u001b[0m\u001b[0m\n",
      "\u001b[0;32m~/.conda/envs/TractionRheoscopy/lib/python3.7/site-packages/pandas/core/apply.py\u001b[0m in \u001b[0;36mapply_standard\u001b[0;34m(self)\u001b[0m\n\u001b[1;32m    294\u001b[0m             \u001b[0;32mtry\u001b[0m\u001b[0;34m:\u001b[0m\u001b[0;34m\u001b[0m\u001b[0;34m\u001b[0m\u001b[0m\n\u001b[1;32m    295\u001b[0m                 result = libreduction.compute_reduction(\n\u001b[0;32m--> 296\u001b[0;31m                     \u001b[0mvalues\u001b[0m\u001b[0;34m,\u001b[0m \u001b[0mself\u001b[0m\u001b[0;34m.\u001b[0m\u001b[0mf\u001b[0m\u001b[0;34m,\u001b[0m \u001b[0maxis\u001b[0m\u001b[0;34m=\u001b[0m\u001b[0mself\u001b[0m\u001b[0;34m.\u001b[0m\u001b[0maxis\u001b[0m\u001b[0;34m,\u001b[0m \u001b[0mdummy\u001b[0m\u001b[0;34m=\u001b[0m\u001b[0mdummy\u001b[0m\u001b[0;34m,\u001b[0m \u001b[0mlabels\u001b[0m\u001b[0;34m=\u001b[0m\u001b[0mlabels\u001b[0m\u001b[0;34m\u001b[0m\u001b[0;34m\u001b[0m\u001b[0m\n\u001b[0m\u001b[1;32m    297\u001b[0m                 )\n\u001b[1;32m    298\u001b[0m             \u001b[0;32mexcept\u001b[0m \u001b[0mValueError\u001b[0m \u001b[0;32mas\u001b[0m \u001b[0merr\u001b[0m\u001b[0;34m:\u001b[0m\u001b[0;34m\u001b[0m\u001b[0;34m\u001b[0m\u001b[0m\n",
      "\u001b[0;32mpandas/_libs/reduction.pyx\u001b[0m in \u001b[0;36mpandas._libs.reduction.compute_reduction\u001b[0;34m()\u001b[0m\n",
      "\u001b[0;32mpandas/_libs/reduction.pyx\u001b[0m in \u001b[0;36mpandas._libs.reduction.Reducer.get_result\u001b[0;34m()\u001b[0m\n",
      "\u001b[0;32m<ipython-input-10-bbfd5782b345>\u001b[0m in \u001b[0;36msumError\u001b[0;34m(stdList_px, px2Micron)\u001b[0m\n\u001b[1;32m      1\u001b[0m \u001b[0;31m# first precompute the summed errors\u001b[0m\u001b[0;34m\u001b[0m\u001b[0;34m\u001b[0m\u001b[0;34m\u001b[0m\u001b[0m\n\u001b[1;32m      2\u001b[0m \u001b[0;32mdef\u001b[0m \u001b[0msumError\u001b[0m\u001b[0;34m(\u001b[0m\u001b[0mstdList_px\u001b[0m\u001b[0;34m,\u001b[0m\u001b[0mpx2Micron\u001b[0m\u001b[0;34m=\u001b[0m\u001b[0mnp\u001b[0m\u001b[0;34m.\u001b[0m\u001b[0marray\u001b[0m\u001b[0;34m(\u001b[0m\u001b[0;34m[\u001b[0m\u001b[0;36m0.15\u001b[0m\u001b[0;34m,\u001b[0m\u001b[0;36m0.115\u001b[0m\u001b[0;34m,\u001b[0m\u001b[0;36m0.115\u001b[0m\u001b[0;34m]\u001b[0m\u001b[0;34m)\u001b[0m\u001b[0;34m)\u001b[0m\u001b[0;34m:\u001b[0m\u001b[0;34m\u001b[0m\u001b[0;34m\u001b[0m\u001b[0m\n\u001b[0;32m----> 3\u001b[0;31m     \u001b[0;32mreturn\u001b[0m \u001b[0mnp\u001b[0m\u001b[0;34m.\u001b[0m\u001b[0msqrt\u001b[0m\u001b[0;34m(\u001b[0m\u001b[0mnp\u001b[0m\u001b[0;34m.\u001b[0m\u001b[0msum\u001b[0m\u001b[0;34m(\u001b[0m\u001b[0;34m(\u001b[0m\u001b[0mstdList_px\u001b[0m \u001b[0;34m*\u001b[0m \u001b[0mpx2Micron\u001b[0m\u001b[0;34m)\u001b[0m \u001b[0;34m**\u001b[0m \u001b[0;36m2\u001b[0m\u001b[0;34m)\u001b[0m\u001b[0;34m)\u001b[0m\u001b[0;34m\u001b[0m\u001b[0;34m\u001b[0m\u001b[0m\n\u001b[0m\u001b[1;32m      4\u001b[0m \u001b[0;34m\u001b[0m\u001b[0m\n\u001b[1;32m      5\u001b[0m \u001b[0mdf_sed\u001b[0m\u001b[0;34m[\u001b[0m\u001b[0;34m'total_std'\u001b[0m\u001b[0;34m]\u001b[0m \u001b[0;34m=\u001b[0m \u001b[0mdf_sed\u001b[0m\u001b[0;34m[\u001b[0m\u001b[0;34m[\u001b[0m\u001b[0;34m'x_std'\u001b[0m\u001b[0;34m,\u001b[0m\u001b[0;34m'y_std'\u001b[0m\u001b[0;34m,\u001b[0m\u001b[0;34m'z_std'\u001b[0m\u001b[0;34m]\u001b[0m\u001b[0;34m]\u001b[0m\u001b[0;34m.\u001b[0m\u001b[0mapply\u001b[0m\u001b[0;34m(\u001b[0m\u001b[0msumError\u001b[0m\u001b[0;34m,\u001b[0m\u001b[0maxis\u001b[0m\u001b[0;34m=\u001b[0m\u001b[0;36m1\u001b[0m\u001b[0;34m)\u001b[0m\u001b[0;34m\u001b[0m\u001b[0;34m\u001b[0m\u001b[0m\n",
      "\u001b[0;32m<__array_function__ internals>\u001b[0m in \u001b[0;36msum\u001b[0;34m(*args, **kwargs)\u001b[0m\n",
      "\u001b[0;32m~/.conda/envs/TractionRheoscopy/lib/python3.7/site-packages/numpy/core/fromnumeric.py\u001b[0m in \u001b[0;36msum\u001b[0;34m(a, axis, dtype, out, keepdims, initial, where)\u001b[0m\n\u001b[1;32m   2227\u001b[0m \u001b[0;34m\u001b[0m\u001b[0m\n\u001b[1;32m   2228\u001b[0m     return _wrapreduction(a, np.add, 'sum', axis, dtype, out, keepdims=keepdims,\n\u001b[0;32m-> 2229\u001b[0;31m                           initial=initial, where=where)\n\u001b[0m\u001b[1;32m   2230\u001b[0m \u001b[0;34m\u001b[0m\u001b[0m\n\u001b[1;32m   2231\u001b[0m \u001b[0;34m\u001b[0m\u001b[0m\n",
      "\u001b[0;32m~/.conda/envs/TractionRheoscopy/lib/python3.7/site-packages/numpy/core/fromnumeric.py\u001b[0m in \u001b[0;36m_wrapreduction\u001b[0;34m(obj, ufunc, method, axis, dtype, out, **kwargs)\u001b[0m\n\u001b[1;32m     86\u001b[0m                 \u001b[0;32mreturn\u001b[0m \u001b[0mreduction\u001b[0m\u001b[0;34m(\u001b[0m\u001b[0maxis\u001b[0m\u001b[0;34m=\u001b[0m\u001b[0maxis\u001b[0m\u001b[0;34m,\u001b[0m \u001b[0mdtype\u001b[0m\u001b[0;34m=\u001b[0m\u001b[0mdtype\u001b[0m\u001b[0;34m,\u001b[0m \u001b[0mout\u001b[0m\u001b[0;34m=\u001b[0m\u001b[0mout\u001b[0m\u001b[0;34m,\u001b[0m \u001b[0;34m**\u001b[0m\u001b[0mpasskwargs\u001b[0m\u001b[0;34m)\u001b[0m\u001b[0;34m\u001b[0m\u001b[0;34m\u001b[0m\u001b[0m\n\u001b[1;32m     87\u001b[0m             \u001b[0;32melse\u001b[0m\u001b[0;34m:\u001b[0m\u001b[0;34m\u001b[0m\u001b[0;34m\u001b[0m\u001b[0m\n\u001b[0;32m---> 88\u001b[0;31m                 \u001b[0;32mreturn\u001b[0m \u001b[0mreduction\u001b[0m\u001b[0;34m(\u001b[0m\u001b[0maxis\u001b[0m\u001b[0;34m=\u001b[0m\u001b[0maxis\u001b[0m\u001b[0;34m,\u001b[0m \u001b[0mout\u001b[0m\u001b[0;34m=\u001b[0m\u001b[0mout\u001b[0m\u001b[0;34m,\u001b[0m \u001b[0;34m**\u001b[0m\u001b[0mpasskwargs\u001b[0m\u001b[0;34m)\u001b[0m\u001b[0;34m\u001b[0m\u001b[0;34m\u001b[0m\u001b[0m\n\u001b[0m\u001b[1;32m     89\u001b[0m \u001b[0;34m\u001b[0m\u001b[0m\n\u001b[1;32m     90\u001b[0m     \u001b[0;32mreturn\u001b[0m \u001b[0mufunc\u001b[0m\u001b[0;34m.\u001b[0m\u001b[0mreduce\u001b[0m\u001b[0;34m(\u001b[0m\u001b[0mobj\u001b[0m\u001b[0;34m,\u001b[0m \u001b[0maxis\u001b[0m\u001b[0;34m,\u001b[0m \u001b[0mdtype\u001b[0m\u001b[0;34m,\u001b[0m \u001b[0mout\u001b[0m\u001b[0;34m,\u001b[0m \u001b[0;34m**\u001b[0m\u001b[0mpasskwargs\u001b[0m\u001b[0;34m)\u001b[0m\u001b[0;34m\u001b[0m\u001b[0;34m\u001b[0m\u001b[0m\n",
      "\u001b[0;32m~/.conda/envs/TractionRheoscopy/lib/python3.7/site-packages/pandas/core/generic.py\u001b[0m in \u001b[0;36mstat_func\u001b[0;34m(self, axis, skipna, level, numeric_only, min_count, **kwargs)\u001b[0m\n\u001b[1;32m  11180\u001b[0m             \u001b[0mskipna\u001b[0m\u001b[0;34m=\u001b[0m\u001b[0mskipna\u001b[0m\u001b[0;34m,\u001b[0m\u001b[0;34m\u001b[0m\u001b[0;34m\u001b[0m\u001b[0m\n\u001b[1;32m  11181\u001b[0m             \u001b[0mnumeric_only\u001b[0m\u001b[0;34m=\u001b[0m\u001b[0mnumeric_only\u001b[0m\u001b[0;34m,\u001b[0m\u001b[0;34m\u001b[0m\u001b[0;34m\u001b[0m\u001b[0m\n\u001b[0;32m> 11182\u001b[0;31m             \u001b[0mmin_count\u001b[0m\u001b[0;34m=\u001b[0m\u001b[0mmin_count\u001b[0m\u001b[0;34m,\u001b[0m\u001b[0;34m\u001b[0m\u001b[0;34m\u001b[0m\u001b[0m\n\u001b[0m\u001b[1;32m  11183\u001b[0m         )\n\u001b[1;32m  11184\u001b[0m \u001b[0;34m\u001b[0m\u001b[0m\n",
      "\u001b[0;32m~/.conda/envs/TractionRheoscopy/lib/python3.7/site-packages/pandas/core/series.py\u001b[0m in \u001b[0;36m_reduce\u001b[0;34m(self, op, name, axis, skipna, numeric_only, filter_type, **kwds)\u001b[0m\n\u001b[1;32m   3889\u001b[0m                 )\n\u001b[1;32m   3890\u001b[0m             \u001b[0;32mwith\u001b[0m \u001b[0mnp\u001b[0m\u001b[0;34m.\u001b[0m\u001b[0merrstate\u001b[0m\u001b[0;34m(\u001b[0m\u001b[0mall\u001b[0m\u001b[0;34m=\u001b[0m\u001b[0;34m\"ignore\"\u001b[0m\u001b[0;34m)\u001b[0m\u001b[0;34m:\u001b[0m\u001b[0;34m\u001b[0m\u001b[0;34m\u001b[0m\u001b[0m\n\u001b[0;32m-> 3891\u001b[0;31m                 \u001b[0;32mreturn\u001b[0m \u001b[0mop\u001b[0m\u001b[0;34m(\u001b[0m\u001b[0mdelegate\u001b[0m\u001b[0;34m,\u001b[0m \u001b[0mskipna\u001b[0m\u001b[0;34m=\u001b[0m\u001b[0mskipna\u001b[0m\u001b[0;34m,\u001b[0m \u001b[0;34m**\u001b[0m\u001b[0mkwds\u001b[0m\u001b[0;34m)\u001b[0m\u001b[0;34m\u001b[0m\u001b[0;34m\u001b[0m\u001b[0m\n\u001b[0m\u001b[1;32m   3892\u001b[0m \u001b[0;34m\u001b[0m\u001b[0m\n\u001b[1;32m   3893\u001b[0m         \u001b[0;31m# TODO(EA) dispatch to Index\u001b[0m\u001b[0;34m\u001b[0m\u001b[0;34m\u001b[0m\u001b[0;34m\u001b[0m\u001b[0m\n",
      "\u001b[0;32m~/.conda/envs/TractionRheoscopy/lib/python3.7/site-packages/pandas/core/nanops.py\u001b[0m in \u001b[0;36m_f\u001b[0;34m(*args, **kwargs)\u001b[0m\n\u001b[1;32m     67\u001b[0m             \u001b[0;32mtry\u001b[0m\u001b[0;34m:\u001b[0m\u001b[0;34m\u001b[0m\u001b[0;34m\u001b[0m\u001b[0m\n\u001b[1;32m     68\u001b[0m                 \u001b[0;32mwith\u001b[0m \u001b[0mnp\u001b[0m\u001b[0;34m.\u001b[0m\u001b[0merrstate\u001b[0m\u001b[0;34m(\u001b[0m\u001b[0minvalid\u001b[0m\u001b[0;34m=\u001b[0m\u001b[0;34m\"ignore\"\u001b[0m\u001b[0;34m)\u001b[0m\u001b[0;34m:\u001b[0m\u001b[0;34m\u001b[0m\u001b[0;34m\u001b[0m\u001b[0m\n\u001b[0;32m---> 69\u001b[0;31m                     \u001b[0;32mreturn\u001b[0m \u001b[0mf\u001b[0m\u001b[0;34m(\u001b[0m\u001b[0;34m*\u001b[0m\u001b[0margs\u001b[0m\u001b[0;34m,\u001b[0m \u001b[0;34m**\u001b[0m\u001b[0mkwargs\u001b[0m\u001b[0;34m)\u001b[0m\u001b[0;34m\u001b[0m\u001b[0;34m\u001b[0m\u001b[0m\n\u001b[0m\u001b[1;32m     70\u001b[0m             \u001b[0;32mexcept\u001b[0m \u001b[0mValueError\u001b[0m \u001b[0;32mas\u001b[0m \u001b[0me\u001b[0m\u001b[0;34m:\u001b[0m\u001b[0;34m\u001b[0m\u001b[0;34m\u001b[0m\u001b[0m\n\u001b[1;32m     71\u001b[0m                 \u001b[0;31m# we want to transform an object array\u001b[0m\u001b[0;34m\u001b[0m\u001b[0;34m\u001b[0m\u001b[0;34m\u001b[0m\u001b[0m\n",
      "\u001b[0;32m~/.conda/envs/TractionRheoscopy/lib/python3.7/site-packages/pandas/core/nanops.py\u001b[0m in \u001b[0;36mnansum\u001b[0;34m(values, axis, skipna, min_count, mask)\u001b[0m\n\u001b[1;32m    484\u001b[0m     \"\"\"\n\u001b[1;32m    485\u001b[0m     values, mask, dtype, dtype_max, _ = _get_values(\n\u001b[0;32m--> 486\u001b[0;31m         \u001b[0mvalues\u001b[0m\u001b[0;34m,\u001b[0m \u001b[0mskipna\u001b[0m\u001b[0;34m,\u001b[0m \u001b[0mfill_value\u001b[0m\u001b[0;34m=\u001b[0m\u001b[0;36m0\u001b[0m\u001b[0;34m,\u001b[0m \u001b[0mmask\u001b[0m\u001b[0;34m=\u001b[0m\u001b[0mmask\u001b[0m\u001b[0;34m\u001b[0m\u001b[0;34m\u001b[0m\u001b[0m\n\u001b[0m\u001b[1;32m    487\u001b[0m     )\n\u001b[1;32m    488\u001b[0m     \u001b[0mdtype_sum\u001b[0m \u001b[0;34m=\u001b[0m \u001b[0mdtype_max\u001b[0m\u001b[0;34m\u001b[0m\u001b[0;34m\u001b[0m\u001b[0m\n",
      "\u001b[0;32m~/.conda/envs/TractionRheoscopy/lib/python3.7/site-packages/pandas/core/nanops.py\u001b[0m in \u001b[0;36m_get_values\u001b[0;34m(values, skipna, fill_value, fill_value_typ, mask)\u001b[0m\n\u001b[1;32m    281\u001b[0m     \u001b[0;32massert\u001b[0m \u001b[0mis_scalar\u001b[0m\u001b[0;34m(\u001b[0m\u001b[0mfill_value\u001b[0m\u001b[0;34m)\u001b[0m\u001b[0;34m\u001b[0m\u001b[0;34m\u001b[0m\u001b[0m\n\u001b[1;32m    282\u001b[0m \u001b[0;34m\u001b[0m\u001b[0m\n\u001b[0;32m--> 283\u001b[0;31m     \u001b[0mmask\u001b[0m \u001b[0;34m=\u001b[0m \u001b[0m_maybe_get_mask\u001b[0m\u001b[0;34m(\u001b[0m\u001b[0mvalues\u001b[0m\u001b[0;34m,\u001b[0m \u001b[0mskipna\u001b[0m\u001b[0;34m,\u001b[0m \u001b[0mmask\u001b[0m\u001b[0;34m)\u001b[0m\u001b[0;34m\u001b[0m\u001b[0;34m\u001b[0m\u001b[0m\n\u001b[0m\u001b[1;32m    284\u001b[0m \u001b[0;34m\u001b[0m\u001b[0m\n\u001b[1;32m    285\u001b[0m     \u001b[0;32mif\u001b[0m \u001b[0mis_datetime64tz_dtype\u001b[0m\u001b[0;34m(\u001b[0m\u001b[0mvalues\u001b[0m\u001b[0;34m)\u001b[0m\u001b[0;34m:\u001b[0m\u001b[0;34m\u001b[0m\u001b[0;34m\u001b[0m\u001b[0m\n",
      "\u001b[0;32m~/.conda/envs/TractionRheoscopy/lib/python3.7/site-packages/pandas/core/nanops.py\u001b[0m in \u001b[0;36m_maybe_get_mask\u001b[0;34m(values, skipna, mask)\u001b[0m\n\u001b[1;32m    227\u001b[0m \u001b[0;34m\u001b[0m\u001b[0m\n\u001b[1;32m    228\u001b[0m         \u001b[0;32mif\u001b[0m \u001b[0mskipna\u001b[0m\u001b[0;34m:\u001b[0m\u001b[0;34m\u001b[0m\u001b[0;34m\u001b[0m\u001b[0m\n\u001b[0;32m--> 229\u001b[0;31m             \u001b[0mmask\u001b[0m \u001b[0;34m=\u001b[0m \u001b[0misna\u001b[0m\u001b[0;34m(\u001b[0m\u001b[0mvalues\u001b[0m\u001b[0;34m)\u001b[0m\u001b[0;34m\u001b[0m\u001b[0;34m\u001b[0m\u001b[0m\n\u001b[0m\u001b[1;32m    230\u001b[0m \u001b[0;34m\u001b[0m\u001b[0m\n\u001b[1;32m    231\u001b[0m     \u001b[0;32mreturn\u001b[0m \u001b[0mmask\u001b[0m\u001b[0;34m\u001b[0m\u001b[0;34m\u001b[0m\u001b[0m\n",
      "\u001b[0;32m~/.conda/envs/TractionRheoscopy/lib/python3.7/site-packages/pandas/core/dtypes/missing.py\u001b[0m in \u001b[0;36misna\u001b[0;34m(obj)\u001b[0m\n\u001b[1;32m    124\u001b[0m     \u001b[0mName\u001b[0m\u001b[0;34m:\u001b[0m \u001b[0;36m1\u001b[0m\u001b[0;34m,\u001b[0m \u001b[0mdtype\u001b[0m\u001b[0;34m:\u001b[0m \u001b[0mbool\u001b[0m\u001b[0;34m\u001b[0m\u001b[0;34m\u001b[0m\u001b[0m\n\u001b[1;32m    125\u001b[0m     \"\"\"\n\u001b[0;32m--> 126\u001b[0;31m     \u001b[0;32mreturn\u001b[0m \u001b[0m_isna\u001b[0m\u001b[0;34m(\u001b[0m\u001b[0mobj\u001b[0m\u001b[0;34m)\u001b[0m\u001b[0;34m\u001b[0m\u001b[0;34m\u001b[0m\u001b[0m\n\u001b[0m\u001b[1;32m    127\u001b[0m \u001b[0;34m\u001b[0m\u001b[0m\n\u001b[1;32m    128\u001b[0m \u001b[0;34m\u001b[0m\u001b[0m\n",
      "\u001b[0;32m~/.conda/envs/TractionRheoscopy/lib/python3.7/site-packages/pandas/core/dtypes/missing.py\u001b[0m in \u001b[0;36m_isna_new\u001b[0;34m(obj)\u001b[0m\n\u001b[1;32m    132\u001b[0m \u001b[0;32mdef\u001b[0m \u001b[0m_isna_new\u001b[0m\u001b[0;34m(\u001b[0m\u001b[0mobj\u001b[0m\u001b[0;34m)\u001b[0m\u001b[0;34m:\u001b[0m\u001b[0;34m\u001b[0m\u001b[0;34m\u001b[0m\u001b[0m\n\u001b[1;32m    133\u001b[0m \u001b[0;34m\u001b[0m\u001b[0m\n\u001b[0;32m--> 134\u001b[0;31m     \u001b[0;32mif\u001b[0m \u001b[0mis_scalar\u001b[0m\u001b[0;34m(\u001b[0m\u001b[0mobj\u001b[0m\u001b[0;34m)\u001b[0m\u001b[0;34m:\u001b[0m\u001b[0;34m\u001b[0m\u001b[0;34m\u001b[0m\u001b[0m\n\u001b[0m\u001b[1;32m    135\u001b[0m         \u001b[0;32mreturn\u001b[0m \u001b[0mlibmissing\u001b[0m\u001b[0;34m.\u001b[0m\u001b[0mchecknull\u001b[0m\u001b[0;34m(\u001b[0m\u001b[0mobj\u001b[0m\u001b[0;34m)\u001b[0m\u001b[0;34m\u001b[0m\u001b[0;34m\u001b[0m\u001b[0m\n\u001b[1;32m    136\u001b[0m     \u001b[0;31m# hack (for now) because MI registers as ndarray\u001b[0m\u001b[0;34m\u001b[0m\u001b[0;34m\u001b[0m\u001b[0;34m\u001b[0m\u001b[0m\n",
      "\u001b[0;31mSystemError\u001b[0m: <built-in function is_scalar> returned a result with an error set"
     ]
    }
   ],
   "source": [
    "# first precompute the summed errors\n",
    "#def sumError(stdList_px,px2Micron=np.array([0.15,0.115,0.115])):\n",
    "#    return np.sqrt(np.sum((stdList_px * px2Micron) ** 2))\n",
    "#\n",
    "#df_sed0['total_std'] = df_sed0[['x_std','y_std','z_std']].apply(sumError,axis=1)\n",
    "#df_sed1['total_std'] = df_sed1[['x_std','y_std','z_std']].apply(sumError,axis=1)\n",
    "#df_gel0['total_std'] = df_gel0[['x_std','y_std','z_std']].apply(sumError,axis=1)\n",
    "#df_gel1['total_std'] = df_gel1[['x_std','y_std','z_std']].apply(sumError,axis=1)\n"
   ]
  },
  {
   "cell_type": "code",
   "execution_count": 10,
   "metadata": {
    "pycharm": {
     "name": "#%%\n"
    }
   },
   "outputs": [],
   "source": [
    "import numba\n",
    "import math\n",
    "from numba import prange\n",
    "\n",
    "@numba.jit(nopython=True,nogil=True,parallel=True)\n",
    "def np_sumError(z_std, y_std, x_std, zPx, yPx, xPx):\n",
    "    \"\"\"\n",
    "    compute sum of squared errors in um.\n",
    "    :z_std, y_std, and x_std are arrays of output lsq_refine and each value represents\n",
    "                             the ** pixel** uncertainty in the position of the particle\n",
    "                             in each coordinate\n",
    "    :zPx, yPx, and xPx are float32 pixel to micron multiplicatiive\n",
    "                      conversion factors.\n",
    "    :return an array of sqrt(sum(*_std)**2)\n",
    "    \"\"\"\n",
    "    out = np.empty_like(z_std)\n",
    "    for n in prange(len(z_std)):\n",
    "        error = math.sqrt((z_std[n]*zPx)**2 + (y_std[n]*yPx)**2 + (x_std[n]*xPx)**2)\n",
    "        out[n] = error\n",
    "    return out\n",
    "\n",
    "\n",
    "def computeError(df, pos_keyList = ('z_std', 'y_std', 'x_std'),px2Micron=[0.15,0.115,0.115]):\n",
    "    \"\"\"\n",
    "    Wrapper function around np_sumError to handle dataFrame inputs\n",
    "    \"\"\"\n",
    "    z = df[pos_keyList[0]].to_numpy()\n",
    "    y = df[pos_keyList[1]].to_numpy()\n",
    "    x = df[pos_keyList[2]].to_numpy()\n",
    "    zPx = px2Micron[0]\n",
    "    yPx = px2Micron[1]\n",
    "    xPx = px2Micron[2]\n",
    "    totalError = np_sumError(z,y,x,zPx,yPx,xPx)\n",
    "    return pd.Series(totalError,index=df.index, name='totalError')"
   ]
  },
  {
   "cell_type": "code",
   "execution_count": 12,
   "metadata": {
    "pycharm": {
     "name": "#%%\n"
    }
   },
   "outputs": [],
   "source": [
    "df_sed0['totalError'] = computeError(df_sed0)\n",
    "df_sed1['totalError'] = computeError(df_sed1)\n",
    "df_gel0['totalError'] = computeError(df_gel0)\n",
    "df_gel1['totalError'] = computeError(df_gel1)\n",
    "#error_par =  computeError(df_sed)\n"
   ]
  },
  {
   "cell_type": "code",
   "execution_count": 20,
   "metadata": {
    "pycharm": {
     "name": "#%%\n"
    }
   },
   "outputs": [],
   "source": [
    "# now, ddf_flagDouble only need to operate on this list\n",
    "\n",
    "@numba.jit(nopython=True, nogil=True, parallel=True)\n",
    "def minError_flagDouble(pairList, errorList):\n",
    "    \"\"\"\n",
    "    :pairList list of pairs of integers specificying iloc location in pandas dataFrame where two positions\n",
    "                                        are within some cutoff distance used to generate the pairs\n",
    "    :errorList: list of total std errors with same indexing scheme as the parent dataFrame from which\n",
    "                                         the pairList was derived\n",
    "    :return pair of values (True, False) for example, on what to set the keepBool value\n",
    "    \"\"\"\n",
    "    out1 = np.empty_like(pairList)\n",
    "    out2 = np.empty_like(pairList)\n",
    "    for n in range(len(pairList)):\n",
    "        p1 = pairList[n,0]\n",
    "        p2 = pairList[n,1]\n",
    "        errorPair = (errorList[int(p1)],errorList[int(p2)])\n",
    "        out1[n,0] = p1\n",
    "        out1[n,1] = bool(errorPair[0]  < errorPair[1])\n",
    "        out2[n,0] = p2\n",
    "        out2[n,1] = bool(errorPair[1] <= errorPair[0])\n",
    "    return out1, out2\n",
    "\n",
    "def removeDoubles(df,\n",
    "                  cutoff,\n",
    "                  material,\n",
    "                  frame,\n",
    "                  posKeyList= ('z (um, rheo_sedHeight)', 'y (um, rheo_sedHeight)', 'x (um, rheo_sedHeight)'),\n",
    "                  px2Micron=(0.15, 0.115, 0.115)):\n",
    "    \"\"\"\n",
    "    Wrapper function that carries out a few stesp to remove double hits\n",
    "\n",
    "    :df dataframe of locating output. Can include both sed and gel and multiple frames.\n",
    "                                      Really should be a dask dataframe for out of mem computations\n",
    "    :cutoff, float32 distance in microns below which particle pairs should be anaylzed for removing one of the pairs\n",
    "    :material, str, either 'sed' or 'gel'\n",
    "    :frame, int, what frame number to remove doubles from. zero-indexed as standard for trackpy\n",
    "    :posKeyList, tuple of strings, keys for dataFrame df giving the z,y,x positions. df[posKeyList[0]] returns a series\n",
    "                                   of particle positions\n",
    "    : px2Micron, tuple of float32, mutiplicative factors converting pixel to microns. Passed to compute error to\n",
    "                                   compute the total squared error to determine which particle to flag for removal\n",
    "    \"\"\"\n",
    "    # split into sed and gel for a given timeFrame and delete the combined list\n",
    "    df_partial = df[(df['material'] == material) &\n",
    "                    (df['frame'] == frame)].reset_index()\n",
    "    # create the search tree (fast scipy cKDTree)\n",
    "    tree = cKDTree(df_partial[list(posKeyList)])\n",
    "\n",
    "    # query the pair list (also fast)\n",
    "    pairs = np.array(sorted(tree.query_pairs(cutoff)))\n",
    "\n",
    "    # compute total Error for every particle (accelerated by numba)\n",
    "    df_partial['totalError'] = computeError(df_partial,px2Micron=px2Micron)\n",
    "\n",
    "    # call minError_flagDouble (numba wrapped in python)\n",
    "    flag1, flag2 = minError_flagDouble(pairs, df_partial['totalError'].to_numpy())\n",
    "\n",
    "    # combine and remove doubles using groupby and apply on dataframe\n",
    "    flag_df = pd.DataFrame(np.concatenate((flag1, flag2), axis=0), columns=['index','keepBool']).\\\n",
    "        set_index('index').groupby('index', as_index=True).apply(pd.DataFrame.product)\n",
    "\n",
    "    # format the dataFrame to have boolean values in keepBool index and fill out the array for all the particles that were never flagged for possible removal\n",
    "    df_partial['keepBool'] = 1 # set all the values to keep\n",
    "    df_partial['keepBool'] = flag_df # for each index in flag_df set df_partial.loc[index]['keepBool'] to flag_df.loc[index]\n",
    "    df_partial['keepBool'] = df_partial['keepBool'].fillna(1) # if it was never check for double hits, keepBool value is nan and you must keep it\n",
    "    df_partial['keepBool'] = df_partial['keepBool'].replace(1,True)\n",
    "    df_partial['keepBool'] = df_partial['keepBool'].replace(0,False)\n",
    "    return df_partial"
   ]
  },
  {
   "cell_type": "code",
   "execution_count": 23,
   "metadata": {
    "pycharm": {
     "name": "#%%\n"
    }
   },
   "outputs": [],
   "source": [
    "# stuff like this should be converted to a dask bag array with inputs of frame and material\n",
    "df_sed0 = removeDoubles(df_combined,0.25,'sed',0)\n",
    "df_sed1 = removeDoubles(df_combined,0.25,'sed',1)\n",
    "df_gel0 = removeDoubles(df_combined,0.25,'gel',0)\n",
    "df_gel1 = removeDoubles(df_combined,0.25,'gel',1)"
   ]
  },
  {
   "cell_type": "code",
   "execution_count": 28,
   "metadata": {
    "pycharm": {
     "name": "#%%\n"
    }
   },
   "outputs": [
    {
     "name": "stdout",
     "output_type": "stream",
     "text": [
      "<class 'pandas.core.frame.DataFrame'>\n",
      "Int64Index: 966621 entries, 0 to 1166667\n",
      "Data columns (total 35 columns):\n",
      " #   Column                  Non-Null Count   Dtype  \n",
      "---  ------                  --------------   -----  \n",
      " 0   index                   966621 non-null  int64  \n",
      " 1   z (px, hash)            966621 non-null  float64\n",
      " 2   y (px, hash)            966621 non-null  float64\n",
      " 3   x (px, hash)            966621 non-null  float64\n",
      " 4   mass                    966621 non-null  float64\n",
      " 5   size_z                  0 non-null       float64\n",
      " 6   size_y                  0 non-null       float64\n",
      " 7   size_x                  0 non-null       float64\n",
      " 8   ecc                     0 non-null       float64\n",
      " 9   signal                  966621 non-null  float64\n",
      " 10  raw_mass                966621 non-null  float64\n",
      " 11  ep_z                    0 non-null       float64\n",
      " 12  ep_y                    0 non-null       float64\n",
      " 13  ep_x                    0 non-null       float64\n",
      " 14  n_iteration             966621 non-null  int64  \n",
      " 15  frame                   966621 non-null  int64  \n",
      " 16  cluster                 966621 non-null  int64  \n",
      " 17  cluster_size            966621 non-null  int64  \n",
      " 18  disc_size               0 non-null       float64\n",
      " 19  background              966621 non-null  float64\n",
      " 20  background_std          966364 non-null  float64\n",
      " 21  signal_std              964996 non-null  float64\n",
      " 22  z_std                   964049 non-null  float64\n",
      " 23  y_std                   965698 non-null  float64\n",
      " 24  x_std                   965676 non-null  float64\n",
      " 25  cost                    966429 non-null  float64\n",
      " 26  hashValue               966621 non-null  int64  \n",
      " 27  material                966621 non-null  object \n",
      " 28  x (um, rheo_sedHeight)  966621 non-null  float64\n",
      " 29  y (um, rheo_sedHeight)  966621 non-null  float64\n",
      " 30  z (um, rheo_sedHeight)  966621 non-null  float64\n",
      " 31  size                    966621 non-null  float64\n",
      " 32  ep                      808299 non-null  float64\n",
      " 33  totalError              963752 non-null  float64\n",
      " 34  keepBool                966621 non-null  bool   \n",
      "dtypes: bool(1), float64(27), int64(6), object(1)\n",
      "memory usage: 259.0+ MB\n",
      "None\n",
      "<class 'pandas.core.frame.DataFrame'>\n",
      "Int64Index: 967404 entries, 0 to 1167146\n",
      "Data columns (total 35 columns):\n",
      " #   Column                  Non-Null Count   Dtype  \n",
      "---  ------                  --------------   -----  \n",
      " 0   index                   967404 non-null  int64  \n",
      " 1   z (px, hash)            967404 non-null  float64\n",
      " 2   y (px, hash)            967404 non-null  float64\n",
      " 3   x (px, hash)            967404 non-null  float64\n",
      " 4   mass                    967404 non-null  float64\n",
      " 5   size_z                  0 non-null       float64\n",
      " 6   size_y                  0 non-null       float64\n",
      " 7   size_x                  0 non-null       float64\n",
      " 8   ecc                     0 non-null       float64\n",
      " 9   signal                  967404 non-null  float64\n",
      " 10  raw_mass                967404 non-null  float64\n",
      " 11  ep_z                    0 non-null       float64\n",
      " 12  ep_y                    0 non-null       float64\n",
      " 13  ep_x                    0 non-null       float64\n",
      " 14  n_iteration             967404 non-null  int64  \n",
      " 15  frame                   967404 non-null  int64  \n",
      " 16  cluster                 967404 non-null  int64  \n",
      " 17  cluster_size            967404 non-null  int64  \n",
      " 18  disc_size               0 non-null       float64\n",
      " 19  background              967404 non-null  float64\n",
      " 20  background_std          967145 non-null  float64\n",
      " 21  signal_std              965763 non-null  float64\n",
      " 22  z_std                   964784 non-null  float64\n",
      " 23  y_std                   966388 non-null  float64\n",
      " 24  x_std                   966402 non-null  float64\n",
      " 25  cost                    967218 non-null  float64\n",
      " 26  hashValue               967404 non-null  int64  \n",
      " 27  material                967404 non-null  object \n",
      " 28  x (um, rheo_sedHeight)  967404 non-null  float64\n",
      " 29  y (um, rheo_sedHeight)  967404 non-null  float64\n",
      " 30  z (um, rheo_sedHeight)  967404 non-null  float64\n",
      " 31  size                    967404 non-null  float64\n",
      " 32  ep                      832354 non-null  float64\n",
      " 33  totalError              964465 non-null  float64\n",
      " 34  keepBool                967404 non-null  bool   \n",
      "dtypes: bool(1), float64(27), int64(6), object(1)\n",
      "memory usage: 259.2+ MB\n",
      "None\n",
      "<class 'pandas.core.frame.DataFrame'>\n",
      "Int64Index: 3170 entries, 0 to 4924\n",
      "Data columns (total 35 columns):\n",
      " #   Column                  Non-Null Count  Dtype  \n",
      "---  ------                  --------------  -----  \n",
      " 0   index                   3170 non-null   int64  \n",
      " 1   z (px, hash)            3170 non-null   float64\n",
      " 2   y (px, hash)            3170 non-null   float64\n",
      " 3   x (px, hash)            3170 non-null   float64\n",
      " 4   mass                    3170 non-null   float64\n",
      " 5   size_z                  3170 non-null   float64\n",
      " 6   size_y                  3170 non-null   float64\n",
      " 7   size_x                  3170 non-null   float64\n",
      " 8   ecc                     0 non-null      float64\n",
      " 9   signal                  3170 non-null   float64\n",
      " 10  raw_mass                3170 non-null   float64\n",
      " 11  ep_z                    3170 non-null   float64\n",
      " 12  ep_y                    3170 non-null   float64\n",
      " 13  ep_x                    3170 non-null   float64\n",
      " 14  n_iteration             3170 non-null   int64  \n",
      " 15  frame                   3170 non-null   int64  \n",
      " 16  cluster                 3170 non-null   int64  \n",
      " 17  cluster_size            3170 non-null   int64  \n",
      " 18  disc_size               3170 non-null   float64\n",
      " 19  background              3170 non-null   float64\n",
      " 20  background_std          3169 non-null   float64\n",
      " 21  signal_std              3164 non-null   float64\n",
      " 22  z_std                   3159 non-null   float64\n",
      " 23  y_std                   3165 non-null   float64\n",
      " 24  x_std                   3165 non-null   float64\n",
      " 25  cost                    3169 non-null   float64\n",
      " 26  hashValue               3170 non-null   int64  \n",
      " 27  material                3170 non-null   object \n",
      " 28  x (um, rheo_sedHeight)  3170 non-null   float64\n",
      " 29  y (um, rheo_sedHeight)  3170 non-null   float64\n",
      " 30  z (um, rheo_sedHeight)  3170 non-null   float64\n",
      " 31  size                    0 non-null      float64\n",
      " 32  ep                      0 non-null      float64\n",
      " 33  totalError              3159 non-null   float64\n",
      " 34  keepBool                3170 non-null   bool   \n",
      "dtypes: bool(1), float64(27), int64(6), object(1)\n",
      "memory usage: 869.9+ KB\n",
      "None\n",
      "<class 'pandas.core.frame.DataFrame'>\n",
      "Int64Index: 3180 entries, 0 to 4958\n",
      "Data columns (total 35 columns):\n",
      " #   Column                  Non-Null Count  Dtype  \n",
      "---  ------                  --------------  -----  \n",
      " 0   index                   3180 non-null   int64  \n",
      " 1   z (px, hash)            3180 non-null   float64\n",
      " 2   y (px, hash)            3180 non-null   float64\n",
      " 3   x (px, hash)            3180 non-null   float64\n",
      " 4   mass                    3180 non-null   float64\n",
      " 5   size_z                  3180 non-null   float64\n",
      " 6   size_y                  3180 non-null   float64\n",
      " 7   size_x                  3180 non-null   float64\n",
      " 8   ecc                     0 non-null      float64\n",
      " 9   signal                  3180 non-null   float64\n",
      " 10  raw_mass                3180 non-null   float64\n",
      " 11  ep_z                    3180 non-null   float64\n",
      " 12  ep_y                    3180 non-null   float64\n",
      " 13  ep_x                    3180 non-null   float64\n",
      " 14  n_iteration             3180 non-null   int64  \n",
      " 15  frame                   3180 non-null   int64  \n",
      " 16  cluster                 3180 non-null   int64  \n",
      " 17  cluster_size            3180 non-null   int64  \n",
      " 18  disc_size               3180 non-null   float64\n",
      " 19  background              3180 non-null   float64\n",
      " 20  background_std          3177 non-null   float64\n",
      " 21  signal_std              3169 non-null   float64\n",
      " 22  z_std                   3164 non-null   float64\n",
      " 23  y_std                   3170 non-null   float64\n",
      " 24  x_std                   3171 non-null   float64\n",
      " 25  cost                    3177 non-null   float64\n",
      " 26  hashValue               3180 non-null   int64  \n",
      " 27  material                3180 non-null   object \n",
      " 28  x (um, rheo_sedHeight)  3180 non-null   float64\n",
      " 29  y (um, rheo_sedHeight)  3180 non-null   float64\n",
      " 30  z (um, rheo_sedHeight)  3180 non-null   float64\n",
      " 31  size                    0 non-null      float64\n",
      " 32  ep                      0 non-null      float64\n",
      " 33  totalError              3163 non-null   float64\n",
      " 34  keepBool                3180 non-null   bool   \n",
      "dtypes: bool(1), float64(27), int64(6), object(1)\n",
      "memory usage: 872.6+ KB\n",
      "None\n"
     ]
    }
   ],
   "source": [
    "# look at only the particles to keep\n",
    "print(df_sed0[df_sed0['keepBool']].info())\n",
    "print(df_sed1[df_sed1['keepBool']].info())\n",
    "print(df_gel0[df_gel0['keepBool']].info())\n",
    "print(df_gel1[df_gel1['keepBool']].info())"
   ]
  },
  {
   "cell_type": "code",
   "execution_count": 22,
   "metadata": {
    "pycharm": {
     "name": "#%%\n"
    }
   },
   "outputs": [
    {
     "name": "stderr",
     "output_type": "stream",
     "text": [
      "/Users/zsolt/Colloid_git/TractionRheoscopy/particleLocating/locationStitch.py:185: SettingWithCopyWarning: \n",
      "A value is trying to be set on a copy of a slice from a DataFrame.\n",
      "Try using .loc[row_indexer,col_indexer] = value instead\n",
      "\n",
      "See the caveats in the documentation: https://pandas.pydata.org/pandas-docs/stable/user_guide/indexing.html#returning-a-view-versus-a-copy\n",
      "  df['particleString'] = particleStr\n"
     ]
    },
    {
     "data": {
      "text/plain": [
       "'/Users/zsolt/Colloid/DATA/tfrGel10212018x/tfrGel10212018A_shearRun10292018f/t0_dask_rmParticle.xyz'"
      ]
     },
     "execution_count": 22,
     "metadata": {},
     "output_type": "execute_result"
    }
   ],
   "source": [
    "from particleLocating import locationStitch\n",
    "posColumns = ['x (um, rheo_sedHeight)',\n",
    "              'y (um, rheo_sedHeight)',\n",
    "              'z (um, rheo_sedHeight)']\n",
    "locationStitch.ParticleStitch.dataFrameLocation2xyz(df_sed0[df_sed0['keepBool']],\n",
    "                                                    '/Users/zsolt/Colloid/DATA/tfrGel10212018x/tfrGel10212018A_shearRun10292018f/t0_dask_rmParticle.xyz',\n",
    "                                                    columns=posColumns)"
   ]
  },
  {
   "cell_type": "code",
   "execution_count": 33,
   "metadata": {
    "pycharm": {
     "name": "#%%\n"
    }
   },
   "outputs": [
    {
     "name": "stdout",
     "output_type": "stream",
     "text": [
      "Frame 1: 967404 trajectories present.\n"
     ]
    }
   ],
   "source": [
    "# linking\n",
    "# prep dataFrames after removing doubles and stitching for particle linking\n",
    "import trackpy as tp\n",
    "df_sed = df_sed0[df_sed0['keepBool']].append(df_sed1[df_sed1['keepBool']],ignore_index=True)\n",
    "df_sed_link = tp.link_df(df_sed, 0.5, pos_columns=posColumns)"
   ]
  },
  {
   "cell_type": "code",
   "execution_count": 40,
   "metadata": {
    "pycharm": {
     "name": "#%%\n"
    }
   },
   "outputs": [],
   "source": [
    "# plot a histogram of displacement from t0 to t1\n",
    "# group by particle key\n",
    "df_sed_particleIndex = df_sed_link.set_index('particle')"
   ]
  },
  {
   "cell_type": "code",
   "execution_count": 49,
   "metadata": {
    "pycharm": {
     "name": "#%%\n"
    }
   },
   "outputs": [],
   "source": [
    "df_sed_particleIndex[df_sed_particleIndex['frame'] == 0].sort_index()['z (px, hash)'] - df_sed_particleIndex[df_sed_particleIndex['frame'] == 1].sort_index()['z (px, hash)']\n",
    "\n",
    "@numba.jit(nopython=True, nogil=True)\n",
    "def displacement(dz, dy, dx):\n",
    "    out = np.empty_like(dz)\n",
    "    out.fill(np.nan)\n",
    "    for n in range(len(dz)):\n",
    "        out[n] = math.sqrt(dz[n]**2 + dy[n]**2 + dx[n]**2)\n",
    "    return out\n",
    "\n",
    "def df_displacement(df, t0, tf,\n",
    "                    posKeyList= ('z (um, rheo_sedHeight)', 'y (um, rheo_sedHeight)', 'x (um, rheo_sedHeight)')):\n",
    "    dz = df[df['frame'] == tf ].sort_index()[posKeyList[0]] - df[df['frame'] == t0 ].sort_index()[posKeyList[0]]\n",
    "    dy = df[df['frame'] == tf ].sort_index()[posKeyList[1]] - df[df['frame'] == t0 ].sort_index()[posKeyList[1]]\n",
    "    dx = df[df['frame'] == tf ].sort_index()[posKeyList[2]] - df[df['frame'] == t0 ].sort_index()[posKeyList[2]]\n",
    "    return pd.Series(displacement(dz.to_numpy(),\n",
    "                                  dy.to_numpy(),\n",
    "                                  dx.to_numpy())).dropna()"
   ]
  },
  {
   "cell_type": "code",
   "execution_count": 50,
   "metadata": {
    "pycharm": {
     "name": "#%%\n"
    }
   },
   "outputs": [],
   "source": [
    "disp = df_displacement(df_sed_particleIndex,0,1)"
   ]
  },
  {
   "cell_type": "code",
   "execution_count": 54,
   "metadata": {
    "pycharm": {
     "name": "#%%\n"
    }
   },
   "outputs": [
    {
     "data": {
      "image/png": "[encoded data removed]",
      "text/plain": [
       "<Figure size 432x288 with 1 Axes>"
      ]
     },
     "metadata": {
      "needs_background": "light"
     },
     "output_type": "display_data"
    }
   ],
   "source": [
    "%qtconsole\n",
    "import seaborn as sns\n",
    "from matplotlib import pyplot as plt\n",
    "disp_dist = sns.distplot(disp, kde=False )\n",
    "fig = disp_dist.get_figure()\n",
    "fig.savefig('tmp.png')\n",
    "\n",
    "#check that group has at least two members\n",
    "# compute displacement t1-t0 using a numba function"
   ]
  },
  {
   "cell_type": "markdown",
   "metadata": {
    "pycharm": {
     "name": "#%% md\n"
    }
   },
   "source": [
    "# This is a heading\n",
    "## This ia bolder heading\n",
    "\n",
    "This ia To-Do List:\n",
    "  - First item\n",
    "  - Second **bold** item\n",
    "  - Third *italics* item\n",
    "\n",
    " And some block quotes:\n",
    "   > This is a test\n",
    "> of some quoted text\n",
    ">on multiple lines\n",
    "\n",
    "And finally latex\n",
    "\n",
    "$e^{i\\pi} + 1 = 0 $"
   ]
  },
  {
   "cell_type": "code",
   "execution_count": null,
   "metadata": {
    "pycharm": {
     "name": "#%%D md\n"
    }
   },
   "outputs": [],
   "source": []
  }
 ],
 "metadata": {
  "kernelspec": {
   "display_name": "Python 3",
   "language": "python",
   "name": "python3"
  },
  "language_info": {
   "codemirror_mode": {
    "name": "ipython",
    "version": 3
   },
   "file_extension": ".py",
   "mimetype": "text/x-python",
   "name": "python",
   "nbconvert_exporter": "python",
   "pygments_lexer": "ipython3",
   "version": "3.7.7"
  }
 },
 "nbformat": 4,
 "nbformat_minor": 1
}
