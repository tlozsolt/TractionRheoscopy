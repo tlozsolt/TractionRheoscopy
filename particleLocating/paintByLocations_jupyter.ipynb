{
 "cells": [
  {
   "cell_type": "code",
   "execution_count": null,
   "metadata": {
    "collapsed": true,
    "pycharm": {
     "is_executing": true
    }
   },
   "outputs": [],
   "source": [
    "import matplotlib.pyplot as plt\n",
    "import numpy as np \n",
    "import paintByLocations as pbl\n",
    "\n",
    "%matplotlib inline \n",
    "\n",
    "plt.style.use('dark_background')\n",
    "\n",
    "fig, ax = plt.subplots()\n",
    "\n",
    "L = 6\n",
    "x = np.linspace(0, L)\n",
    "ncolors = len(plt.rcParams['axes.prop_cycle'])\n",
    "shift = np.linspace(0, L, ncolors, endpoint=False)\n",
    "for s in shift:\n",
    "    ax.plot(x, np.sin(x + s), 'o-')\n",
    "ax.set_xlabel('x-axis')\n",
    "ax.set_ylabel('y-axis')\n",
    "ax.set_title(\"'dark_background' style sheet\")\n",
    "\n",
    "plt.show()"
   ]
  },
  {
   "cell_type": "code",
   "execution_count": null,
   "outputs": [],
   "source": [
    "import paintByLocations as pbl\n",
    "print(\"This is a little bit like paint by numbers\")\n",
    "# Visuliaze a single glyph box\n",
    "ellipsoid = pbl.particleGlyph([2,2,5],[10,10,10])\n",
    "print(ellipsoid.dim)\n",
    "plt.gray() # set colormap to grayscale default\n",
    "for slice in range(ellipsoid.dim[2]):\n",
    "  #img = Image.fromarray(ellipsoid.glyph[:,:,slice],'L')\n",
    "  #img.show()\n",
    "  plt.imshow(ellipsoid.glyph[:,:,slice])\n",
    "  plt.show()"
   ],
   "metadata": {
    "collapsed": false,
    "pycharm": {
     "name": "#%%\n",
     "is_executing": true
    }
   }
  },
  {
   "cell_type": "code",
   "execution_count": null,
   "outputs": [],
   "source": [
    "import pims\n",
    "path = '/Users/zsolt/Colloid/DATA/DeconvolutionTesting_Huygens_DeconvolutionLab2/OddysseyHashScripting/stitch/smartCrop/smartCrop'\n",
    "v = pims.ImageSequence(path+'/*tif')\n",
    "%matplotlib inline\n"
   ],
   "metadata": {
    "collapsed": false,
    "pycharm": {
     "name": "#%%\n",
     "is_executing": true
    }
   }
  },
  {
   "cell_type": "code",
   "execution_count": null,
   "outputs": [],
   "source": [
    "import imagej\n",
    "from skimage import io\n",
    "ij = imagej.init('/Applications/Fiji.app',headless=False)\n",
    "print(ij.getVersion())\n",
    "#img = io.imread('https://samples.fiji.sc/new-lenna.jpg')\n",
    "#img = np.mean(img[500:1000,300:850], axis=2)\n",
    "ellipsoid = pbl.particleGlyph([2,2,5],[10,10,10])\n",
    "img = ellipsoid\n",
    "ij.py.show(img, cmap = 'gray')"
   ],
   "metadata": {
    "collapsed": false,
    "pycharm": {
     "name": "#%%\n",
     "is_executing": true
    }
   }
  },
  {
   "cell_type": "code",
   "execution_count": null,
   "outputs": [],
   "source": [
    "import flatField\n",
    "testDir = '/Users/zsolt/Colloid/DATA/DeconvolutionTesting_Huygens_DeconvolutionLab2/OddysseyHashScripting/pyFiji/testImages'\n",
    "slicePath = testDir +'/slice8bit.tif'\n",
    "img = flatField.zStack2Mem(slicePath)\n",
    "ij.py.show(img,cmap='gray')"
   ],
   "metadata": {
    "collapsed": false,
    "pycharm": {
     "name": "#%%\n",
     "is_executing": true
    }
   }
  },
  {
   "cell_type": "code",
   "execution_count": null,
   "outputs": [],
   "source": [
    "%classpath config resolver scijava.public https://maven.scijava.org/content/groups/public\n",
    "%%classpath add mvn\n",
    "net.imagej imagej 2.0.0-rc-71\n",
    "net.imagej imagej-notebook 0.7.1\n",
    "ij = new net.imagej.ImageJ()\n",
    "\"ImageJ v${ij.getVersion()} is ready to go.\""
   ],
   "metadata": {
    "collapsed": false,
    "pycharm": {
     "name": "#%%\n",
     "is_executing": true
    }
   }
  },
  {
   "cell_type": "code",
   "execution_count": 3,
   "outputs": [
    {
     "data": {
      "text/plain": "<matplotlib.axes._subplots.AxesSubplot at 0x1a22914198>"
     },
     "metadata": {},
     "output_type": "execute_result",
     "execution_count": 3
    },
    {
     "data": {
      "text/plain": "<Figure size 432x288 with 1 Axes>",
      "image/png": "[encoded data removed]"
     },
     "metadata": {
      "needs_background": "light"
     },
     "output_type": "display_data"
    }
   ],
   "source": [
    "import numpy as np\n",
    "import seaborn as sns\n",
    "import matplotlib.pyplot as plt\n",
    "x = np.random.normal(size=100)\n",
    "sns.distplot(x)"
   ],
   "metadata": {
    "collapsed": false,
    "pycharm": {
     "name": "#%%\n",
     "is_executing": false
    }
   }
  }
 ],
 "metadata": {
  "kernelspec": {
   "display_name": "Python 3",
   "language": "python",
   "name": "python3"
  },
  "language_info": {
   "codemirror_mode": {
    "name": "ipython",
    "version": 2
   },
   "file_extension": ".py",
   "mimetype": "text/x-python",
   "name": "python",
   "nbconvert_exporter": "python",
   "pygments_lexer": "ipython2",
   "version": "2.7.6"
  },
  "pycharm": {
   "stem_cell": {
    "cell_type": "raw",
    "source": [],
    "metadata": {
     "collapsed": false
    }
   }
  }
 },
 "nbformat": 4,
 "nbformat_minor": 0
}