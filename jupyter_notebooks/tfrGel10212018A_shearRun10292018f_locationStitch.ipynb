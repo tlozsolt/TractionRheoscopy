{
 "cells": [
  {
   "cell_type": "markdown",
   "metadata": {
    "collapsed": true,
    "pycharm": {
     "name": "#%% md\n"
    }
   },
   "source": [
    "# Location stitching script\n",
    "\n",
    ">This script calls particleLocating.locationStitch to stitch\n",
    "> particle locations obtained from decon particle locating.\n",
    "> The files that are read in a csv files that outputted from\n",
    "> particle locating on ODSY and are indexed by hashValue.\n",
    "\n",
    "## Steps\n",
    "1. instantiate a ParticleStitch class (and by inheritance a dpl instance)\n",
    "- for a given timeStep and material, generate a list of all hashValues\n",
    "- instatiate locationStitch.ParticleStitch class\n",
    "- for the given hashValues, stitch their locations\n",
    "- filter the resulting dataFrame by keepBool\n",
    "- save **all** columns of the filtered dataframe to hdf5 file\n",
    "- stream the results for all time steps\n",
    "- after all time steps are complete, run particle linking using tp.link_df and stream from hdf5 data store\n",
    "- carry out the above steps for the other material (sed and gel)\n",
    "- consider archiving this hdf5 store, and splitting into smaller stores by eliminating some columns\n",
    "> this single data store is going to be quite large\n",
    "> and many of the columns are going to be accessed rarely if ever\n",
    "> Additionally, downstream analysis is going to rapdily multiply\n",
    "> the number of columns.\n",
    "> I would regularly access stitched and tracked position data (three columns, plus frame number)\n",
    "> occssionally access three additional column of location uncertainty\n",
    "> and rarely access other metric like mass or signal in order to do quality control on particle\n",
    "> positions (eg is this high strain cluster really high strain or a fluorescent chunk in which\n",
    "> the apparent peak locations are fluctuating.\n"
   ]
  },
  {
   "cell_type": "code",
   "execution_count": 1,
   "metadata": {
    "pycharm": {
     "name": "#%%\n"
    }
   },
   "outputs": [],
   "source": [
    "from importlib import reload\n",
    "import particleLocating\n",
    "from particleLocating.locationStitch import ParticleStitch\n",
    "from importlib import reload\n",
    "reload(particleLocating)\n",
    "\n",
    "yamlPath = '/Users/zsolt/Colloid_git/TractionRheoscopy/metaDataYAML/tfrGel10212018A_shearRun10292018f_metaData.yaml'\n",
    "inst = ParticleStitch(yamlPath)"
   ]
  },
  {
   "cell_type": "code",
   "execution_count": 2,
   "metadata": {
    "pycharm": {
     "name": "#%%\n"
    }
   },
   "outputs": [
    {
     "name": "stderr",
     "output_type": "stream",
     "text": [
      "/Users/zsolt/.conda/envs/TractionRheoscopy/lib/python3.7/site-packages/numba/core/typed_passes.py:314: NumbaPerformanceWarning: \n",
      "The keyword argument 'parallel=True' was specified but no transformation for parallel execution was possible.\n",
      "\n",
      "To find out why, try turning on parallel diagnostics, see http://numba.pydata.org/numba-doc/latest/user/parallel.html#diagnostics for help.\n",
      "\n",
      "File \"../particleLocating/locationStitch.py\", line 189:\n",
      "    @numba.jit(nopython=True, nogil=True, parallel=True)\n",
      "    def minError_flagDouble(pairList, errorList):\n",
      "    ^\n",
      "\n",
      "  state.func_ir.loc))\n",
      "/Users/zsolt/.conda/envs/TractionRheoscopy/lib/python3.7/site-packages/tables/path.py:112: NaturalNameWarning: object name is not a valid Python identifier: 'Frame_0.0'; it does not match the pattern ``^[a-zA-Z_][a-zA-Z0-9_]*$``; you will not be able to use natural naming to access this object; using ``getattr()`` will still work, though\n",
      "  NaturalNameWarning)\n"
     ]
    },
    {
     "ename": "TypeError",
     "evalue": "object of type 'int' has no len()",
     "output_type": "error",
     "traceback": [
      "\u001B[0;31m---------------------------------------------------------------------------\u001B[0m",
      "\u001B[0;31mTypeError\u001B[0m                                 Traceback (most recent call last)",
      "\u001B[0;32m<ipython-input-2-3d86c93cd4cb>\u001B[0m in \u001B[0;36m<module>\u001B[0;34m\u001B[0m\n\u001B[1;32m      7\u001B[0m     \u001B[0mkeep\u001B[0m \u001B[0;34m=\u001B[0m \u001B[0mloc\u001B[0m\u001B[0;34m[\u001B[0m\u001B[0mloc\u001B[0m\u001B[0;34m[\u001B[0m\u001B[0;34m'keepBool'\u001B[0m\u001B[0;34m]\u001B[0m\u001B[0;34m]\u001B[0m\u001B[0;34m\u001B[0m\u001B[0;34m\u001B[0m\u001B[0m\n\u001B[1;32m      8\u001B[0m     \u001B[0moverlap\u001B[0m \u001B[0;34m=\u001B[0m \u001B[0mloc\u001B[0m\u001B[0;34m[\u001B[0m\u001B[0;34m~\u001B[0m\u001B[0mloc\u001B[0m\u001B[0;34m[\u001B[0m\u001B[0;34m'keepBool'\u001B[0m\u001B[0;34m]\u001B[0m\u001B[0;34m]\u001B[0m\u001B[0;34m\u001B[0m\u001B[0;34m\u001B[0m\u001B[0m\n\u001B[0;32m----> 9\u001B[0;31m     \u001B[0minst\u001B[0m\u001B[0;34m.\u001B[0m\u001B[0mdf2h5\u001B[0m\u001B[0;34m(\u001B[0m\u001B[0mkeep\u001B[0m\u001B[0;34m,\u001B[0m\u001B[0;34m'sed'\u001B[0m\u001B[0;34m,\u001B[0m \u001B[0;34m'/Users/zsolt/Colloid/DATA/tfrGel10212018x/tfrGel10212018A_shearRun10292018f/locations_stitch'\u001B[0m\u001B[0;34m)\u001B[0m\u001B[0;34m\u001B[0m\u001B[0;34m\u001B[0m\u001B[0m\n\u001B[0m\u001B[1;32m     10\u001B[0m \u001B[0;34m\u001B[0m\u001B[0m\n",
      "\u001B[0;32m~/Colloid_git/TractionRheoscopy/particleLocating/locationStitch.py\u001B[0m in \u001B[0;36mdf2h5\u001B[0;34m(self, df, mat, stem)\u001B[0m\n\u001B[1;32m    295\u001B[0m         \u001B[0mfName\u001B[0m \u001B[0;34m+=\u001B[0m\u001B[0;34m'_{}_stitched.h5'\u001B[0m\u001B[0;34m.\u001B[0m\u001B[0mformat\u001B[0m\u001B[0;34m(\u001B[0m\u001B[0mmat\u001B[0m\u001B[0;34m)\u001B[0m\u001B[0;34m\u001B[0m\u001B[0;34m\u001B[0m\u001B[0m\n\u001B[1;32m    296\u001B[0m         \u001B[0;32mwith\u001B[0m \u001B[0mtp\u001B[0m\u001B[0;34m.\u001B[0m\u001B[0mPandasHDFStore\u001B[0m\u001B[0;34m(\u001B[0m\u001B[0mstem\u001B[0m\u001B[0;34m+\u001B[0m\u001B[0;34m'/{}'\u001B[0m\u001B[0;34m.\u001B[0m\u001B[0mformat\u001B[0m\u001B[0;34m(\u001B[0m\u001B[0mfName\u001B[0m\u001B[0;34m)\u001B[0m\u001B[0;34m)\u001B[0m \u001B[0;32mas\u001B[0m \u001B[0ms\u001B[0m\u001B[0;34m:\u001B[0m\u001B[0;34m\u001B[0m\u001B[0;34m\u001B[0m\u001B[0m\n\u001B[0;32m--> 297\u001B[0;31m             \u001B[0ms\u001B[0m\u001B[0;34m.\u001B[0m\u001B[0mput\u001B[0m\u001B[0;34m(\u001B[0m\u001B[0mdf\u001B[0m\u001B[0;34m)\u001B[0m\u001B[0;34m\u001B[0m\u001B[0;34m\u001B[0m\u001B[0m\n\u001B[0m\u001B[1;32m    298\u001B[0m         \u001B[0;32mreturn\u001B[0m \u001B[0mstem\u001B[0m\u001B[0;34m+\u001B[0m\u001B[0;34m'/{}'\u001B[0m\u001B[0;34m.\u001B[0m\u001B[0mformat\u001B[0m\u001B[0;34m(\u001B[0m\u001B[0mfName\u001B[0m\u001B[0;34m)\u001B[0m\u001B[0;34m\u001B[0m\u001B[0;34m\u001B[0m\u001B[0m\n\u001B[1;32m    299\u001B[0m \u001B[0;34m\u001B[0m\u001B[0m\n",
      "\u001B[0;32m~/Colloid_git/TractionRheoscopy/trackpy/trackpy/framewise_data.py\u001B[0m in \u001B[0;36mput\u001B[0;34m(self, df)\u001B[0m\n\u001B[1;32m    137\u001B[0m         \u001B[0;32mexcept\u001B[0m \u001B[0mKeyError\u001B[0m\u001B[0;34m:\u001B[0m\u001B[0;34m\u001B[0m\u001B[0;34m\u001B[0m\u001B[0m\n\u001B[1;32m    138\u001B[0m             \u001B[0;32mpass\u001B[0m\u001B[0;34m\u001B[0m\u001B[0;34m\u001B[0m\u001B[0m\n\u001B[0;32m--> 139\u001B[0;31m         \u001B[0mself\u001B[0m\u001B[0;34m.\u001B[0m\u001B[0mstore\u001B[0m\u001B[0;34m.\u001B[0m\u001B[0mput\u001B[0m\u001B[0;34m(\u001B[0m\u001B[0mkey\u001B[0m\u001B[0;34m,\u001B[0m \u001B[0mdf\u001B[0m\u001B[0;34m,\u001B[0m \u001B[0mformat\u001B[0m\u001B[0;34m=\u001B[0m\u001B[0;34m'table'\u001B[0m\u001B[0;34m)\u001B[0m\u001B[0;34m\u001B[0m\u001B[0;34m\u001B[0m\u001B[0m\n\u001B[0m\u001B[1;32m    140\u001B[0m \u001B[0;34m\u001B[0m\u001B[0m\n\u001B[1;32m    141\u001B[0m     \u001B[0;32mdef\u001B[0m \u001B[0mget\u001B[0m\u001B[0;34m(\u001B[0m\u001B[0mself\u001B[0m\u001B[0;34m,\u001B[0m \u001B[0mframe_no\u001B[0m\u001B[0;34m)\u001B[0m\u001B[0;34m:\u001B[0m\u001B[0;34m\u001B[0m\u001B[0;34m\u001B[0m\u001B[0m\n",
      "\u001B[0;32m~/.conda/envs/TractionRheoscopy/lib/python3.7/site-packages/pandas/io/pytables.py\u001B[0m in \u001B[0;36mput\u001B[0;34m(self, key, value, format, index, append, complib, complevel, min_itemsize, nan_rep, data_columns, encoding, errors)\u001B[0m\n\u001B[1;32m   1040\u001B[0m             \u001B[0mdata_columns\u001B[0m\u001B[0;34m=\u001B[0m\u001B[0mdata_columns\u001B[0m\u001B[0;34m,\u001B[0m\u001B[0;34m\u001B[0m\u001B[0;34m\u001B[0m\u001B[0m\n\u001B[1;32m   1041\u001B[0m             \u001B[0mencoding\u001B[0m\u001B[0;34m=\u001B[0m\u001B[0mencoding\u001B[0m\u001B[0;34m,\u001B[0m\u001B[0;34m\u001B[0m\u001B[0;34m\u001B[0m\u001B[0m\n\u001B[0;32m-> 1042\u001B[0;31m             \u001B[0merrors\u001B[0m\u001B[0;34m=\u001B[0m\u001B[0merrors\u001B[0m\u001B[0;34m,\u001B[0m\u001B[0;34m\u001B[0m\u001B[0;34m\u001B[0m\u001B[0m\n\u001B[0m\u001B[1;32m   1043\u001B[0m         )\n\u001B[1;32m   1044\u001B[0m \u001B[0;34m\u001B[0m\u001B[0m\n",
      "\u001B[0;32m~/.conda/envs/TractionRheoscopy/lib/python3.7/site-packages/pandas/io/pytables.py\u001B[0m in \u001B[0;36m_write_to_group\u001B[0;34m(self, key, value, format, axes, index, append, complib, complevel, fletcher32, min_itemsize, chunksize, expectedrows, dropna, nan_rep, data_columns, encoding, errors)\u001B[0m\n\u001B[1;32m   1707\u001B[0m             \u001B[0mdropna\u001B[0m\u001B[0;34m=\u001B[0m\u001B[0mdropna\u001B[0m\u001B[0;34m,\u001B[0m\u001B[0;34m\u001B[0m\u001B[0;34m\u001B[0m\u001B[0m\n\u001B[1;32m   1708\u001B[0m             \u001B[0mnan_rep\u001B[0m\u001B[0;34m=\u001B[0m\u001B[0mnan_rep\u001B[0m\u001B[0;34m,\u001B[0m\u001B[0;34m\u001B[0m\u001B[0;34m\u001B[0m\u001B[0m\n\u001B[0;32m-> 1709\u001B[0;31m             \u001B[0mdata_columns\u001B[0m\u001B[0;34m=\u001B[0m\u001B[0mdata_columns\u001B[0m\u001B[0;34m,\u001B[0m\u001B[0;34m\u001B[0m\u001B[0;34m\u001B[0m\u001B[0m\n\u001B[0m\u001B[1;32m   1710\u001B[0m         )\n\u001B[1;32m   1711\u001B[0m \u001B[0;34m\u001B[0m\u001B[0m\n",
      "\u001B[0;32m~/.conda/envs/TractionRheoscopy/lib/python3.7/site-packages/pandas/io/pytables.py\u001B[0m in \u001B[0;36mwrite\u001B[0;34m(self, obj, axes, append, complib, complevel, fletcher32, min_itemsize, chunksize, expectedrows, dropna, nan_rep, data_columns)\u001B[0m\n\u001B[1;32m   4141\u001B[0m             \u001B[0mmin_itemsize\u001B[0m\u001B[0;34m=\u001B[0m\u001B[0mmin_itemsize\u001B[0m\u001B[0;34m,\u001B[0m\u001B[0;34m\u001B[0m\u001B[0;34m\u001B[0m\u001B[0m\n\u001B[1;32m   4142\u001B[0m             \u001B[0mnan_rep\u001B[0m\u001B[0;34m=\u001B[0m\u001B[0mnan_rep\u001B[0m\u001B[0;34m,\u001B[0m\u001B[0;34m\u001B[0m\u001B[0;34m\u001B[0m\u001B[0m\n\u001B[0;32m-> 4143\u001B[0;31m             \u001B[0mdata_columns\u001B[0m\u001B[0;34m=\u001B[0m\u001B[0mdata_columns\u001B[0m\u001B[0;34m,\u001B[0m\u001B[0;34m\u001B[0m\u001B[0;34m\u001B[0m\u001B[0m\n\u001B[0m\u001B[1;32m   4144\u001B[0m         )\n\u001B[1;32m   4145\u001B[0m \u001B[0;34m\u001B[0m\u001B[0m\n",
      "\u001B[0;32m~/.conda/envs/TractionRheoscopy/lib/python3.7/site-packages/pandas/io/pytables.py\u001B[0m in \u001B[0;36m_create_axes\u001B[0;34m(self, axes, obj, validate, nan_rep, data_columns, min_itemsize)\u001B[0m\n\u001B[1;32m   3811\u001B[0m                 \u001B[0mnan_rep\u001B[0m\u001B[0;34m=\u001B[0m\u001B[0mnan_rep\u001B[0m\u001B[0;34m,\u001B[0m\u001B[0;34m\u001B[0m\u001B[0;34m\u001B[0m\u001B[0m\n\u001B[1;32m   3812\u001B[0m                 \u001B[0mencoding\u001B[0m\u001B[0;34m=\u001B[0m\u001B[0mself\u001B[0m\u001B[0;34m.\u001B[0m\u001B[0mencoding\u001B[0m\u001B[0;34m,\u001B[0m\u001B[0;34m\u001B[0m\u001B[0;34m\u001B[0m\u001B[0m\n\u001B[0;32m-> 3813\u001B[0;31m                 \u001B[0merrors\u001B[0m\u001B[0;34m=\u001B[0m\u001B[0mself\u001B[0m\u001B[0;34m.\u001B[0m\u001B[0merrors\u001B[0m\u001B[0;34m,\u001B[0m\u001B[0;34m\u001B[0m\u001B[0;34m\u001B[0m\u001B[0m\n\u001B[0m\u001B[1;32m   3814\u001B[0m             )\n\u001B[1;32m   3815\u001B[0m             \u001B[0madj_name\u001B[0m \u001B[0;34m=\u001B[0m \u001B[0m_maybe_adjust_name\u001B[0m\u001B[0;34m(\u001B[0m\u001B[0mnew_name\u001B[0m\u001B[0;34m,\u001B[0m \u001B[0mself\u001B[0m\u001B[0;34m.\u001B[0m\u001B[0mversion\u001B[0m\u001B[0;34m)\u001B[0m\u001B[0;34m\u001B[0m\u001B[0;34m\u001B[0m\u001B[0m\n",
      "\u001B[0;32m~/.conda/envs/TractionRheoscopy/lib/python3.7/site-packages/pandas/io/pytables.py\u001B[0m in \u001B[0;36m_maybe_convert_for_string_atom\u001B[0;34m(name, block, existing_col, min_itemsize, nan_rep, encoding, errors)\u001B[0m\n\u001B[1;32m   4798\u001B[0m         \u001B[0;31m# we cannot serialize this data, so report an exception on a column\u001B[0m\u001B[0;34m\u001B[0m\u001B[0;34m\u001B[0m\u001B[0;34m\u001B[0m\u001B[0m\n\u001B[1;32m   4799\u001B[0m         \u001B[0;31m# by column basis\u001B[0m\u001B[0;34m\u001B[0m\u001B[0;34m\u001B[0m\u001B[0;34m\u001B[0m\u001B[0m\n\u001B[0;32m-> 4800\u001B[0;31m         \u001B[0;32mfor\u001B[0m \u001B[0mi\u001B[0m \u001B[0;32min\u001B[0m \u001B[0mrange\u001B[0m\u001B[0;34m(\u001B[0m\u001B[0mlen\u001B[0m\u001B[0;34m(\u001B[0m\u001B[0mblock\u001B[0m\u001B[0;34m.\u001B[0m\u001B[0mshape\u001B[0m\u001B[0;34m[\u001B[0m\u001B[0;36m0\u001B[0m\u001B[0;34m]\u001B[0m\u001B[0;34m)\u001B[0m\u001B[0;34m)\u001B[0m\u001B[0;34m:\u001B[0m\u001B[0;34m\u001B[0m\u001B[0;34m\u001B[0m\u001B[0m\n\u001B[0m\u001B[1;32m   4801\u001B[0m \u001B[0;34m\u001B[0m\u001B[0m\n\u001B[1;32m   4802\u001B[0m             \u001B[0mcol\u001B[0m \u001B[0;34m=\u001B[0m \u001B[0mblock\u001B[0m\u001B[0;34m.\u001B[0m\u001B[0miget\u001B[0m\u001B[0;34m(\u001B[0m\u001B[0mi\u001B[0m\u001B[0;34m)\u001B[0m\u001B[0;34m\u001B[0m\u001B[0;34m\u001B[0m\u001B[0m\n",
      "\u001B[0;31mTypeError\u001B[0m: object of type 'int' has no len()"
     ]
    }
   ],
   "source": [
    "timeRange = range(inst.dpl.metaData['hashDimensions']['timeSteps']+1)\n",
    "timeRange = range(0,1)\n",
    "for t in timeRange:\n",
    "    hvList_sed, hvList_gel = inst.dpl.time2HVList(t,'sed'), inst.dpl.time2HVList(t,'gel')\n",
    "    inst.stitch(hvList_sed)\n",
    "    loc = inst.locations\n",
    "    keep = loc[loc['keepBool']]\n",
    "    overlap = loc[~loc['keepBool']]\n",
    "    inst.df2h5(keep,'sed', '/Users/zsolt/Colloid/DATA/tfrGel10212018x/tfrGel10212018A_shearRun10292018f/locations_stitch')"
   ]
  },
  {
   "cell_type": "code",
   "execution_count": 4,
   "metadata": {
    "pycharm": {
     "name": "#%%\n"
    }
   },
   "outputs": [
    {
     "data": {
      "text/plain": "pandas.core.frame.DataFrame"
     },
     "execution_count": 4,
     "metadata": {},
     "output_type": "execute_result"
    }
   ],
   "source": [
    "type(  keep)\n"
   ]
  },
  {
   "cell_type": "code",
   "execution_count": null,
   "metadata": {
    "pycharm": {
     "name": "#%%\n"
    }
   },
   "outputs": [],
   "source": [
    "\n"
   ]
  },
  {
   "cell_type": "code",
   "execution_count": null,
   "metadata": {
    "pycharm": {
     "name": "#%%\n"
    }
   },
   "outputs": [],
   "source": [
    "import trackpy as tp\n",
    "with tp.PandasHDFStore('/Users/zsolt/Colloid/DATA/tfrGel10212018x/tfrGel10212018A_shearRun10292018f/locations_stitch/tfrGel10212018A_shearRun10292018f_sed_stitched.h5') as s:\n",
    "    s.put(keep)\n",
    "\n"
   ]
  },
  {
   "cell_type": "code",
   "execution_count": null,
   "outputs": [],
   "source": [],
   "metadata": {
    "collapsed": false,
    "pycharm": {
     "name": "#%%\n"
    }
   }
  },
  {
   "cell_type": "code",
   "execution_count": null,
   "outputs": [],
   "source": [],
   "metadata": {
    "collapsed": false,
    "pycharm": {
     "name": "#%%\n"
    }
   }
  },
  {
   "cell_type": "code",
   "execution_count": null,
   "outputs": [],
   "source": [],
   "metadata": {
    "collapsed": false,
    "pycharm": {
     "name": "#%%\n"
    }
   }
  },
  {
   "cell_type": "code",
   "execution_count": null,
   "outputs": [],
   "source": [],
   "metadata": {
    "collapsed": false,
    "pycharm": {
     "name": "#%%\n"
    }
   }
  },
  {
   "cell_type": "code",
   "execution_count": null,
   "metadata": {},
   "outputs": [],
   "source": []
  }
 ],
 "metadata": {
  "kernelspec": {
   "display_name": "Python 3",
   "language": "python",
   "name": "python3"
  },
  "language_info": {
   "codemirror_mode": {
    "name": "ipython",
    "version": 3
   },
   "file_extension": ".py",
   "mimetype": "text/x-python",
   "name": "python",
   "nbconvert_exporter": "python",
   "pygments_lexer": "ipython3",
   "version": "3.7.7"
  }
 },
 "nbformat": 4,
 "nbformat_minor": 1
}