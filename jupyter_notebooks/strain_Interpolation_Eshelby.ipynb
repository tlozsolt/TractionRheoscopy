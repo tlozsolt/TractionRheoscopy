{
 "cells": [
  {
   "cell_type": "code",
   "execution_count": 1,
   "metadata": {},
   "outputs": [],
   "source": [
    "import sys\n",
    "sys.path.extend(['/Users/zsolt/Colloid_git/TractionRheoscopy'])\n",
    "from data_analysis import static as da\n",
    "import seaborn as sns\n",
    "from matplotlib import pyplot as plt\n",
    "import pandas as pd\n",
    "from importlib import reload\n",
    "import numpy as np"
   ]
  },
  {
   "cell_type": "code",
   "execution_count": 2,
   "metadata": {},
   "outputs": [],
   "source": [
    "hdf_stem = '/Users/zsolt/Colloid/DATA/tfrGel10212018x/tfrGel10212018A_shearRun10292018f/locations_stitch/'\n",
    "sed_fName = 'tfrGel10212018A_shearRun10292018f_sed_stitched.h5'\n",
    "gel_fName = 'tfrGel10212018A_shearRun10292018f_gel_stitched.h5'\n",
    "\n",
    "figPath = '/Users/zsolt/Colloid/DATA/tfrGel10212018x/tfrGel10212018A_shearRun10292018f/plots'"
   ]
  },
  {
   "cell_type": "code",
   "execution_count": 3,
   "metadata": {},
   "outputs": [],
   "source": [
    "sedPos = da.loadData2Mem(hdf_stem + sed_fName)"
   ]
  },
  {
   "cell_type": "code",
   "execution_count": 4,
   "metadata": {},
   "outputs": [],
   "source": [
    "sed_strainTraj_dt3 = pd.read_hdf(hdf_stem + '/{}'.format('tfrGel10212018A_shearRun10292018f_sed_strainTraj_dt3.h5'))"
   ]
  },
  {
   "cell_type": "markdown",
   "metadata": {},
   "source": [
    "## Interpolate the strain in 3D using linear nearest neighbor"
   ]
  },
  {
   "cell_type": "code",
   "execution_count": 5,
   "metadata": {},
   "outputs": [
    {
     "data": {
      "text/html": [
       "<div>\n",
       "<style scoped>\n",
       "    .dataframe tbody tr th:only-of-type {\n",
       "        vertical-align: middle;\n",
       "    }\n",
       "\n",
       "    .dataframe tbody tr th {\n",
       "        vertical-align: top;\n",
       "    }\n",
       "\n",
       "    .dataframe thead th {\n",
       "        text-align: right;\n",
       "    }\n",
       "</style>\n",
       "<table border=\"1\" class=\"dataframe\">\n",
       "  <thead>\n",
       "    <tr style=\"text-align: right;\">\n",
       "      <th></th>\n",
       "      <th></th>\n",
       "      <th>(0,1)</th>\n",
       "      <th>(0,3)</th>\n",
       "      <th>(1,4)</th>\n",
       "      <th>(2,5)</th>\n",
       "      <th>(3,6)</th>\n",
       "      <th>(4,7)</th>\n",
       "      <th>(5,8)</th>\n",
       "      <th>(6,9)</th>\n",
       "      <th>(7,10)</th>\n",
       "      <th>(8,11)</th>\n",
       "      <th>...</th>\n",
       "      <th>(77,80)</th>\n",
       "      <th>(78,81)</th>\n",
       "      <th>(79,82)</th>\n",
       "      <th>(80,83)</th>\n",
       "      <th>(81,84)</th>\n",
       "      <th>(82,85)</th>\n",
       "      <th>(83,86)</th>\n",
       "      <th>(84,87)</th>\n",
       "      <th>(85,88)</th>\n",
       "      <th>(86,89)</th>\n",
       "    </tr>\n",
       "    <tr>\n",
       "      <th>particle</th>\n",
       "      <th>values</th>\n",
       "      <th></th>\n",
       "      <th></th>\n",
       "      <th></th>\n",
       "      <th></th>\n",
       "      <th></th>\n",
       "      <th></th>\n",
       "      <th></th>\n",
       "      <th></th>\n",
       "      <th></th>\n",
       "      <th></th>\n",
       "      <th></th>\n",
       "      <th></th>\n",
       "      <th></th>\n",
       "      <th></th>\n",
       "      <th></th>\n",
       "      <th></th>\n",
       "      <th></th>\n",
       "      <th></th>\n",
       "      <th></th>\n",
       "      <th></th>\n",
       "      <th></th>\n",
       "    </tr>\n",
       "  </thead>\n",
       "  <tbody>\n",
       "    <tr>\n",
       "      <th rowspan=\"5\" valign=\"top\">0</th>\n",
       "      <th>D2_min</th>\n",
       "      <td>0.176064</td>\n",
       "      <td>NaN</td>\n",
       "      <td>NaN</td>\n",
       "      <td>NaN</td>\n",
       "      <td>NaN</td>\n",
       "      <td>NaN</td>\n",
       "      <td>NaN</td>\n",
       "      <td>NaN</td>\n",
       "      <td>NaN</td>\n",
       "      <td>NaN</td>\n",
       "      <td>...</td>\n",
       "      <td>NaN</td>\n",
       "      <td>NaN</td>\n",
       "      <td>NaN</td>\n",
       "      <td>NaN</td>\n",
       "      <td>NaN</td>\n",
       "      <td>NaN</td>\n",
       "      <td>NaN</td>\n",
       "      <td>NaN</td>\n",
       "      <td>NaN</td>\n",
       "      <td>NaN</td>\n",
       "    </tr>\n",
       "    <tr>\n",
       "      <th>exx</th>\n",
       "      <td>0.016755</td>\n",
       "      <td>NaN</td>\n",
       "      <td>NaN</td>\n",
       "      <td>NaN</td>\n",
       "      <td>NaN</td>\n",
       "      <td>NaN</td>\n",
       "      <td>NaN</td>\n",
       "      <td>NaN</td>\n",
       "      <td>NaN</td>\n",
       "      <td>NaN</td>\n",
       "      <td>...</td>\n",
       "      <td>NaN</td>\n",
       "      <td>NaN</td>\n",
       "      <td>NaN</td>\n",
       "      <td>NaN</td>\n",
       "      <td>NaN</td>\n",
       "      <td>NaN</td>\n",
       "      <td>NaN</td>\n",
       "      <td>NaN</td>\n",
       "      <td>NaN</td>\n",
       "      <td>NaN</td>\n",
       "    </tr>\n",
       "    <tr>\n",
       "      <th>exy</th>\n",
       "      <td>-0.005082</td>\n",
       "      <td>NaN</td>\n",
       "      <td>NaN</td>\n",
       "      <td>NaN</td>\n",
       "      <td>NaN</td>\n",
       "      <td>NaN</td>\n",
       "      <td>NaN</td>\n",
       "      <td>NaN</td>\n",
       "      <td>NaN</td>\n",
       "      <td>NaN</td>\n",
       "      <td>...</td>\n",
       "      <td>NaN</td>\n",
       "      <td>NaN</td>\n",
       "      <td>NaN</td>\n",
       "      <td>NaN</td>\n",
       "      <td>NaN</td>\n",
       "      <td>NaN</td>\n",
       "      <td>NaN</td>\n",
       "      <td>NaN</td>\n",
       "      <td>NaN</td>\n",
       "      <td>NaN</td>\n",
       "    </tr>\n",
       "    <tr>\n",
       "      <th>exz</th>\n",
       "      <td>0.009494</td>\n",
       "      <td>NaN</td>\n",
       "      <td>NaN</td>\n",
       "      <td>NaN</td>\n",
       "      <td>NaN</td>\n",
       "      <td>NaN</td>\n",
       "      <td>NaN</td>\n",
       "      <td>NaN</td>\n",
       "      <td>NaN</td>\n",
       "      <td>NaN</td>\n",
       "      <td>...</td>\n",
       "      <td>NaN</td>\n",
       "      <td>NaN</td>\n",
       "      <td>NaN</td>\n",
       "      <td>NaN</td>\n",
       "      <td>NaN</td>\n",
       "      <td>NaN</td>\n",
       "      <td>NaN</td>\n",
       "      <td>NaN</td>\n",
       "      <td>NaN</td>\n",
       "      <td>NaN</td>\n",
       "    </tr>\n",
       "    <tr>\n",
       "      <th>eyy</th>\n",
       "      <td>-0.010655</td>\n",
       "      <td>NaN</td>\n",
       "      <td>NaN</td>\n",
       "      <td>NaN</td>\n",
       "      <td>NaN</td>\n",
       "      <td>NaN</td>\n",
       "      <td>NaN</td>\n",
       "      <td>NaN</td>\n",
       "      <td>NaN</td>\n",
       "      <td>NaN</td>\n",
       "      <td>...</td>\n",
       "      <td>NaN</td>\n",
       "      <td>NaN</td>\n",
       "      <td>NaN</td>\n",
       "      <td>NaN</td>\n",
       "      <td>NaN</td>\n",
       "      <td>NaN</td>\n",
       "      <td>NaN</td>\n",
       "      <td>NaN</td>\n",
       "      <td>NaN</td>\n",
       "      <td>NaN</td>\n",
       "    </tr>\n",
       "  </tbody>\n",
       "</table>\n",
       "<p>5 rows × 88 columns</p>\n",
       "</div>"
      ],
      "text/plain": [
       "                    (0,1)  (0,3)  (1,4)  (2,5)  (3,6)  (4,7)  (5,8)  (6,9)  \\\n",
       "particle values                                                              \n",
       "0        D2_min  0.176064    NaN    NaN    NaN    NaN    NaN    NaN    NaN   \n",
       "         exx     0.016755    NaN    NaN    NaN    NaN    NaN    NaN    NaN   \n",
       "         exy    -0.005082    NaN    NaN    NaN    NaN    NaN    NaN    NaN   \n",
       "         exz     0.009494    NaN    NaN    NaN    NaN    NaN    NaN    NaN   \n",
       "         eyy    -0.010655    NaN    NaN    NaN    NaN    NaN    NaN    NaN   \n",
       "\n",
       "                 (7,10)  (8,11)  ...  (77,80)  (78,81)  (79,82)  (80,83)  \\\n",
       "particle values                  ...                                       \n",
       "0        D2_min     NaN     NaN  ...      NaN      NaN      NaN      NaN   \n",
       "         exx        NaN     NaN  ...      NaN      NaN      NaN      NaN   \n",
       "         exy        NaN     NaN  ...      NaN      NaN      NaN      NaN   \n",
       "         exz        NaN     NaN  ...      NaN      NaN      NaN      NaN   \n",
       "         eyy        NaN     NaN  ...      NaN      NaN      NaN      NaN   \n",
       "\n",
       "                 (81,84)  (82,85)  (83,86)  (84,87)  (85,88)  (86,89)  \n",
       "particle values                                                        \n",
       "0        D2_min      NaN      NaN      NaN      NaN      NaN      NaN  \n",
       "         exx         NaN      NaN      NaN      NaN      NaN      NaN  \n",
       "         exy         NaN      NaN      NaN      NaN      NaN      NaN  \n",
       "         exz         NaN      NaN      NaN      NaN      NaN      NaN  \n",
       "         eyy         NaN      NaN      NaN      NaN      NaN      NaN  \n",
       "\n",
       "[5 rows x 88 columns]"
      ]
     },
     "execution_count": 5,
     "metadata": {},
     "output_type": "execute_result"
    }
   ],
   "source": [
    "sed_strainTraj_dt3.head()"
   ]
  },
  {
   "cell_type": "code",
   "execution_count": 144,
   "metadata": {},
   "outputs": [],
   "source": [
    "strain_exz = sed_strainTraj_dt3.loc[(slice(None),'exz'),:]['(0,1)'].unstack().dropna()\n",
    "idx = strain_exz.index"
   ]
  },
  {
   "cell_type": "code",
   "execution_count": 145,
   "metadata": {},
   "outputs": [],
   "source": [
    "pts = sedPos.loc[(0,slice(None))][['x (um, imageStack)', 'y (um, imageStack)', 'z (um, imageStack)']].loc[idx]"
   ]
  },
  {
   "cell_type": "code",
   "execution_count": 172,
   "metadata": {},
   "outputs": [],
   "source": [
    "xx,yy,zz = np.mgrid[10:230:0.7,10:230:0.7,35:70:0.7]"
   ]
  },
  {
   "cell_type": "code",
   "execution_count": 147,
   "metadata": {},
   "outputs": [],
   "source": [
    "from scipy import interpolate"
   ]
  },
  {
   "cell_type": "code",
   "execution_count": 148,
   "metadata": {},
   "outputs": [],
   "source": [
    "pts_np = np.array([pts[key].to_numpy() for key in ['x (um, imageStack)', 'y (um, imageStack)', 'z (um, imageStack)']])"
   ]
  },
  {
   "cell_type": "code",
   "execution_count": 173,
   "metadata": {},
   "outputs": [],
   "source": [
    "strain_interp = interpolate.griddata(np.transpose(pts_np), strain_exz.to_numpy().squeeze(),(xx,yy,zz),method='linear')"
   ]
  },
  {
   "cell_type": "code",
   "execution_count": 174,
   "metadata": {},
   "outputs": [
    {
     "data": {
      "text/plain": [
       "(0,)"
      ]
     },
     "execution_count": 174,
     "metadata": {},
     "output_type": "execute_result"
    }
   ],
   "source": [
    "strain_interp[np.isnan(strain_interp)].shape "
   ]
  },
  {
   "cell_type": "code",
   "execution_count": 175,
   "metadata": {},
   "outputs": [
    {
     "data": {
      "text/plain": [
       "(4961250,)"
      ]
     },
     "execution_count": 175,
     "metadata": {},
     "output_type": "execute_result"
    }
   ],
   "source": [
    "strain_interp[~np.isnan(strain_interp)].shape"
   ]
  },
  {
   "cell_type": "markdown",
   "metadata": {},
   "source": [
    "## Write a correlation function with limited shift range"
   ]
  },
  {
   "cell_type": "code",
   "execution_count": 181,
   "metadata": {},
   "outputs": [],
   "source": [
    "import numba\n",
    "from data_analysis import test as eshelby\n",
    "from particleLocating import curvatureFilter"
   ]
  },
  {
   "cell_type": "code",
   "execution_count": null,
   "metadata": {},
   "outputs": [],
   "source": [
    "@numba.jit(nopython=True)\n",
    "def xcorr(a,b,k):\n",
    "    \"\"\"\n",
    "    Computes the correlation between arrays a and b as a function of shift\n",
    "    vectors k. \n",
    "    \"\"\"\n",
    "    out = np.zeros(k)\n",
    "    for kx in range(-1*k[2], k[2]+1):\n",
    "        for ky in range(-1*k[1], k[1]+1):\n",
    "            for kz in range(-1*k[0], k[0]+1):\n",
    "                # shift b and crop \n",
    "                out[kz,ky,kx] = \n",
    "                "
   ]
  },
  {
   "cell_type": "code",
   "execution_count": 178,
   "metadata": {},
   "outputs": [
    {
     "name": "stdout",
     "output_type": "stream",
     "text": [
      "-2\n",
      "-1\n",
      "0\n",
      "1\n"
     ]
    }
   ],
   "source": [
    "for n in range(-2,2): print(n)"
   ]
  },
  {
   "cell_type": "code",
   "execution_count": null,
   "metadata": {},
   "outputs": [],
   "source": []
  },
  {
   "cell_type": "code",
   "execution_count": null,
   "metadata": {},
   "outputs": [],
   "source": []
  },
  {
   "cell_type": "code",
   "execution_count": null,
   "metadata": {},
   "outputs": [],
   "source": []
  },
  {
   "cell_type": "code",
   "execution_count": null,
   "metadata": {},
   "outputs": [],
   "source": []
  },
  {
   "cell_type": "markdown",
   "metadata": {},
   "source": [
    "## Test of interpolate.griddata"
   ]
  },
  {
   "cell_type": "code",
   "execution_count": 101,
   "metadata": {},
   "outputs": [],
   "source": [
    "def g(x,y,z): return x*y*z\n",
    "pts = np.random.rand(10,3)\n",
    "val = g(pts[:,1],pts[:,1],pts[:,2])"
   ]
  },
  {
   "cell_type": "code",
   "execution_count": 103,
   "metadata": {},
   "outputs": [
    {
     "data": {
      "text/plain": [
       "array([4.18714336e-01, 3.17938028e-02, 2.04266261e-01, 8.63596029e-07,\n",
       "       3.73227876e-01, 7.50051477e-04, 5.38846839e-02, 1.95185091e-01,\n",
       "       1.33393900e-01, 7.22172852e-02])"
      ]
     },
     "execution_count": 103,
     "metadata": {},
     "output_type": "execute_result"
    }
   ],
   "source": [
    "val"
   ]
  },
  {
   "cell_type": "code",
   "execution_count": 105,
   "metadata": {},
   "outputs": [],
   "source": [
    "xx,yy,zz = np.mgrid[0:1:0.1, 0:1:0.1,0:1:0.1]"
   ]
  },
  {
   "cell_type": "code",
   "execution_count": 109,
   "metadata": {},
   "outputs": [
    {
     "data": {
      "text/plain": [
       "(10, 3)"
      ]
     },
     "execution_count": 109,
     "metadata": {},
     "output_type": "execute_result"
    }
   ],
   "source": [
    "pts.shape"
   ]
  },
  {
   "cell_type": "code",
   "execution_count": 106,
   "metadata": {},
   "outputs": [
    {
     "data": {
      "text/plain": [
       "array([[[       nan,        nan,        nan,        nan,        nan,\n",
       "                nan,        nan,        nan,        nan,        nan],\n",
       "        [       nan,        nan,        nan,        nan,        nan,\n",
       "                nan,        nan,        nan,        nan,        nan],\n",
       "        [       nan,        nan,        nan,        nan,        nan,\n",
       "                nan,        nan,        nan,        nan,        nan],\n",
       "        [       nan,        nan,        nan,        nan,        nan,\n",
       "                nan,        nan,        nan,        nan,        nan],\n",
       "        [       nan,        nan,        nan,        nan,        nan,\n",
       "                nan,        nan,        nan,        nan,        nan],\n",
       "        [       nan,        nan,        nan,        nan,        nan,\n",
       "                nan,        nan,        nan,        nan,        nan],\n",
       "        [       nan,        nan,        nan,        nan,        nan,\n",
       "                nan,        nan,        nan,        nan,        nan],\n",
       "        [       nan,        nan,        nan,        nan,        nan,\n",
       "                nan,        nan,        nan,        nan,        nan],\n",
       "        [       nan,        nan,        nan,        nan,        nan,\n",
       "                nan,        nan,        nan,        nan,        nan],\n",
       "        [       nan,        nan,        nan,        nan,        nan,\n",
       "                nan,        nan,        nan,        nan,        nan]],\n",
       "\n",
       "       [[       nan,        nan,        nan,        nan,        nan,\n",
       "                nan,        nan,        nan,        nan,        nan],\n",
       "        [       nan,        nan,        nan,        nan,        nan,\n",
       "                nan,        nan,        nan,        nan,        nan],\n",
       "        [       nan,        nan,        nan,        nan, 0.04325628,\n",
       "                nan,        nan,        nan,        nan,        nan],\n",
       "        [       nan,        nan,        nan,        nan,        nan,\n",
       "         0.04942199,        nan,        nan,        nan,        nan],\n",
       "        [       nan,        nan,        nan,        nan,        nan,\n",
       "         0.09108879,        nan,        nan,        nan,        nan],\n",
       "        [       nan,        nan,        nan,        nan,        nan,\n",
       "                nan,        nan,        nan,        nan,        nan],\n",
       "        [       nan,        nan,        nan,        nan,        nan,\n",
       "                nan,        nan,        nan,        nan,        nan],\n",
       "        [       nan,        nan,        nan,        nan,        nan,\n",
       "                nan,        nan,        nan,        nan,        nan],\n",
       "        [       nan,        nan,        nan,        nan,        nan,\n",
       "                nan,        nan,        nan,        nan,        nan],\n",
       "        [       nan,        nan,        nan,        nan,        nan,\n",
       "                nan,        nan,        nan,        nan,        nan]],\n",
       "\n",
       "       [[       nan,        nan,        nan,        nan,        nan,\n",
       "                nan,        nan,        nan,        nan,        nan],\n",
       "        [       nan,        nan,        nan,        nan, 0.01501291,\n",
       "         0.01299473,        nan,        nan,        nan,        nan],\n",
       "        [       nan,        nan,        nan,        nan, 0.03830217,\n",
       "         0.03190468,        nan,        nan,        nan,        nan],\n",
       "        [       nan,        nan,        nan,        nan, 0.08615927,\n",
       "         0.05081463, 0.06656393,        nan,        nan,        nan],\n",
       "        [       nan,        nan,        nan,        nan, 0.13401637,\n",
       "         0.08864883, 0.10985092,        nan,        nan,        nan],\n",
       "        [       nan,        nan,        nan,        nan, 0.18187347,\n",
       "         0.14403821,        nan,        nan,        nan,        nan],\n",
       "        [       nan,        nan,        nan,        nan, 0.22973057,\n",
       "         0.20674045,        nan,        nan,        nan,        nan],\n",
       "        [       nan,        nan,        nan,        nan,        nan,\n",
       "                nan,        nan,        nan,        nan,        nan],\n",
       "        [       nan,        nan,        nan,        nan,        nan,\n",
       "                nan,        nan,        nan,        nan,        nan],\n",
       "        [       nan,        nan,        nan,        nan,        nan,\n",
       "                nan,        nan,        nan,        nan,        nan]],\n",
       "\n",
       "       [[       nan,        nan,        nan,        nan,        nan,\n",
       "                nan,        nan,        nan,        nan,        nan],\n",
       "        [       nan,        nan,        nan,        nan,        nan,\n",
       "         0.01438737, 0.01482377,        nan,        nan,        nan],\n",
       "        [       nan,        nan,        nan,        nan, 0.04806393,\n",
       "         0.03329732, 0.03373372,        nan,        nan,        nan],\n",
       "        [       nan,        nan,        nan,        nan, 0.0781108 ,\n",
       "         0.05220726, 0.06751255, 0.08700471,        nan,        nan],\n",
       "        [       nan,        nan,        nan,        nan, 0.12513591,\n",
       "         0.08620886, 0.10175693, 0.1237601 ,        nan,        nan],\n",
       "        [       nan,        nan,        nan,        nan, 0.17216101,\n",
       "         0.14159825, 0.17118365,        nan,        nan,        nan],\n",
       "        [       nan,        nan,        nan,        nan, 0.21918611,\n",
       "         0.19698764, 0.24061038,        nan,        nan,        nan],\n",
       "        [       nan,        nan,        nan,        nan,        nan,\n",
       "         0.25237702,        nan,        nan,        nan,        nan],\n",
       "        [       nan,        nan,        nan,        nan,        nan,\n",
       "         0.33316702,        nan,        nan,        nan,        nan],\n",
       "        [       nan,        nan,        nan,        nan,        nan,\n",
       "                nan,        nan,        nan,        nan,        nan]],\n",
       "\n",
       "       [[       nan,        nan,        nan,        nan,        nan,\n",
       "                nan,        nan,        nan,        nan,        nan],\n",
       "        [       nan,        nan,        nan,        nan,        nan,\n",
       "                nan, 0.01621641, 0.02057939,        nan,        nan],\n",
       "        [       nan,        nan,        nan,        nan,        nan,\n",
       "         0.04218205, 0.03512636, 0.05444326,        nan,        nan],\n",
       "        [       nan,        nan,        nan,        nan,        nan,\n",
       "         0.0535999 , 0.0679488 , 0.08830712,        nan,        nan],\n",
       "        [       nan,        nan,        nan,        nan, 0.11395854,\n",
       "         0.0837689 , 0.10217132, 0.12217099, 0.14130936,        nan],\n",
       "        [       nan,        nan,        nan,        nan, 0.16098364,\n",
       "         0.13915828, 0.15468422, 0.18509284,        nan,        nan],\n",
       "        [       nan,        nan,        nan,        nan,        nan,\n",
       "         0.19454767, 0.23251639, 0.25451956,        nan,        nan],\n",
       "        [       nan,        nan,        nan,        nan,        nan,\n",
       "         0.2632571 , 0.30194311,        nan,        nan,        nan],\n",
       "        [       nan,        nan,        nan,        nan,        nan,\n",
       "         0.33674818, 0.3467025 ,        nan,        nan,        nan],\n",
       "        [       nan,        nan,        nan,        nan,        nan,\n",
       "                nan,        nan,        nan,        nan,        nan]],\n",
       "\n",
       "       [[       nan,        nan,        nan,        nan,        nan,\n",
       "                nan,        nan,        nan,        nan,        nan],\n",
       "        [       nan,        nan,        nan,        nan,        nan,\n",
       "                nan,        nan, 0.02122761,        nan,        nan],\n",
       "        [       nan,        nan,        nan,        nan,        nan,\n",
       "                nan, 0.036519  , 0.05545013, 0.07488404,        nan],\n",
       "        [       nan,        nan,        nan,        nan,        nan,\n",
       "         0.07523308, 0.06838504, 0.08960953, 0.10874791,        nan],\n",
       "        [       nan,        nan,        nan,        nan,        nan,\n",
       "         0.08127839, 0.10203098, 0.1234734 , 0.14261177, 0.16175015],\n",
       "        [       nan,        nan,        nan,        nan, 0.14980627,\n",
       "         0.14561202, 0.15836001, 0.17699654, 0.19900202,        nan],\n",
       "        [       nan,        nan,        nan,        nan,        nan,\n",
       "         0.2100831 , 0.22283109, 0.24598785, 0.26842874,        nan],\n",
       "        [       nan,        nan,        nan,        nan,        nan,\n",
       "         0.27455418, 0.29120646, 0.31497915,        nan,        nan],\n",
       "        [       nan,        nan,        nan,        nan,        nan,\n",
       "         0.33902526,        nan,        nan,        nan,        nan],\n",
       "        [       nan,        nan,        nan,        nan,        nan,\n",
       "                nan,        nan,        nan,        nan,        nan]],\n",
       "\n",
       "       [[       nan,        nan,        nan,        nan,        nan,\n",
       "                nan,        nan,        nan,        nan,        nan],\n",
       "        [       nan,        nan,        nan,        nan,        nan,\n",
       "                nan,        nan,        nan,        nan,        nan],\n",
       "        [       nan,        nan,        nan,        nan,        nan,\n",
       "                nan,        nan, 0.05102126, 0.0379963 ,        nan],\n",
       "        [       nan,        nan,        nan,        nan,        nan,\n",
       "                nan, 0.07520451, 0.06217955, 0.07307828, 0.0938939 ],\n",
       "        [       nan,        nan,        nan,        nan,        nan,\n",
       "         0.1082841 , 0.09170494, 0.10818691, 0.12886707, 0.15017902],\n",
       "        [       nan,        nan,        nan,        nan,        nan,\n",
       "         0.12681357, 0.14329554, 0.16384024, 0.18630755,        nan],\n",
       "        [       nan,        nan,        nan,        nan,        nan,\n",
       "         0.19020919, 0.20775347, 0.23152617,        nan,        nan],\n",
       "        [       nan,        nan,        nan,        nan,        nan,\n",
       "         0.25468027, 0.27674478,        nan,        nan,        nan],\n",
       "        [       nan,        nan,        nan,        nan,        nan,\n",
       "                nan,        nan,        nan,        nan,        nan],\n",
       "        [       nan,        nan,        nan,        nan,        nan,\n",
       "                nan,        nan,        nan,        nan,        nan]],\n",
       "\n",
       "       [[       nan,        nan,        nan,        nan,        nan,\n",
       "                nan,        nan,        nan,        nan,        nan],\n",
       "        [       nan,        nan,        nan,        nan,        nan,\n",
       "                nan,        nan,        nan,        nan,        nan],\n",
       "        [       nan,        nan,        nan,        nan,        nan,\n",
       "                nan,        nan,        nan,        nan,        nan],\n",
       "        [       nan,        nan,        nan,        nan,        nan,\n",
       "                nan,        nan,        nan,        nan,        nan],\n",
       "        [       nan,        nan,        nan,        nan,        nan,\n",
       "                nan,        nan, 0.10326252,        nan,        nan],\n",
       "        [       nan,        nan,        nan,        nan,        nan,\n",
       "         0.14133513, 0.13724013, 0.15789868,        nan,        nan],\n",
       "        [       nan,        nan,        nan,        nan,        nan,\n",
       "         0.17234876, 0.19329179,        nan,        nan,        nan],\n",
       "        [       nan,        nan,        nan,        nan,        nan,\n",
       "         0.2385104 ,        nan,        nan,        nan,        nan],\n",
       "        [       nan,        nan,        nan,        nan,        nan,\n",
       "                nan,        nan,        nan,        nan,        nan],\n",
       "        [       nan,        nan,        nan,        nan,        nan,\n",
       "                nan,        nan,        nan,        nan,        nan]],\n",
       "\n",
       "       [[       nan,        nan,        nan,        nan,        nan,\n",
       "                nan,        nan,        nan,        nan,        nan],\n",
       "        [       nan,        nan,        nan,        nan,        nan,\n",
       "                nan,        nan,        nan,        nan,        nan],\n",
       "        [       nan,        nan,        nan,        nan,        nan,\n",
       "                nan,        nan,        nan,        nan,        nan],\n",
       "        [       nan,        nan,        nan,        nan,        nan,\n",
       "                nan,        nan,        nan,        nan,        nan],\n",
       "        [       nan,        nan,        nan,        nan,        nan,\n",
       "                nan,        nan,        nan,        nan,        nan],\n",
       "        [       nan,        nan,        nan,        nan,        nan,\n",
       "                nan,        nan,        nan,        nan,        nan],\n",
       "        [       nan,        nan,        nan,        nan,        nan,\n",
       "                nan,        nan,        nan,        nan,        nan],\n",
       "        [       nan,        nan,        nan,        nan,        nan,\n",
       "                nan,        nan,        nan,        nan,        nan],\n",
       "        [       nan,        nan,        nan,        nan,        nan,\n",
       "                nan,        nan,        nan,        nan,        nan],\n",
       "        [       nan,        nan,        nan,        nan,        nan,\n",
       "                nan,        nan,        nan,        nan,        nan]],\n",
       "\n",
       "       [[       nan,        nan,        nan,        nan,        nan,\n",
       "                nan,        nan,        nan,        nan,        nan],\n",
       "        [       nan,        nan,        nan,        nan,        nan,\n",
       "                nan,        nan,        nan,        nan,        nan],\n",
       "        [       nan,        nan,        nan,        nan,        nan,\n",
       "                nan,        nan,        nan,        nan,        nan],\n",
       "        [       nan,        nan,        nan,        nan,        nan,\n",
       "                nan,        nan,        nan,        nan,        nan],\n",
       "        [       nan,        nan,        nan,        nan,        nan,\n",
       "                nan,        nan,        nan,        nan,        nan],\n",
       "        [       nan,        nan,        nan,        nan,        nan,\n",
       "                nan,        nan,        nan,        nan,        nan],\n",
       "        [       nan,        nan,        nan,        nan,        nan,\n",
       "                nan,        nan,        nan,        nan,        nan],\n",
       "        [       nan,        nan,        nan,        nan,        nan,\n",
       "                nan,        nan,        nan,        nan,        nan],\n",
       "        [       nan,        nan,        nan,        nan,        nan,\n",
       "                nan,        nan,        nan,        nan,        nan],\n",
       "        [       nan,        nan,        nan,        nan,        nan,\n",
       "                nan,        nan,        nan,        nan,        nan]]])"
      ]
     },
     "execution_count": 106,
     "metadata": {},
     "output_type": "execute_result"
    }
   ],
   "source": [
    "interpolate.griddata(pts,val,(xx,yy,zz))"
   ]
  },
  {
   "cell_type": "code",
   "execution_count": null,
   "metadata": {},
   "outputs": [],
   "source": []
  }
 ],
 "metadata": {
  "kernelspec": {
   "display_name": "Python 3",
   "language": "python",
   "name": "python3"
  },
  "language_info": {
   "codemirror_mode": {
    "name": "ipython",
    "version": 3
   },
   "file_extension": ".py",
   "mimetype": "text/x-python",
   "name": "python",
   "nbconvert_exporter": "python",
   "pygments_lexer": "ipython3",
   "version": "3.7.7"
  }
 },
 "nbformat": 4,
 "nbformat_minor": 4
}
