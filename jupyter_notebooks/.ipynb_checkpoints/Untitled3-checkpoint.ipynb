{
 "cells": [
  {
   "cell_type": "markdown",
   "metadata": {},
   "source": [
    "# Does the rotation code work?\n",
    "- load particle positions at two time points\n",
    "- covert to (um, rheo_sedHeight) coordinates\n",
    "- compute the strain between these two time points\n",
    "- rotate the coordinate system by rotating the particles \n",
    "- compute the strain in the rotated particles \n",
    "- rotate the strains and compare. \n",
    "- These should be the same...like identically the same. "
   ]
  },
  {
   "cell_type": "code",
   "execution_count": 1,
   "metadata": {},
   "outputs": [],
   "source": [
    "# preamble\n",
    "import numpy as np\n",
    "import numba\n",
    "\n",
    "import sys\n",
    "sys.path.extend(['/Users/zsolt/Colloid_git/TractionRheoscopy'])\n",
    "from data_analysis import static as da\n",
    "from data_analysis import grid_track, rotation\n",
    "import pandas as pd\n",
    "import yaml\n",
    "from importlib import reload\n",
    "import seaborn as sns"
   ]
  },
  {
   "cell_type": "markdown",
   "metadata": {},
   "source": [
    "# Load rotation matrix"
   ]
  },
  {
   "cell_type": "code",
   "execution_count": 8,
   "metadata": {},
   "outputs": [
    {
     "name": "stderr",
     "output_type": "stream",
     "text": [
      "/Users/zsolt/.conda/envs/tractionRheoscopy/lib/python3.7/site-packages/ipykernel_launcher.py:11: YAMLLoadWarning: calling yaml.load() without Loader=... is deprecated, as the default Loader is unsafe. Please read https://msg.pyyaml.org/load for full details.\n",
      "  # This is added back by InteractiveShellApp.init_path()\n"
     ]
    }
   ],
   "source": [
    "rotation_yaml = \"\"\"\n",
    "rotationMatrix:\n",
    "    coordStr: (um, rheo_sedHeight)\n",
    "    handed: right\n",
    "    positiveSignature: clockwise\n",
    "    units: degrees\n",
    "    theta_x: 0 # rotation angle about x-axis\n",
    "    theta_y: 0 # rotation angle about y-axis\n",
    "    theta_z: 1.57 # rotation angle about z-axis\n",
    "\"\"\"\n",
    "rotDict = rotation.parseRotYaml(yaml.load(rotation_yaml)['rotationMatrix'])"
   ]
  },
  {
   "cell_type": "markdown",
   "metadata": {},
   "source": [
    "# Load experiment particle position and strain. \n",
    "## make small micro array from sedPos"
   ]
  },
  {
   "cell_type": "code",
   "execution_count": null,
   "metadata": {},
   "outputs": [],
   "source": []
  },
  {
   "cell_type": "code",
   "execution_count": null,
   "metadata": {},
   "outputs": [],
   "source": [
    "expt_dict = da.loadExperiment()\n",
    "sedPos, sedStrain_traj, gelPos = expt_dict['sedPos'], expt_dict['sedStrain_traj'], expt_dict['gelPos']"
   ]
  },
  {
   "cell_type": "code",
   "execution_count": null,
   "metadata": {},
   "outputs": [],
   "source": []
  }
 ],
 "metadata": {
  "kernelspec": {
   "display_name": "tractionRheoscopy",
   "language": "python",
   "name": "tractionrheoscopy"
  },
  "language_info": {
   "codemirror_mode": {
    "name": "ipython",
    "version": 3
   },
   "file_extension": ".py",
   "mimetype": "text/x-python",
   "name": "python",
   "nbconvert_exporter": "python",
   "pygments_lexer": "ipython3",
   "version": "3.7.9"
  }
 },
 "nbformat": 4,
 "nbformat_minor": 4
}
