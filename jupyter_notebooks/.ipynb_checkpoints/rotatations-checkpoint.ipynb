{
 "cells": [
  {
   "cell_type": "markdown",
   "metadata": {},
   "source": [
    "# Rotations\n",
    "\n",
    "## Goal \n",
    "- The goal of this code is to develop rotation matrices/tensors for dealing with the following:\n",
    "- rotate particle positions into parallel and perpendicular shear direction\n",
    "- use rotated particle positions to compute strain applied to boundary\n",
    "- rotate strain measures into parallel and perp directions\n",
    "    - compute strain with rotated particle positions\n",
    "    - rotate strain computed in image coordinates using (essentialy) mohr circle\n",
    "    - explicitly check that these strain measures are identical. \n",
    "- diagonalize the local strain tensor everywhere \n",
    "- compute the rotation vector between two locally diagonal strain tensors (useful for core regions)"
   ]
  },
  {
   "cell_type": "code",
   "execution_count": 3,
   "metadata": {},
   "outputs": [],
   "source": [
    "# preamble \n",
    "import numpy as np\n",
    "import dask.array as da\n",
    "import numba\n",
    "\n",
    "import sys\n",
    "sys.path.extend(['/Users/zsolt/Colloid_git/TractionRheoscopy'])\n",
    "from data_analysis import eshelby_inclusion as slb\n",
    "import tifffile\n",
    "import pandas as pd\n",
    "import dask\n",
    "import yaml"
   ]
  },
  {
   "cell_type": "code",
   "execution_count": 137,
   "metadata": {},
   "outputs": [],
   "source": [
    "# load small data from Aidan. Just two time points\n",
    "def loadParticle(t, path_partial = None, fName_frmt = None):\n",
    "    if path_partial is None: \n",
    "        path_partial = '/Users/zsolt/Colloid/DATA/tfrGel10212018x/tfrGel10212018A_shearRun10292018f/locations_stitch/partial_data_Aidan/'\n",
    "    if fName_frmt is None: \n",
    "        fName_frmt = 'shearRun10292018f_centerParticles_t{:02}.h5'\n",
    "    \n",
    "    pos_t = pd.read_hdf(path_partial + fName_frmt.format(t))\n",
    "    idx_t = pd.MultiIndex.from_product([[t],pos_t.index], names = ['frame', 'particle'] )\n",
    "    \n",
    "    return pos_t.set_index(idx_t)\n",
    "\n",
    "#path_partial = '/Users/zsolt/Colloid/DATA/tfrGel10212018x/tfrGel10212018A_shearRun10292018f/locations_stitch/partial_data_Aidan/'\n",
    "#fName_frmt = 'shearRun10292018f_centerParticles_t{:02}.h5'\n",
    "\n",
    "posList = []\n",
    "for t in range(3):\n",
    "    posList.append(loadParticle(t))\n",
    "pos = pd.concat(posList)\n",
    "    "
   ]
  },
  {
   "cell_type": "code",
   "execution_count": 3,
   "metadata": {
    "collapsed": true,
    "jupyter": {
     "outputs_hidden": true,
     "source_hidden": true
    }
   },
   "outputs": [
    {
     "data": {
      "text/html": [
       "<div>\n",
       "<style scoped>\n",
       "    .dataframe tbody tr th:only-of-type {\n",
       "        vertical-align: middle;\n",
       "    }\n",
       "\n",
       "    .dataframe tbody tr th {\n",
       "        vertical-align: top;\n",
       "    }\n",
       "\n",
       "    .dataframe thead th {\n",
       "        text-align: right;\n",
       "    }\n",
       "</style>\n",
       "<table border=\"1\" class=\"dataframe\">\n",
       "  <thead>\n",
       "    <tr style=\"text-align: right;\">\n",
       "      <th></th>\n",
       "      <th></th>\n",
       "      <th>x (um, imageStack)</th>\n",
       "      <th>y (um, imageStack)</th>\n",
       "      <th>z (um, imageStack)</th>\n",
       "      <th>x_std</th>\n",
       "      <th>y_std</th>\n",
       "      <th>z_std</th>\n",
       "    </tr>\n",
       "    <tr>\n",
       "      <th>frame</th>\n",
       "      <th>particle</th>\n",
       "      <th></th>\n",
       "      <th></th>\n",
       "      <th></th>\n",
       "      <th></th>\n",
       "      <th></th>\n",
       "      <th></th>\n",
       "    </tr>\n",
       "  </thead>\n",
       "  <tbody>\n",
       "    <tr>\n",
       "      <th rowspan=\"5\" valign=\"top\">0</th>\n",
       "      <th>74955</th>\n",
       "      <td>90.492940</td>\n",
       "      <td>76.764406</td>\n",
       "      <td>27.902609</td>\n",
       "      <td>0.134505</td>\n",
       "      <td>0.128758</td>\n",
       "      <td>0.144804</td>\n",
       "    </tr>\n",
       "    <tr>\n",
       "      <th>74956</th>\n",
       "      <td>91.195593</td>\n",
       "      <td>78.102822</td>\n",
       "      <td>27.900874</td>\n",
       "      <td>0.142430</td>\n",
       "      <td>0.140001</td>\n",
       "      <td>0.138219</td>\n",
       "    </tr>\n",
       "    <tr>\n",
       "      <th>75057</th>\n",
       "      <td>91.450079</td>\n",
       "      <td>75.565372</td>\n",
       "      <td>28.032157</td>\n",
       "      <td>0.115519</td>\n",
       "      <td>0.117071</td>\n",
       "      <td>0.145252</td>\n",
       "    </tr>\n",
       "    <tr>\n",
       "      <th>75063</th>\n",
       "      <td>93.676084</td>\n",
       "      <td>76.267803</td>\n",
       "      <td>27.864490</td>\n",
       "      <td>0.125139</td>\n",
       "      <td>0.122297</td>\n",
       "      <td>0.134428</td>\n",
       "    </tr>\n",
       "    <tr>\n",
       "      <th>75068</th>\n",
       "      <td>92.161994</td>\n",
       "      <td>76.933751</td>\n",
       "      <td>27.942663</td>\n",
       "      <td>0.113436</td>\n",
       "      <td>0.112211</td>\n",
       "      <td>0.117256</td>\n",
       "    </tr>\n",
       "    <tr>\n",
       "      <th>...</th>\n",
       "      <th>...</th>\n",
       "      <td>...</td>\n",
       "      <td>...</td>\n",
       "      <td>...</td>\n",
       "      <td>...</td>\n",
       "      <td>...</td>\n",
       "      <td>...</td>\n",
       "    </tr>\n",
       "    <tr>\n",
       "      <th rowspan=\"5\" valign=\"top\">2</th>\n",
       "      <th>976684</th>\n",
       "      <td>138.401187</td>\n",
       "      <td>139.865731</td>\n",
       "      <td>83.545205</td>\n",
       "      <td>0.267231</td>\n",
       "      <td>NaN</td>\n",
       "      <td>0.540731</td>\n",
       "    </tr>\n",
       "    <tr>\n",
       "      <th>976727</th>\n",
       "      <td>148.561716</td>\n",
       "      <td>148.372527</td>\n",
       "      <td>83.414681</td>\n",
       "      <td>1.411727</td>\n",
       "      <td>1.353646</td>\n",
       "      <td>3.239737</td>\n",
       "    </tr>\n",
       "    <tr>\n",
       "      <th>976749</th>\n",
       "      <td>144.581477</td>\n",
       "      <td>145.052961</td>\n",
       "      <td>84.499723</td>\n",
       "      <td>NaN</td>\n",
       "      <td>NaN</td>\n",
       "      <td>NaN</td>\n",
       "    </tr>\n",
       "    <tr>\n",
       "      <th>976750</th>\n",
       "      <td>145.830648</td>\n",
       "      <td>145.595963</td>\n",
       "      <td>84.431944</td>\n",
       "      <td>NaN</td>\n",
       "      <td>NaN</td>\n",
       "      <td>NaN</td>\n",
       "    </tr>\n",
       "    <tr>\n",
       "      <th>976776</th>\n",
       "      <td>143.208101</td>\n",
       "      <td>145.089160</td>\n",
       "      <td>85.342912</td>\n",
       "      <td>NaN</td>\n",
       "      <td>NaN</td>\n",
       "      <td>NaN</td>\n",
       "    </tr>\n",
       "  </tbody>\n",
       "</table>\n",
       "<p>470123 rows × 6 columns</p>\n",
       "</div>"
      ],
      "text/plain": [
       "                x (um, imageStack)  y (um, imageStack)  z (um, imageStack)  \\\n",
       "frame particle                                                               \n",
       "0     74955              90.492940           76.764406           27.902609   \n",
       "      74956              91.195593           78.102822           27.900874   \n",
       "      75057              91.450079           75.565372           28.032157   \n",
       "      75063              93.676084           76.267803           27.864490   \n",
       "      75068              92.161994           76.933751           27.942663   \n",
       "...                            ...                 ...                 ...   \n",
       "2     976684            138.401187          139.865731           83.545205   \n",
       "      976727            148.561716          148.372527           83.414681   \n",
       "      976749            144.581477          145.052961           84.499723   \n",
       "      976750            145.830648          145.595963           84.431944   \n",
       "      976776            143.208101          145.089160           85.342912   \n",
       "\n",
       "                   x_std     y_std     z_std  \n",
       "frame particle                                \n",
       "0     74955     0.134505  0.128758  0.144804  \n",
       "      74956     0.142430  0.140001  0.138219  \n",
       "      75057     0.115519  0.117071  0.145252  \n",
       "      75063     0.125139  0.122297  0.134428  \n",
       "      75068     0.113436  0.112211  0.117256  \n",
       "...                  ...       ...       ...  \n",
       "2     976684    0.267231       NaN  0.540731  \n",
       "      976727    1.411727  1.353646  3.239737  \n",
       "      976749         NaN       NaN       NaN  \n",
       "      976750         NaN       NaN       NaN  \n",
       "      976776         NaN       NaN       NaN  \n",
       "\n",
       "[470123 rows x 6 columns]"
      ]
     },
     "execution_count": 3,
     "metadata": {},
     "output_type": "execute_result"
    }
   ],
   "source": [
    "pos"
   ]
  },
  {
   "cell_type": "code",
   "execution_count": 5,
   "metadata": {},
   "outputs": [],
   "source": [
    "# compute the strain in the usual coordinate\n",
    "from data_analysis import static\n",
    "def computeStrain(pos_df, tPair, output = 'strainTraj', pos_keys=None, verbose=False):\n",
    "    \"\"\"\n",
    "    Make LocalStrainTraj on a list of time points\n",
    "    tPairs = list(zip([0 for n in range(90)],[n for n in range(2,90)]))\n",
    "\n",
    "    This is a wrapper.  Mostly handles formatting the dataFrames.\n",
    "    \"\"\" \n",
    "    ref = tPair[0]\n",
    "    cur = tPair[1]\n",
    "    strain_traj = static.localStrain(pos_df,ref,cur,pos_keys=pos_keys)\n",
    "    #strain_traj = localStrain(pos_df, 0, 1, pos_keys = pos_keys)\n",
    "    strain_traj = strain_traj.stack().rename('({},{})'.format(ref,cur)).to_frame()\n",
    "    strain_traj.set_index(strain_traj.index.rename(['particle', 'values']), inplace=True)\n",
    "    if output == 'hdf':\n",
    "        raise KeyError('Saving strainTraj directly to hdf is not implemented yet')\n",
    "        #strain_fName = 'tfrGel10212018A_shearRun10292018f_sed_strainTraj_consecutive.h5'\n",
    "        #strain_traj.to_hdf(hdf_stem + strain_fName, '(0,t)', mode='a', format='table', data_columns=True)\n",
    "    elif output == 'strainTraj':\n",
    "        return strain_traj\n",
    "    else: raise KeyError('output {} not recognized'.format(output))\n",
    "\n",
    "#tPairs = [(0,1),(0,2)]\n",
    "#subPosList = [pos.loc[([t[0],t[1]],slice(None)),:][['x (um, imageStack)','y (um, imageStack)', 'z (um, imageStack)']] for t in tPairs]\n",
    "strain_traj = computeStrain(pos,(0,1))"
   ]
  },
  {
   "cell_type": "code",
   "execution_count": 5,
   "metadata": {
    "collapsed": true,
    "jupyter": {
     "outputs_hidden": true,
     "source_hidden": true
    }
   },
   "outputs": [
    {
     "data": {
      "text/html": [
       "<div>\n",
       "<style scoped>\n",
       "    .dataframe tbody tr th:only-of-type {\n",
       "        vertical-align: middle;\n",
       "    }\n",
       "\n",
       "    .dataframe tbody tr th {\n",
       "        vertical-align: top;\n",
       "    }\n",
       "\n",
       "    .dataframe thead th {\n",
       "        text-align: right;\n",
       "    }\n",
       "</style>\n",
       "<table border=\"1\" class=\"dataframe\">\n",
       "  <thead>\n",
       "    <tr style=\"text-align: right;\">\n",
       "      <th></th>\n",
       "      <th></th>\n",
       "      <th>(0,1)</th>\n",
       "    </tr>\n",
       "    <tr>\n",
       "      <th>particle</th>\n",
       "      <th>values</th>\n",
       "      <th></th>\n",
       "    </tr>\n",
       "  </thead>\n",
       "  <tbody>\n",
       "    <tr>\n",
       "      <th rowspan=\"5\" valign=\"top\">74955</th>\n",
       "      <th>D2_min</th>\n",
       "      <td>0.125524</td>\n",
       "    </tr>\n",
       "    <tr>\n",
       "      <th>exx</th>\n",
       "      <td>-0.004519</td>\n",
       "    </tr>\n",
       "    <tr>\n",
       "      <th>exy</th>\n",
       "      <td>-0.001776</td>\n",
       "    </tr>\n",
       "    <tr>\n",
       "      <th>exz</th>\n",
       "      <td>-0.020201</td>\n",
       "    </tr>\n",
       "    <tr>\n",
       "      <th>eyy</th>\n",
       "      <td>0.005996</td>\n",
       "    </tr>\n",
       "    <tr>\n",
       "      <th>...</th>\n",
       "      <th>...</th>\n",
       "      <td>...</td>\n",
       "    </tr>\n",
       "    <tr>\n",
       "      <th rowspan=\"5\" valign=\"top\">890420</th>\n",
       "      <th>ezz</th>\n",
       "      <td>0.004417</td>\n",
       "    </tr>\n",
       "    <tr>\n",
       "      <th>rxy</th>\n",
       "      <td>-0.007035</td>\n",
       "    </tr>\n",
       "    <tr>\n",
       "      <th>rxz</th>\n",
       "      <td>-0.013433</td>\n",
       "    </tr>\n",
       "    <tr>\n",
       "      <th>ryz</th>\n",
       "      <td>-0.003190</td>\n",
       "    </tr>\n",
       "    <tr>\n",
       "      <th>nnb count</th>\n",
       "      <td>10.000000</td>\n",
       "    </tr>\n",
       "  </tbody>\n",
       "</table>\n",
       "<p>1713096 rows × 1 columns</p>\n",
       "</div>"
      ],
      "text/plain": [
       "                        (0,1)\n",
       "particle values              \n",
       "74955    D2_min      0.125524\n",
       "         exx        -0.004519\n",
       "         exy        -0.001776\n",
       "         exz        -0.020201\n",
       "         eyy         0.005996\n",
       "...                       ...\n",
       "890420   ezz         0.004417\n",
       "         rxy        -0.007035\n",
       "         rxz        -0.013433\n",
       "         ryz        -0.003190\n",
       "         nnb count  10.000000\n",
       "\n",
       "[1713096 rows x 1 columns]"
      ]
     },
     "execution_count": 5,
     "metadata": {},
     "output_type": "execute_result"
    }
   ],
   "source": [
    "strain_traj"
   ]
  },
  {
   "cell_type": "code",
   "execution_count": 45,
   "metadata": {},
   "outputs": [
    {
     "data": {
      "text/plain": [
       "{'rotationMatrix': {'coordStr': '(um, rheo_sedHeight)',\n",
       "  'handed': 'right',\n",
       "  'positiveSignature': 'clockwise',\n",
       "  'units': 'radians',\n",
       "  'theta_x': 0,\n",
       "  'theta_y': 0,\n",
       "  'theta_z': 1.57}}"
      ]
     },
     "execution_count": 45,
     "metadata": {},
     "output_type": "execute_result"
    }
   ],
   "source": [
    "# write a yaml file with rotation parameters\n",
    "with open('rotation.yaml') as f:\n",
    "    rotDict = yaml.load(f, Loader=yaml.FullLoader)\n",
    "rotDict"
   ]
  },
  {
   "cell_type": "code",
   "execution_count": 8,
   "metadata": {},
   "outputs": [],
   "source": []
  },
  {
   "cell_type": "code",
   "execution_count": 333,
   "metadata": {},
   "outputs": [],
   "source": [
    "# read rotation parameters from file and construct rotation matrix\n",
    "def parseRotYaml(rotDict):\n",
    "    \"\"\" From an opened yaml file giving rotation values, return rotation matrices\"\"\"\n",
    "    if rotDict['handed'] == 'right' and rotDict['positiveSignature'] == 'clockwise':\n",
    "        theta_x, theta_y, theta_z = rotDict['theta_x'],rotDict['theta_y'], rotDict['theta_z']\n",
    "        r_x = np.array(((1,0,0),\n",
    "                        (0, np.cos(theta_x), -1*np.sin(theta_x)),\n",
    "                        (0, np.sin(theta_x), np.cos(theta_x))))\n",
    "        r_y = np.array(((np.cos(theta_y), 0, np.sin(theta_y)),\n",
    "                        (0, 1, 0),\n",
    "                        (-1*np.sin(theta_y), 0, np.cos(theta_y))))\n",
    "        r_z = np.array(((np.cos(theta_z), -1*np.sin(theta_z), 0),\n",
    "                        (np.sin(theta_z), np.cos(theta_z), 0),\n",
    "                        (0, 0, 1)))\n",
    "        prod_zyx = np.matmul(r_z,np.matmul(r_y,r_x))\n",
    "        prod_xyz = np.matmul(r_x.T,np.matmul(r_y.T, r_z.T))\n",
    "        return {'prod_zyx (left)': prod_zyx, '(prod_zyx)T (right)': prod_xyz, 'r_x': r_x, 'r_y': r_y, 'r_z': r_z}\n",
    "    else: raise ValueError(\"not all options are supported in parseRotYaml yet...\")\n",
    "        \n",
    "def coordTransform(pos_df, coordStr_current, coordStr_target,**kwargs):\n",
    "    if coordStr_current == '(um, imageStack)' and coordStr_target == '(um, rheo_sedHeight)':\n",
    "        z_offSet = kwargs['z_offSet']\n",
    "        pos_df['x {}'.format(coordStr_target)] = pos_df['x {}'.format(coordStr_current)] - 235/2.0\n",
    "        pos_df['y {}'.format(coordStr_target)] = -1*pos_df['y {}'.format(coordStr_current)] + 235/2.0\n",
    "        pos_df['z {}'.format(coordStr_target)] = pos_df['z {}'.format(coordStr_current)] + z_offSet\n",
    "        return pos_df\n",
    "    else: raise  ValueError('Coordinate transofrm between {} and {} not recognized or not yet supported'.format(coordStr_current, coordStr_target))"
   ]
  },
  {
   "cell_type": "code",
   "execution_count": 46,
   "metadata": {},
   "outputs": [
    {
     "data": {
      "text/plain": [
       "{'prod_zyx (left)': array([[ 7.96326711e-04, -9.99999683e-01,  0.00000000e+00],\n",
       "        [ 9.99999683e-01,  7.96326711e-04,  0.00000000e+00],\n",
       "        [ 0.00000000e+00,  0.00000000e+00,  1.00000000e+00]]),\n",
       " '(prod_zyx)T (right)': array([[ 7.96326711e-04,  9.99999683e-01,  0.00000000e+00],\n",
       "        [-9.99999683e-01,  7.96326711e-04,  0.00000000e+00],\n",
       "        [ 0.00000000e+00,  0.00000000e+00,  1.00000000e+00]]),\n",
       " 'r_x': array([[ 1.,  0.,  0.],\n",
       "        [ 0.,  1., -0.],\n",
       "        [ 0.,  0.,  1.]]),\n",
       " 'r_y': array([[ 1.,  0.,  0.],\n",
       "        [ 0.,  1.,  0.],\n",
       "        [-0.,  0.,  1.]]),\n",
       " 'r_z': array([[ 7.96326711e-04, -9.99999683e-01,  0.00000000e+00],\n",
       "        [ 9.99999683e-01,  7.96326711e-04,  0.00000000e+00],\n",
       "        [ 0.00000000e+00,  0.00000000e+00,  1.00000000e+00]])}"
      ]
     },
     "execution_count": 46,
     "metadata": {},
     "output_type": "execute_result"
    }
   ],
   "source": [
    "with open('rotation.yaml') as f:\n",
    "    rotDict = yaml.load(f, Loader=yaml.FullLoader)\n",
    "rotDict\n",
    "r = parseRotYaml(rotDict['rotationMatrix'])['prod_zyx (left)']"
   ]
  },
  {
   "cell_type": "code",
   "execution_count": 334,
   "metadata": {},
   "outputs": [
    {
     "data": {
      "text/html": [
       "<div>\n",
       "<style scoped>\n",
       "    .dataframe tbody tr th:only-of-type {\n",
       "        vertical-align: middle;\n",
       "    }\n",
       "\n",
       "    .dataframe tbody tr th {\n",
       "        vertical-align: top;\n",
       "    }\n",
       "\n",
       "    .dataframe thead th {\n",
       "        text-align: right;\n",
       "    }\n",
       "</style>\n",
       "<table border=\"1\" class=\"dataframe\">\n",
       "  <thead>\n",
       "    <tr style=\"text-align: right;\">\n",
       "      <th></th>\n",
       "      <th></th>\n",
       "      <th>x (um, imageStack)</th>\n",
       "      <th>y (um, imageStack)</th>\n",
       "      <th>z (um, imageStack)</th>\n",
       "      <th>x_std</th>\n",
       "      <th>y_std</th>\n",
       "      <th>z_std</th>\n",
       "      <th>x (um, rheo_sedHeight)</th>\n",
       "      <th>y (um, rheo_sedHeight)</th>\n",
       "      <th>z (um, rheo_sedHeight)</th>\n",
       "    </tr>\n",
       "    <tr>\n",
       "      <th>frame</th>\n",
       "      <th>particle</th>\n",
       "      <th></th>\n",
       "      <th></th>\n",
       "      <th></th>\n",
       "      <th></th>\n",
       "      <th></th>\n",
       "      <th></th>\n",
       "      <th></th>\n",
       "      <th></th>\n",
       "      <th></th>\n",
       "    </tr>\n",
       "  </thead>\n",
       "  <tbody>\n",
       "    <tr>\n",
       "      <th rowspan=\"5\" valign=\"top\">0</th>\n",
       "      <th>74955</th>\n",
       "      <td>90.492940</td>\n",
       "      <td>76.764406</td>\n",
       "      <td>27.902609</td>\n",
       "      <td>0.134505</td>\n",
       "      <td>0.128758</td>\n",
       "      <td>0.144804</td>\n",
       "      <td>-27.007060</td>\n",
       "      <td>40.735594</td>\n",
       "      <td>27.902609</td>\n",
       "    </tr>\n",
       "    <tr>\n",
       "      <th>74956</th>\n",
       "      <td>91.195593</td>\n",
       "      <td>78.102822</td>\n",
       "      <td>27.900874</td>\n",
       "      <td>0.142430</td>\n",
       "      <td>0.140001</td>\n",
       "      <td>0.138219</td>\n",
       "      <td>-26.304407</td>\n",
       "      <td>39.397178</td>\n",
       "      <td>27.900874</td>\n",
       "    </tr>\n",
       "    <tr>\n",
       "      <th>75057</th>\n",
       "      <td>91.450079</td>\n",
       "      <td>75.565372</td>\n",
       "      <td>28.032157</td>\n",
       "      <td>0.115519</td>\n",
       "      <td>0.117071</td>\n",
       "      <td>0.145252</td>\n",
       "      <td>-26.049921</td>\n",
       "      <td>41.934628</td>\n",
       "      <td>28.032157</td>\n",
       "    </tr>\n",
       "    <tr>\n",
       "      <th>75063</th>\n",
       "      <td>93.676084</td>\n",
       "      <td>76.267803</td>\n",
       "      <td>27.864490</td>\n",
       "      <td>0.125139</td>\n",
       "      <td>0.122297</td>\n",
       "      <td>0.134428</td>\n",
       "      <td>-23.823916</td>\n",
       "      <td>41.232197</td>\n",
       "      <td>27.864490</td>\n",
       "    </tr>\n",
       "    <tr>\n",
       "      <th>75068</th>\n",
       "      <td>92.161994</td>\n",
       "      <td>76.933751</td>\n",
       "      <td>27.942663</td>\n",
       "      <td>0.113436</td>\n",
       "      <td>0.112211</td>\n",
       "      <td>0.117256</td>\n",
       "      <td>-25.338006</td>\n",
       "      <td>40.566249</td>\n",
       "      <td>27.942663</td>\n",
       "    </tr>\n",
       "    <tr>\n",
       "      <th>...</th>\n",
       "      <th>...</th>\n",
       "      <td>...</td>\n",
       "      <td>...</td>\n",
       "      <td>...</td>\n",
       "      <td>...</td>\n",
       "      <td>...</td>\n",
       "      <td>...</td>\n",
       "      <td>...</td>\n",
       "      <td>...</td>\n",
       "      <td>...</td>\n",
       "    </tr>\n",
       "    <tr>\n",
       "      <th rowspan=\"5\" valign=\"top\">2</th>\n",
       "      <th>976684</th>\n",
       "      <td>138.401187</td>\n",
       "      <td>139.865731</td>\n",
       "      <td>83.545205</td>\n",
       "      <td>0.267231</td>\n",
       "      <td>NaN</td>\n",
       "      <td>0.540731</td>\n",
       "      <td>20.901187</td>\n",
       "      <td>-22.365731</td>\n",
       "      <td>83.545205</td>\n",
       "    </tr>\n",
       "    <tr>\n",
       "      <th>976727</th>\n",
       "      <td>148.561716</td>\n",
       "      <td>148.372527</td>\n",
       "      <td>83.414681</td>\n",
       "      <td>1.411727</td>\n",
       "      <td>1.353646</td>\n",
       "      <td>3.239737</td>\n",
       "      <td>31.061716</td>\n",
       "      <td>-30.872527</td>\n",
       "      <td>83.414681</td>\n",
       "    </tr>\n",
       "    <tr>\n",
       "      <th>976749</th>\n",
       "      <td>144.581477</td>\n",
       "      <td>145.052961</td>\n",
       "      <td>84.499723</td>\n",
       "      <td>NaN</td>\n",
       "      <td>NaN</td>\n",
       "      <td>NaN</td>\n",
       "      <td>27.081477</td>\n",
       "      <td>-27.552961</td>\n",
       "      <td>84.499723</td>\n",
       "    </tr>\n",
       "    <tr>\n",
       "      <th>976750</th>\n",
       "      <td>145.830648</td>\n",
       "      <td>145.595963</td>\n",
       "      <td>84.431944</td>\n",
       "      <td>NaN</td>\n",
       "      <td>NaN</td>\n",
       "      <td>NaN</td>\n",
       "      <td>28.330648</td>\n",
       "      <td>-28.095963</td>\n",
       "      <td>84.431944</td>\n",
       "    </tr>\n",
       "    <tr>\n",
       "      <th>976776</th>\n",
       "      <td>143.208101</td>\n",
       "      <td>145.089160</td>\n",
       "      <td>85.342912</td>\n",
       "      <td>NaN</td>\n",
       "      <td>NaN</td>\n",
       "      <td>NaN</td>\n",
       "      <td>25.708101</td>\n",
       "      <td>-27.589160</td>\n",
       "      <td>85.342912</td>\n",
       "    </tr>\n",
       "  </tbody>\n",
       "</table>\n",
       "<p>470123 rows × 9 columns</p>\n",
       "</div>"
      ],
      "text/plain": [
       "                x (um, imageStack)  y (um, imageStack)  z (um, imageStack)  \\\n",
       "frame particle                                                               \n",
       "0     74955              90.492940           76.764406           27.902609   \n",
       "      74956              91.195593           78.102822           27.900874   \n",
       "      75057              91.450079           75.565372           28.032157   \n",
       "      75063              93.676084           76.267803           27.864490   \n",
       "      75068              92.161994           76.933751           27.942663   \n",
       "...                            ...                 ...                 ...   \n",
       "2     976684            138.401187          139.865731           83.545205   \n",
       "      976727            148.561716          148.372527           83.414681   \n",
       "      976749            144.581477          145.052961           84.499723   \n",
       "      976750            145.830648          145.595963           84.431944   \n",
       "      976776            143.208101          145.089160           85.342912   \n",
       "\n",
       "                   x_std     y_std     z_std  x (um, rheo_sedHeight)  \\\n",
       "frame particle                                                         \n",
       "0     74955     0.134505  0.128758  0.144804              -27.007060   \n",
       "      74956     0.142430  0.140001  0.138219              -26.304407   \n",
       "      75057     0.115519  0.117071  0.145252              -26.049921   \n",
       "      75063     0.125139  0.122297  0.134428              -23.823916   \n",
       "      75068     0.113436  0.112211  0.117256              -25.338006   \n",
       "...                  ...       ...       ...                     ...   \n",
       "2     976684    0.267231       NaN  0.540731               20.901187   \n",
       "      976727    1.411727  1.353646  3.239737               31.061716   \n",
       "      976749         NaN       NaN       NaN               27.081477   \n",
       "      976750         NaN       NaN       NaN               28.330648   \n",
       "      976776         NaN       NaN       NaN               25.708101   \n",
       "\n",
       "                y (um, rheo_sedHeight)  z (um, rheo_sedHeight)  \n",
       "frame particle                                                  \n",
       "0     74955                  40.735594               27.902609  \n",
       "      74956                  39.397178               27.900874  \n",
       "      75057                  41.934628               28.032157  \n",
       "      75063                  41.232197               27.864490  \n",
       "      75068                  40.566249               27.942663  \n",
       "...                                ...                     ...  \n",
       "2     976684                -22.365731               83.545205  \n",
       "      976727                -30.872527               83.414681  \n",
       "      976749                -27.552961               84.499723  \n",
       "      976750                -28.095963               84.431944  \n",
       "      976776                -27.589160               85.342912  \n",
       "\n",
       "[470123 rows x 9 columns]"
      ]
     },
     "execution_count": 334,
     "metadata": {},
     "output_type": "execute_result"
    }
   ],
   "source": [
    "coordTransform(pos,'(um, imageStack)', '(um, rheo_sedHeight)',z_offSet = 0)"
   ]
  },
  {
   "cell_type": "code",
   "execution_count": 167,
   "metadata": {},
   "outputs": [],
   "source": [
    "# write a function that rotates particle positions\n",
    "# write a function that rotates strain\n",
    "# in both cases, the difficult part is formatting the dataframe so that the matrix multiplication can\n",
    "# be broadcast in numpy. \n",
    "# I think the best way forward to wrap the function and create a numpy array, apply braodcast in numpy, and \n",
    "# then wrap back into dataframe with the correct index labels. \n",
    "# I feel like I have to do this type of operation all the time. Maybe there is a way to make the code reusable?\n",
    "\n",
    "def rotatePosition(df, rotMatrix, posKeys=None):\n",
    "    # get numpy array of particle positions to rotate\n",
    "    # maybe also drop na ?\n",
    "    # reformat and resize\n",
    "    # check that the ordering of the coordinates on the position array matches the rotation matrix\n",
    "    # ...should default to zyx\n",
    "    if posKeys is None:\n",
    "        suffix = '(um, rheo_sedHeight)'\n",
    "        posKeys = {'x': 'x {}'.format(suffix), 'y':'y {}'.format(suffix),'z': 'z {}'.format(suffix)}\n",
    "    pos = df[posKeys.values()].to_numpy().T\n",
    "    idx = df[posKeys.values()].index\n",
    "    \n",
    "    # this likely needs to be a array shape so that the matrix multiplication can be broadcast correctly\n",
    "    rotPos = (rotMatrix @ pos).T\n",
    "    \n",
    "    # set index and probably restack\n",
    "    # I think we'll need a join operation on the dataFrame\n",
    "    # convert to dataFrame with the right index \n",
    "    rotPos_df = pd.DataFrame(data = rotPos, index=idx, columns=posKeys.values())\n",
    "    \n",
    "    # should I return a modfied dataframe or just the section of the dataframe that can be joined to the \n",
    "    # input dataFrame? How about just the section I computed...not the whole thing\n",
    "    return rotPos_df"
   ]
  },
  {
   "cell_type": "code",
   "execution_count": 166,
   "metadata": {},
   "outputs": [
    {
     "data": {
      "text/plain": [
       "Index(['x (um, imageStack)', 'y (um, imageStack)', 'z (um, imageStack)',\n",
       "       'x_std', 'y_std', 'z_std', 'x (um, rheo_sedHeight)',\n",
       "       'y (um, rheo_sedHeight)', 'z (um, rheo_sedHeight)'],\n",
       "      dtype='object')"
      ]
     },
     "execution_count": 166,
     "metadata": {},
     "output_type": "execute_result"
    }
   ],
   "source": [
    "pos.keys()"
   ]
  },
  {
   "cell_type": "code",
   "execution_count": 337,
   "metadata": {},
   "outputs": [],
   "source": [
    "microPos = pos.head(5)[rot_keys.values()]\n",
    "idx = microPos.index\n",
    "pos_np = microPos.to_numpy().T\n",
    "rot_pos = (r_left @ pos_np).T\n",
    "rot_pos_df = pd.DataFrame(data = rot_pos,index=idx,columns=rot_keys.values())"
   ]
  },
  {
   "cell_type": "code",
   "execution_count": 338,
   "metadata": {},
   "outputs": [
    {
     "data": {
      "text/html": [
       "<div>\n",
       "<style scoped>\n",
       "    .dataframe tbody tr th:only-of-type {\n",
       "        vertical-align: middle;\n",
       "    }\n",
       "\n",
       "    .dataframe tbody tr th {\n",
       "        vertical-align: top;\n",
       "    }\n",
       "\n",
       "    .dataframe thead th {\n",
       "        text-align: right;\n",
       "    }\n",
       "</style>\n",
       "<table border=\"1\" class=\"dataframe\">\n",
       "  <thead>\n",
       "    <tr style=\"text-align: right;\">\n",
       "      <th></th>\n",
       "      <th></th>\n",
       "      <th>x (um, rheo_sedHeight)</th>\n",
       "      <th>y (um, rheo_sedHeight)</th>\n",
       "      <th>z (um, rheo_sedHeight)</th>\n",
       "    </tr>\n",
       "    <tr>\n",
       "      <th>frame</th>\n",
       "      <th>particle</th>\n",
       "      <th></th>\n",
       "      <th></th>\n",
       "      <th></th>\n",
       "    </tr>\n",
       "  </thead>\n",
       "  <tbody>\n",
       "    <tr>\n",
       "      <th rowspan=\"5\" valign=\"top\">0</th>\n",
       "      <th>74955</th>\n",
       "      <td>-40.757087</td>\n",
       "      <td>-26.974613</td>\n",
       "      <td>27.902609</td>\n",
       "    </tr>\n",
       "    <tr>\n",
       "      <th>74956</th>\n",
       "      <td>-39.418112</td>\n",
       "      <td>-26.273026</td>\n",
       "      <td>27.900874</td>\n",
       "    </tr>\n",
       "    <tr>\n",
       "      <th>75057</th>\n",
       "      <td>-41.955359</td>\n",
       "      <td>-26.016520</td>\n",
       "      <td>28.032157</td>\n",
       "    </tr>\n",
       "    <tr>\n",
       "      <th>75063</th>\n",
       "      <td>-41.251155</td>\n",
       "      <td>-23.791074</td>\n",
       "      <td>27.864490</td>\n",
       "    </tr>\n",
       "    <tr>\n",
       "      <th>75068</th>\n",
       "      <td>-40.586414</td>\n",
       "      <td>-25.305694</td>\n",
       "      <td>27.942663</td>\n",
       "    </tr>\n",
       "    <tr>\n",
       "      <th>...</th>\n",
       "      <th>...</th>\n",
       "      <td>...</td>\n",
       "      <td>...</td>\n",
       "      <td>...</td>\n",
       "    </tr>\n",
       "    <tr>\n",
       "      <th rowspan=\"5\" valign=\"top\">2</th>\n",
       "      <th>976684</th>\n",
       "      <td>22.382368</td>\n",
       "      <td>20.883370</td>\n",
       "      <td>83.545205</td>\n",
       "    </tr>\n",
       "    <tr>\n",
       "      <th>976727</th>\n",
       "      <td>30.897252</td>\n",
       "      <td>31.037122</td>\n",
       "      <td>83.414681</td>\n",
       "    </tr>\n",
       "    <tr>\n",
       "      <th>976749</th>\n",
       "      <td>27.574518</td>\n",
       "      <td>27.059527</td>\n",
       "      <td>84.499723</td>\n",
       "    </tr>\n",
       "    <tr>\n",
       "      <th>976750</th>\n",
       "      <td>28.118515</td>\n",
       "      <td>28.308266</td>\n",
       "      <td>84.431944</td>\n",
       "    </tr>\n",
       "    <tr>\n",
       "      <th>976776</th>\n",
       "      <td>27.609624</td>\n",
       "      <td>25.686123</td>\n",
       "      <td>85.342912</td>\n",
       "    </tr>\n",
       "  </tbody>\n",
       "</table>\n",
       "<p>470123 rows × 3 columns</p>\n",
       "</div>"
      ],
      "text/plain": [
       "                x (um, rheo_sedHeight)  y (um, rheo_sedHeight)  \\\n",
       "frame particle                                                   \n",
       "0     74955                 -40.757087              -26.974613   \n",
       "      74956                 -39.418112              -26.273026   \n",
       "      75057                 -41.955359              -26.016520   \n",
       "      75063                 -41.251155              -23.791074   \n",
       "      75068                 -40.586414              -25.305694   \n",
       "...                                ...                     ...   \n",
       "2     976684                 22.382368               20.883370   \n",
       "      976727                 30.897252               31.037122   \n",
       "      976749                 27.574518               27.059527   \n",
       "      976750                 28.118515               28.308266   \n",
       "      976776                 27.609624               25.686123   \n",
       "\n",
       "                z (um, rheo_sedHeight)  \n",
       "frame particle                          \n",
       "0     74955                  27.902609  \n",
       "      74956                  27.900874  \n",
       "      75057                  28.032157  \n",
       "      75063                  27.864490  \n",
       "      75068                  27.942663  \n",
       "...                                ...  \n",
       "2     976684                 83.545205  \n",
       "      976727                 83.414681  \n",
       "      976749                 84.499723  \n",
       "      976750                 84.431944  \n",
       "      976776                 85.342912  \n",
       "\n",
       "[470123 rows x 3 columns]"
      ]
     },
     "execution_count": 338,
     "metadata": {},
     "output_type": "execute_result"
    }
   ],
   "source": [
    "rotatePosition(pos,r_left)"
   ]
  },
  {
   "cell_type": "code",
   "execution_count": 339,
   "metadata": {},
   "outputs": [
    {
     "data": {
      "text/html": [
       "<div>\n",
       "<style scoped>\n",
       "    .dataframe tbody tr th:only-of-type {\n",
       "        vertical-align: middle;\n",
       "    }\n",
       "\n",
       "    .dataframe tbody tr th {\n",
       "        vertical-align: top;\n",
       "    }\n",
       "\n",
       "    .dataframe thead th {\n",
       "        text-align: right;\n",
       "    }\n",
       "</style>\n",
       "<table border=\"1\" class=\"dataframe\">\n",
       "  <thead>\n",
       "    <tr style=\"text-align: right;\">\n",
       "      <th></th>\n",
       "      <th></th>\n",
       "      <th>x (um, rheo_sedHeight)</th>\n",
       "      <th>y (um, rheo_sedHeight)</th>\n",
       "      <th>z (um, rheo_sedHeight)</th>\n",
       "    </tr>\n",
       "    <tr>\n",
       "      <th>frame</th>\n",
       "      <th>particle</th>\n",
       "      <th></th>\n",
       "      <th></th>\n",
       "      <th></th>\n",
       "    </tr>\n",
       "  </thead>\n",
       "  <tbody>\n",
       "    <tr>\n",
       "      <th rowspan=\"5\" valign=\"top\">0</th>\n",
       "      <th>74955</th>\n",
       "      <td>-40.757087</td>\n",
       "      <td>-26.974613</td>\n",
       "      <td>27.902609</td>\n",
       "    </tr>\n",
       "    <tr>\n",
       "      <th>74956</th>\n",
       "      <td>-39.418112</td>\n",
       "      <td>-26.273026</td>\n",
       "      <td>27.900874</td>\n",
       "    </tr>\n",
       "    <tr>\n",
       "      <th>75057</th>\n",
       "      <td>-41.955359</td>\n",
       "      <td>-26.016520</td>\n",
       "      <td>28.032157</td>\n",
       "    </tr>\n",
       "    <tr>\n",
       "      <th>75063</th>\n",
       "      <td>-41.251155</td>\n",
       "      <td>-23.791074</td>\n",
       "      <td>27.864490</td>\n",
       "    </tr>\n",
       "    <tr>\n",
       "      <th>75068</th>\n",
       "      <td>-40.586414</td>\n",
       "      <td>-25.305694</td>\n",
       "      <td>27.942663</td>\n",
       "    </tr>\n",
       "  </tbody>\n",
       "</table>\n",
       "</div>"
      ],
      "text/plain": [
       "                x (um, rheo_sedHeight)  y (um, rheo_sedHeight)  \\\n",
       "frame particle                                                   \n",
       "0     74955                 -40.757087              -26.974613   \n",
       "      74956                 -39.418112              -26.273026   \n",
       "      75057                 -41.955359              -26.016520   \n",
       "      75063                 -41.251155              -23.791074   \n",
       "      75068                 -40.586414              -25.305694   \n",
       "\n",
       "                z (um, rheo_sedHeight)  \n",
       "frame particle                          \n",
       "0     74955                  27.902609  \n",
       "      74956                  27.900874  \n",
       "      75057                  28.032157  \n",
       "      75063                  27.864490  \n",
       "      75068                  27.942663  "
      ]
     },
     "execution_count": 339,
     "metadata": {},
     "output_type": "execute_result"
    }
   ],
   "source": [
    "rot_pos_df"
   ]
  },
  {
   "cell_type": "code",
   "execution_count": 150,
   "metadata": {},
   "outputs": [
    {
     "data": {
      "text/plain": [
       "array([[ 7.96326711e-04, -9.99999683e-01,  0.00000000e+00],\n",
       "       [ 9.99999683e-01,  7.96326711e-04,  0.00000000e+00],\n",
       "       [ 0.00000000e+00,  0.00000000e+00,  1.00000000e+00]])"
      ]
     },
     "execution_count": 150,
     "metadata": {},
     "output_type": "execute_result"
    }
   ],
   "source": [
    "r_left"
   ]
  },
  {
   "cell_type": "code",
   "execution_count": 153,
   "metadata": {},
   "outputs": [
    {
     "data": {
      "text/plain": [
       "{'rotationMatrix': {'coordStr': '(um, rheo_sedHeight)',\n",
       "  'handed': 'right',\n",
       "  'positiveSignature': 'clockwise',\n",
       "  'units': 'radians',\n",
       "  'theta_x': 0,\n",
       "  'theta_y': 0,\n",
       "  'theta_z': 1.57}}"
      ]
     },
     "execution_count": 153,
     "metadata": {},
     "output_type": "execute_result"
    }
   ],
   "source": [
    "rotDict"
   ]
  },
  {
   "cell_type": "code",
   "execution_count": 155,
   "metadata": {},
   "outputs": [
    {
     "data": {
      "text/plain": [
       "89.95437383553926"
      ]
     },
     "execution_count": 155,
     "metadata": {},
     "output_type": "execute_result"
    }
   ],
   "source": [
    "1.57*180/np.pi"
   ]
  },
  {
   "cell_type": "code",
   "execution_count": 151,
   "metadata": {},
   "outputs": [
    {
     "data": {
      "text/plain": [
       "array([[ 1.00000000e+00, -9.42956944e-21,  0.00000000e+00],\n",
       "       [-9.42956944e-21,  1.00000000e+00,  0.00000000e+00],\n",
       "       [ 0.00000000e+00,  0.00000000e+00,  1.00000000e+00]])"
      ]
     },
     "execution_count": 151,
     "metadata": {},
     "output_type": "execute_result"
    }
   ],
   "source": [
    "r_left = parseRotYaml(rotDict['rotationMatrix'])['prod_zyx (left)']\n",
    "r_right = parseRotYaml(rotDict['rotationMatrix'])['(prod_zyx)T (right)']\n",
    "#(r_right @ (r_left @ microPos[rot_keys.values()].to_numpy().T)).T\n",
    "# should give the identity (TRUE)\n",
    "r_left @ r_right\n",
    "#microPos[rot_keys.values()].to_numpy() @ r_right\n",
    "#((r_left @ microPos[rot_keys.values()].to_numpy().T).T @ r_right.T)\n",
    "#(r_right @ microPos[rot_keys.values()].to_numpy().T).T @ r_left \n",
    "#(r_left @ microPos[rot_keys.values()].to_numpy()[0].T) @ r_right"
   ]
  },
  {
   "cell_type": "code",
   "execution_count": 110,
   "metadata": {},
   "outputs": [
    {
     "data": {
      "text/plain": [
       "array([[ 7.96326711e-04, -9.99999683e-01,  0.00000000e+00],\n",
       "       [ 9.99999683e-01,  7.96326711e-04,  0.00000000e+00],\n",
       "       [ 0.00000000e+00,  0.00000000e+00,  1.00000000e+00]])"
      ]
     },
     "execution_count": 110,
     "metadata": {},
     "output_type": "execute_result"
    }
   ],
   "source": [
    "r_right.T"
   ]
  },
  {
   "cell_type": "code",
   "execution_count": 111,
   "metadata": {},
   "outputs": [
    {
     "data": {
      "text/plain": [
       "array([[ 7.96326711e-04, -9.99999683e-01,  0.00000000e+00],\n",
       "       [ 9.99999683e-01,  7.96326711e-04,  0.00000000e+00],\n",
       "       [ 0.00000000e+00,  0.00000000e+00,  1.00000000e+00]])"
      ]
     },
     "execution_count": 111,
     "metadata": {},
     "output_type": "execute_result"
    }
   ],
   "source": [
    "r_left"
   ]
  },
  {
   "cell_type": "code",
   "execution_count": 125,
   "metadata": {},
   "outputs": [
    {
     "data": {
      "text/plain": [
       "array([[207.9929397 ,  40.7355938 ,  27.90260905]])"
      ]
     },
     "execution_count": 125,
     "metadata": {},
     "output_type": "execute_result"
    }
   ],
   "source": [
    "# apply left rotation\n",
    "v = microPos[rot_keys.values()].to_numpy().T\n",
    "r_right.dot((r_left.dot(v))).T\n",
    "(r_left.dot(v)).T.dot(r_left)\n",
    "(r_left @ v).T @ r_left\n",
    "(r_right @ (r_left @ v)).T"
   ]
  },
  {
   "cell_type": "code",
   "execution_count": null,
   "metadata": {},
   "outputs": [],
   "source": []
  },
  {
   "cell_type": "code",
   "execution_count": 13,
   "metadata": {},
   "outputs": [
    {
     "data": {
      "text/plain": [
       "{'x': 'x (um, rheo_sedHeight)',\n",
       " 'y': 'y (um, rheo_sedHeight)',\n",
       " 'z': 'z (um, rheo_sedHeight)'}"
      ]
     },
     "execution_count": 13,
     "metadata": {},
     "output_type": "execute_result"
    }
   ],
   "source": [
    "suffix = '(um, rheo_sedHeight)'\n",
    "rot_keys = {'x': 'x {}'.format(suffix), 'y':'y {}'.format(suffix), 'z':'z {}'.format(suffix)}\n",
    "rot_keys"
   ]
  },
  {
   "cell_type": "code",
   "execution_count": 340,
   "metadata": {},
   "outputs": [],
   "source": [
    "# rotate the particle locations and recompute the strains\n",
    "# Not quite...this isjust a coordinate transform, not a rotation of the particle positions. \n",
    "strainTraj_rheoSedDept = computeStrain(pos,(0,1),pos_keys=rot_keys)"
   ]
  },
  {
   "cell_type": "code",
   "execution_count": 180,
   "metadata": {},
   "outputs": [
    {
     "data": {
      "text/html": [
       "<div>\n",
       "<style scoped>\n",
       "    .dataframe tbody tr th:only-of-type {\n",
       "        vertical-align: middle;\n",
       "    }\n",
       "\n",
       "    .dataframe tbody tr th {\n",
       "        vertical-align: top;\n",
       "    }\n",
       "\n",
       "    .dataframe thead th {\n",
       "        text-align: right;\n",
       "    }\n",
       "</style>\n",
       "<table border=\"1\" class=\"dataframe\">\n",
       "  <thead>\n",
       "    <tr style=\"text-align: right;\">\n",
       "      <th></th>\n",
       "      <th></th>\n",
       "      <th>(0,1)</th>\n",
       "    </tr>\n",
       "    <tr>\n",
       "      <th>particle</th>\n",
       "      <th>values</th>\n",
       "      <th></th>\n",
       "    </tr>\n",
       "  </thead>\n",
       "  <tbody>\n",
       "    <tr>\n",
       "      <th rowspan=\"3\" valign=\"top\">74955</th>\n",
       "      <th>exx</th>\n",
       "      <td>-0.004519</td>\n",
       "    </tr>\n",
       "    <tr>\n",
       "      <th>eyy</th>\n",
       "      <td>0.005996</td>\n",
       "    </tr>\n",
       "    <tr>\n",
       "      <th>ezz</th>\n",
       "      <td>-0.041497</td>\n",
       "    </tr>\n",
       "  </tbody>\n",
       "</table>\n",
       "</div>"
      ],
      "text/plain": [
       "                    (0,1)\n",
       "particle values          \n",
       "74955    exx    -0.004519\n",
       "         eyy     0.005996\n",
       "         ezz    -0.041497"
      ]
     },
     "execution_count": 180,
     "metadata": {},
     "output_type": "execute_result"
    }
   ],
   "source": [
    "strainTraj_rot.loc[(slice(None),['exx','eyy','ezz']),:]\n",
    "strainTraj_rot.loc[(74955,['exx','eyy','ezz']),:]"
   ]
  },
  {
   "cell_type": "code",
   "execution_count": 205,
   "metadata": {},
   "outputs": [],
   "source": [
    "# go from a strain traj to numpy array of strain tensors\n",
    "def _makeStrainMatrix(strainList,signature=None):\n",
    "    if signature is None or signature == 'upper triangle':\n",
    "        signature = [(i,j) for i in range(3) for j in range(i,3)]\n",
    "\n",
    "    out = np.zeros((3,3))\n",
    "    for n in range(len(signature)):\n",
    "        out[signature[n]] = strainList[n]\n",
    "\n",
    "    out_sym = out + out.T - np.diag(np.diag(out))\n",
    "    return out_sym"
   ]
  },
  {
   "cell_type": "code",
   "execution_count": 202,
   "metadata": {},
   "outputs": [],
   "source": []
  },
  {
   "cell_type": "code",
   "execution_count": 218,
   "metadata": {},
   "outputs": [
    {
     "data": {
      "text/plain": [
       "(array([-0.00012559,  0.00110706, -0.00205914,  0.00135844, -0.00303321,\n",
       "        -0.006647  , -0.00451882, -0.00177625, -0.02020148,  0.00599611,\n",
       "         0.00345265, -0.04149744]),\n",
       " array([[-0.00012559,  0.00110706, -0.00205914],\n",
       "        [ 0.00110706,  0.00135844, -0.00303321],\n",
       "        [-0.00205914, -0.00303321, -0.006647  ]]))"
      ]
     },
     "execution_count": 218,
     "metadata": {},
     "output_type": "execute_result"
    }
   ],
   "source": [
    "#signature = strain_traj.loc[809420]['(0,1)'].keys()\n",
    "signature = 'upper triangle'\n",
    "_sigList = ['exx','exy','exz','eyy','eyz','ezz']\n",
    "strainList = strain_traj.loc[([80942,74955],_sigList),'(0,1)'].to_numpy()\n",
    "strainList, _makeStrainMatrix(np.split(strainList,2)[0])\n",
    "#strain_traj.loc[809420]['(0,1)'].keys(), strainList"
   ]
  },
  {
   "cell_type": "code",
   "execution_count": 234,
   "metadata": {},
   "outputs": [
    {
     "data": {
      "text/plain": [
       "array([[-0.00012559,  0.00110706, -0.00205914,  0.00135844, -0.00303321,\n",
       "        -0.006647  ],\n",
       "       [-0.00451882, -0.00177625, -0.02020148,  0.00599611,  0.00345265,\n",
       "        -0.04149744]])"
      ]
     },
     "execution_count": 234,
     "metadata": {},
     "output_type": "execute_result"
    }
   ],
   "source": [
    "tmp = np.array(np.split(strainList,strainList.shape[0]/6.))\n",
    "tmp"
   ]
  },
  {
   "cell_type": "code",
   "execution_count": 249,
   "metadata": {},
   "outputs": [
    {
     "data": {
      "text/plain": [
       "(array([[-0.00012559,  0.00110706, -0.00205914,  0.00135844, -0.00303321,\n",
       "         -0.006647  ],\n",
       "        [-0.00451882, -0.00177625, -0.02020148,  0.00599611,  0.00345265,\n",
       "         -0.04149744]]),\n",
       " array([-0.06794469, -0.06794469]),\n",
       " -0.009399451229126873,\n",
       " -0.05854523533405162)"
      ]
     },
     "execution_count": 249,
     "metadata": {},
     "output_type": "execute_result"
    }
   ],
   "source": [
    "out = np.zeros(2)\n",
    "out[:] = np.sum(tmp.T[:])\n",
    "tmp[:], out, np.sum(tmp[0]), np.sum(tmp[1])"
   ]
  },
  {
   "cell_type": "code",
   "execution_count": 219,
   "metadata": {},
   "outputs": [],
   "source": [
    "\n",
    " \n",
    "# initalize the output array to have dimensions:\n",
    "#   - either (N,3,3) for storing strain arrays for each of the N particles\n",
    "#   - flattened version to store only the upper diagonal\n",
    "# split into the correct number of particles N using np split\n",
    "# loop over the split list, compute the strain matrix each time by applying _makeStrainMatrix\n",
    "# rotate by conjugating with rotation matrix\n",
    "# reflatten (?)\n",
    "# add to the output\n",
    "# return the output\n",
    "# deal with reformatting into pandas array with the correct index for particle number in an additional function. "
   ]
  },
  {
   "cell_type": "code",
   "execution_count": 252,
   "metadata": {},
   "outputs": [
    {
     "data": {
      "text/plain": [
       "array([-0.00939945, -0.05854524])"
      ]
     },
     "execution_count": 252,
     "metadata": {},
     "output_type": "execute_result"
    }
   ],
   "source": [
    "tmp = np.array(np.split(strain_traj.loc[([80942,74955],_sigList),'(0,1)'].to_numpy(),2))\n",
    "out = np.zeros(2)\n",
    "for n in range(tmp.shape[0]):\n",
    "    out[n] = np.sum(tmp[n])\n",
    "out"
   ]
  },
  {
   "cell_type": "code",
   "execution_count": 250,
   "metadata": {},
   "outputs": [],
   "source": [
    "from numba import jit"
   ]
  },
  {
   "cell_type": "code",
   "execution_count": 303,
   "metadata": {},
   "outputs": [],
   "source": [
    "@jit(nopython = True)\n",
    "def _rotate(strainList_np, signature_np, r):\n",
    "    \"\"\"\n",
    "    Param\n",
    "    :strainList_np: numpy array of strain components\n",
    "        ->> strainList_np[10,:] gives [exx,exy,exz,eyy,eyz,ezz] of the 10th particle \n",
    "    :signature_np is a flattened version of the array coordinates of the upper triangle \n",
    "        -> signature_np = [(0,0), (0,1), (0,2), (1,1), (1,2), (2,2)]\n",
    "    : r is the rotation matrix\n",
    "    \"\"\"\n",
    "    \n",
    "    # initialize output array\n",
    "    out = np.zeros(strainList_np.shape)\n",
    "    \n",
    "    # loop over each particle\n",
    "    for n in range(strainList_np.shape[0]):\n",
    "        strain_flat = strainList_np[n]\n",
    "        \n",
    "        # init a matrix for rotation\n",
    "        tmp = np.zeros((3,3))\n",
    "        # this should be computed once and passed to the function\n",
    "        #signature = [(i,j) for i in range(3) for j in range(i,3)]\n",
    "        \n",
    "        # loop over the components\n",
    "        for comp in range(6):\n",
    "            x = signature_np[comp][0]\n",
    "            y = signature_np[comp][1]\n",
    "            tmp[x,y] = strain_flat[comp]\n",
    "        strain = tmp + tmp.T - np.diag(np.diag(tmp))\n",
    "        #print(strain.shape)\n",
    "        \n",
    "        # now rotate the strain by conjugating with rot matrix\n",
    "        strain_rot = r @ strain @ r.T\n",
    "        #print(strain_rot)\n",
    "        \n",
    "        # flatten taking only the upper triangle\n",
    "        strain_rot_flat = np.zeros(6)\n",
    "        for comp in range(6):\n",
    "            x = signature_np[comp][0]\n",
    "            y = signature_np[comp][1]\n",
    "            strain_rot_flat[comp] = strain_rot[x,y]\n",
    "        \n",
    "        # assign to output array\n",
    "        out[n,:] = strain_rot_flat\n",
    "    \n",
    "    return out \n",
    "\n",
    "def rotateStrain(strain_df, time_str,r, signature=None):\n",
    "    \"\"\"\n",
    "    Wrapper function on _rotate() that takes as input dataFrames and output dataFrames\n",
    "    I think the wrapping part works as expected, however that does not mean that rotation\n",
    "    is working. That still needs to be checked explicitly by comparing to strain computed\n",
    "    on roated particle positions. \n",
    "    Also note that this wrapper would need some smalal modifications to work on the asymetric\n",
    "    part of the strain tensor...mostly the signature needs to be modified. \n",
    "    Feb 6 2021\n",
    "    \"\"\"\n",
    "    \n",
    "    # take the strain df and take only strain components in the required order and convert to numpy array\n",
    "    # do this using signature and compute sigList as above.\n",
    "    if signature is None or signature == 'upper triangle':\n",
    "        _sigList = ['exx','exy','exz','eyy','eyz','ezz']\n",
    "        _sig_np = np.array([(i,j) for i in range(3) for j in range(i,3)])\n",
    "    else: raise ValueError('signature {} is not supported. Use \\'upper triangle\\' '.format(signature))\n",
    "    \n",
    "    \n",
    "    # numpy array of the strains, and index\n",
    "    strainList = strain_df.loc[(slice(None),_sigList),time_str].to_numpy()\n",
    "    idx = strain_df.loc[(slice(None),_sigList),time_str].index\n",
    "    \n",
    "    # split strainList, particle is going to be index on slowest axis\n",
    "    Nparticle = strainList.shape[0]/len(_sigList)\n",
    "    strainList = np.array(np.split(strainList, Nparticle))\n",
    "    \n",
    "    # get the rotation matrix\n",
    "    #with open('rotation.yaml') as f: rotDict = yaml.load(f, Loader=yaml.FullLoader)\n",
    "    #r = parseRotYaml(rotDict['rotationMatrix'])['prod_zyx (left)'] \n",
    "    \n",
    "    strainList_rot = _rotate(strainList,_sig_np, r)\n",
    "    \n",
    "    # reformat into dataFrame to match input\n",
    "    strain_rot_df = pd.DataFrame(data=strainList_rot.flatten(), index=idx, columns=[time_str])\n",
    "    \n",
    "    return strain_rot_df"
   ]
  },
  {
   "cell_type": "code",
   "execution_count": 283,
   "metadata": {
    "jupyter": {
     "source_hidden": true
    }
   },
   "outputs": [],
   "source": [
    "tmp = np.array(np.split(strain_traj.loc[([80942,74955],_sigList),'(0,1)'].to_numpy(),2))\n",
    "sig_np = np.array([(i,j) for i in range(3) for j in range(i,3)])\n",
    "strain_rot = np.zeros((3,3))"
   ]
  },
  {
   "cell_type": "code",
   "execution_count": 304,
   "metadata": {
    "collapsed": true,
    "jupyter": {
     "outputs_hidden": true,
     "source_hidden": true
    }
   },
   "outputs": [
    {
     "data": {
      "text/html": [
       "<div>\n",
       "<style scoped>\n",
       "    .dataframe tbody tr th:only-of-type {\n",
       "        vertical-align: middle;\n",
       "    }\n",
       "\n",
       "    .dataframe tbody tr th {\n",
       "        vertical-align: top;\n",
       "    }\n",
       "\n",
       "    .dataframe thead th {\n",
       "        text-align: right;\n",
       "    }\n",
       "</style>\n",
       "<table border=\"1\" class=\"dataframe\">\n",
       "  <thead>\n",
       "    <tr style=\"text-align: right;\">\n",
       "      <th></th>\n",
       "      <th></th>\n",
       "      <th>(0,1)</th>\n",
       "    </tr>\n",
       "    <tr>\n",
       "      <th>particle</th>\n",
       "      <th>values</th>\n",
       "      <th></th>\n",
       "    </tr>\n",
       "  </thead>\n",
       "  <tbody>\n",
       "    <tr>\n",
       "      <th rowspan=\"6\" valign=\"top\">80942</th>\n",
       "      <th>exx</th>\n",
       "      <td>0.001357</td>\n",
       "    </tr>\n",
       "    <tr>\n",
       "      <th>exy</th>\n",
       "      <td>-0.001108</td>\n",
       "    </tr>\n",
       "    <tr>\n",
       "      <th>exz</th>\n",
       "      <td>0.003032</td>\n",
       "    </tr>\n",
       "    <tr>\n",
       "      <th>eyy</th>\n",
       "      <td>-0.000124</td>\n",
       "    </tr>\n",
       "    <tr>\n",
       "      <th>eyz</th>\n",
       "      <td>-0.002062</td>\n",
       "    </tr>\n",
       "    <tr>\n",
       "      <th>ezz</th>\n",
       "      <td>-0.006647</td>\n",
       "    </tr>\n",
       "    <tr>\n",
       "      <th rowspan=\"6\" valign=\"top\">74955</th>\n",
       "      <th>exx</th>\n",
       "      <td>0.005999</td>\n",
       "    </tr>\n",
       "    <tr>\n",
       "      <th>exy</th>\n",
       "      <td>0.001768</td>\n",
       "    </tr>\n",
       "    <tr>\n",
       "      <th>exz</th>\n",
       "      <td>-0.003469</td>\n",
       "    </tr>\n",
       "    <tr>\n",
       "      <th>eyy</th>\n",
       "      <td>-0.004522</td>\n",
       "    </tr>\n",
       "    <tr>\n",
       "      <th>eyz</th>\n",
       "      <td>-0.020199</td>\n",
       "    </tr>\n",
       "    <tr>\n",
       "      <th>ezz</th>\n",
       "      <td>-0.041497</td>\n",
       "    </tr>\n",
       "  </tbody>\n",
       "</table>\n",
       "</div>"
      ],
      "text/plain": [
       "                    (0,1)\n",
       "particle values          \n",
       "80942    exx     0.001357\n",
       "         exy    -0.001108\n",
       "         exz     0.003032\n",
       "         eyy    -0.000124\n",
       "         eyz    -0.002062\n",
       "         ezz    -0.006647\n",
       "74955    exx     0.005999\n",
       "         exy     0.001768\n",
       "         exz    -0.003469\n",
       "         eyy    -0.004522\n",
       "         eyz    -0.020199\n",
       "         ezz    -0.041497"
      ]
     },
     "execution_count": 304,
     "metadata": {},
     "output_type": "execute_result"
    }
   ],
   "source": [
    "strain_micro_df = strain_traj.loc[[80942,74955]]\n",
    "rotateStrain(strain_micro_df,'(0,1)',r_left)"
   ]
  },
  {
   "cell_type": "code",
   "execution_count": 341,
   "metadata": {},
   "outputs": [
    {
     "data": {
      "text/html": [
       "<div>\n",
       "<style scoped>\n",
       "    .dataframe tbody tr th:only-of-type {\n",
       "        vertical-align: middle;\n",
       "    }\n",
       "\n",
       "    .dataframe tbody tr th {\n",
       "        vertical-align: top;\n",
       "    }\n",
       "\n",
       "    .dataframe thead th {\n",
       "        text-align: right;\n",
       "    }\n",
       "</style>\n",
       "<table border=\"1\" class=\"dataframe\">\n",
       "  <thead>\n",
       "    <tr style=\"text-align: right;\">\n",
       "      <th></th>\n",
       "      <th></th>\n",
       "      <th>x (um, rheo_sedHeight)</th>\n",
       "      <th>y (um, rheo_sedHeight)</th>\n",
       "      <th>z (um, rheo_sedHeight)</th>\n",
       "    </tr>\n",
       "    <tr>\n",
       "      <th>frame</th>\n",
       "      <th>particle</th>\n",
       "      <th></th>\n",
       "      <th></th>\n",
       "      <th></th>\n",
       "    </tr>\n",
       "  </thead>\n",
       "  <tbody>\n",
       "    <tr>\n",
       "      <th rowspan=\"5\" valign=\"top\">0</th>\n",
       "      <th>74955</th>\n",
       "      <td>-40.757087</td>\n",
       "      <td>-26.974613</td>\n",
       "      <td>27.902609</td>\n",
       "    </tr>\n",
       "    <tr>\n",
       "      <th>74956</th>\n",
       "      <td>-39.418112</td>\n",
       "      <td>-26.273026</td>\n",
       "      <td>27.900874</td>\n",
       "    </tr>\n",
       "    <tr>\n",
       "      <th>75057</th>\n",
       "      <td>-41.955359</td>\n",
       "      <td>-26.016520</td>\n",
       "      <td>28.032157</td>\n",
       "    </tr>\n",
       "    <tr>\n",
       "      <th>75063</th>\n",
       "      <td>-41.251155</td>\n",
       "      <td>-23.791074</td>\n",
       "      <td>27.864490</td>\n",
       "    </tr>\n",
       "    <tr>\n",
       "      <th>75068</th>\n",
       "      <td>-40.586414</td>\n",
       "      <td>-25.305694</td>\n",
       "      <td>27.942663</td>\n",
       "    </tr>\n",
       "    <tr>\n",
       "      <th>...</th>\n",
       "      <th>...</th>\n",
       "      <td>...</td>\n",
       "      <td>...</td>\n",
       "      <td>...</td>\n",
       "    </tr>\n",
       "    <tr>\n",
       "      <th rowspan=\"5\" valign=\"top\">2</th>\n",
       "      <th>976684</th>\n",
       "      <td>22.382368</td>\n",
       "      <td>20.883370</td>\n",
       "      <td>83.545205</td>\n",
       "    </tr>\n",
       "    <tr>\n",
       "      <th>976727</th>\n",
       "      <td>30.897252</td>\n",
       "      <td>31.037122</td>\n",
       "      <td>83.414681</td>\n",
       "    </tr>\n",
       "    <tr>\n",
       "      <th>976749</th>\n",
       "      <td>27.574518</td>\n",
       "      <td>27.059527</td>\n",
       "      <td>84.499723</td>\n",
       "    </tr>\n",
       "    <tr>\n",
       "      <th>976750</th>\n",
       "      <td>28.118515</td>\n",
       "      <td>28.308266</td>\n",
       "      <td>84.431944</td>\n",
       "    </tr>\n",
       "    <tr>\n",
       "      <th>976776</th>\n",
       "      <td>27.609624</td>\n",
       "      <td>25.686123</td>\n",
       "      <td>85.342912</td>\n",
       "    </tr>\n",
       "  </tbody>\n",
       "</table>\n",
       "<p>470123 rows × 3 columns</p>\n",
       "</div>"
      ],
      "text/plain": [
       "                x (um, rheo_sedHeight)  y (um, rheo_sedHeight)  \\\n",
       "frame particle                                                   \n",
       "0     74955                 -40.757087              -26.974613   \n",
       "      74956                 -39.418112              -26.273026   \n",
       "      75057                 -41.955359              -26.016520   \n",
       "      75063                 -41.251155              -23.791074   \n",
       "      75068                 -40.586414              -25.305694   \n",
       "...                                ...                     ...   \n",
       "2     976684                 22.382368               20.883370   \n",
       "      976727                 30.897252               31.037122   \n",
       "      976749                 27.574518               27.059527   \n",
       "      976750                 28.118515               28.308266   \n",
       "      976776                 27.609624               25.686123   \n",
       "\n",
       "                z (um, rheo_sedHeight)  \n",
       "frame particle                          \n",
       "0     74955                  27.902609  \n",
       "      74956                  27.900874  \n",
       "      75057                  28.032157  \n",
       "      75063                  27.864490  \n",
       "      75068                  27.942663  \n",
       "...                                ...  \n",
       "2     976684                 83.545205  \n",
       "      976727                 83.414681  \n",
       "      976749                 84.499723  \n",
       "      976750                 84.431944  \n",
       "      976776                 85.342912  \n",
       "\n",
       "[470123 rows x 3 columns]"
      ]
     },
     "execution_count": 341,
     "metadata": {},
     "output_type": "execute_result"
    }
   ],
   "source": [
    "#strain_traj.loc[[80942,74955]]\n",
    "# computeStrain(pos_df, tPair, output = 'strainTraj', pos_keys=None, verbose=False):\n",
    "pos_rot = rotatePosition(pos,r_left)\n",
    "pos_rot"
   ]
  },
  {
   "cell_type": "code",
   "execution_count": 342,
   "metadata": {},
   "outputs": [],
   "source": [
    "_keys = {x:'{} (um, rheo_sedHeight)'.format(x) for x in ['x','y','z']}\n",
    "strain_rotPos = computeStrain(pos_rot,(0,1),pos_keys = _keys)"
   ]
  },
  {
   "cell_type": "code",
   "execution_count": 344,
   "metadata": {},
   "outputs": [],
   "source": [
    "strainTraj_rheoSedDept = computeStrain(pos,(0,1),pos_keys=rot_keys)"
   ]
  },
  {
   "cell_type": "code",
   "execution_count": 356,
   "metadata": {},
   "outputs": [
    {
     "data": {
      "text/html": [
       "<div>\n",
       "<style scoped>\n",
       "    .dataframe tbody tr th:only-of-type {\n",
       "        vertical-align: middle;\n",
       "    }\n",
       "\n",
       "    .dataframe tbody tr th {\n",
       "        vertical-align: top;\n",
       "    }\n",
       "\n",
       "    .dataframe thead th {\n",
       "        text-align: right;\n",
       "    }\n",
       "</style>\n",
       "<table border=\"1\" class=\"dataframe\">\n",
       "  <thead>\n",
       "    <tr style=\"text-align: right;\">\n",
       "      <th></th>\n",
       "      <th></th>\n",
       "      <th>(0,1)</th>\n",
       "    </tr>\n",
       "    <tr>\n",
       "      <th>particle</th>\n",
       "      <th>values</th>\n",
       "      <th></th>\n",
       "    </tr>\n",
       "  </thead>\n",
       "  <tbody>\n",
       "    <tr>\n",
       "      <th rowspan=\"5\" valign=\"top\">74955</th>\n",
       "      <th>exx</th>\n",
       "      <td>0.005993</td>\n",
       "    </tr>\n",
       "    <tr>\n",
       "      <th>exy</th>\n",
       "      <td>-0.001785</td>\n",
       "    </tr>\n",
       "    <tr>\n",
       "      <th>exz</th>\n",
       "      <td>0.003437</td>\n",
       "    </tr>\n",
       "    <tr>\n",
       "      <th>eyy</th>\n",
       "      <td>-0.004516</td>\n",
       "    </tr>\n",
       "    <tr>\n",
       "      <th>eyz</th>\n",
       "      <td>-0.020204</td>\n",
       "    </tr>\n",
       "    <tr>\n",
       "      <th>...</th>\n",
       "      <th>...</th>\n",
       "      <td>...</td>\n",
       "    </tr>\n",
       "    <tr>\n",
       "      <th rowspan=\"5\" valign=\"top\">890420</th>\n",
       "      <th>exy</th>\n",
       "      <td>-0.000006</td>\n",
       "    </tr>\n",
       "    <tr>\n",
       "      <th>exz</th>\n",
       "      <td>0.026016</td>\n",
       "    </tr>\n",
       "    <tr>\n",
       "      <th>eyy</th>\n",
       "      <td>0.001207</td>\n",
       "    </tr>\n",
       "    <tr>\n",
       "      <th>eyz</th>\n",
       "      <td>0.022468</td>\n",
       "    </tr>\n",
       "    <tr>\n",
       "      <th>ezz</th>\n",
       "      <td>0.004417</td>\n",
       "    </tr>\n",
       "  </tbody>\n",
       "</table>\n",
       "<p>934416 rows × 1 columns</p>\n",
       "</div>"
      ],
      "text/plain": [
       "                    (0,1)\n",
       "particle values          \n",
       "74955    exx     0.005993\n",
       "         exy    -0.001785\n",
       "         exz     0.003437\n",
       "         eyy    -0.004516\n",
       "         eyz    -0.020204\n",
       "...                   ...\n",
       "890420   exy    -0.000006\n",
       "         exz     0.026016\n",
       "         eyy     0.001207\n",
       "         eyz     0.022468\n",
       "         ezz     0.004417\n",
       "\n",
       "[934416 rows x 1 columns]"
      ]
     },
     "execution_count": 356,
     "metadata": {},
     "output_type": "execute_result"
    }
   ],
   "source": [
    "strain_rot = rotateStrain(strainTraj_rheoSedDept,'(0,1)',r_left)\n",
    "strain_rot"
   ]
  },
  {
   "cell_type": "code",
   "execution_count": null,
   "metadata": {},
   "outputs": [],
   "source": []
  },
  {
   "cell_type": "code",
   "execution_count": 355,
   "metadata": {},
   "outputs": [
    {
     "data": {
      "text/html": [
       "<div>\n",
       "<style scoped>\n",
       "    .dataframe tbody tr th:only-of-type {\n",
       "        vertical-align: middle;\n",
       "    }\n",
       "\n",
       "    .dataframe tbody tr th {\n",
       "        vertical-align: top;\n",
       "    }\n",
       "\n",
       "    .dataframe thead th {\n",
       "        text-align: right;\n",
       "    }\n",
       "</style>\n",
       "<table border=\"1\" class=\"dataframe\">\n",
       "  <thead>\n",
       "    <tr style=\"text-align: right;\">\n",
       "      <th></th>\n",
       "      <th></th>\n",
       "      <th>(0,1)</th>\n",
       "    </tr>\n",
       "    <tr>\n",
       "      <th>particle</th>\n",
       "      <th>values</th>\n",
       "      <th></th>\n",
       "    </tr>\n",
       "  </thead>\n",
       "  <tbody>\n",
       "    <tr>\n",
       "      <th rowspan=\"5\" valign=\"top\">74955</th>\n",
       "      <th>exx</th>\n",
       "      <td>0.005993</td>\n",
       "    </tr>\n",
       "    <tr>\n",
       "      <th>exy</th>\n",
       "      <td>-0.001785</td>\n",
       "    </tr>\n",
       "    <tr>\n",
       "      <th>exz</th>\n",
       "      <td>0.003437</td>\n",
       "    </tr>\n",
       "    <tr>\n",
       "      <th>eyy</th>\n",
       "      <td>-0.004516</td>\n",
       "    </tr>\n",
       "    <tr>\n",
       "      <th>eyz</th>\n",
       "      <td>-0.020204</td>\n",
       "    </tr>\n",
       "    <tr>\n",
       "      <th>...</th>\n",
       "      <th>...</th>\n",
       "      <td>...</td>\n",
       "    </tr>\n",
       "    <tr>\n",
       "      <th rowspan=\"5\" valign=\"top\">890420</th>\n",
       "      <th>exy</th>\n",
       "      <td>-0.000006</td>\n",
       "    </tr>\n",
       "    <tr>\n",
       "      <th>exz</th>\n",
       "      <td>0.026016</td>\n",
       "    </tr>\n",
       "    <tr>\n",
       "      <th>eyy</th>\n",
       "      <td>0.001207</td>\n",
       "    </tr>\n",
       "    <tr>\n",
       "      <th>eyz</th>\n",
       "      <td>0.022468</td>\n",
       "    </tr>\n",
       "    <tr>\n",
       "      <th>ezz</th>\n",
       "      <td>0.004417</td>\n",
       "    </tr>\n",
       "  </tbody>\n",
       "</table>\n",
       "<p>934416 rows × 1 columns</p>\n",
       "</div>"
      ],
      "text/plain": [
       "                    (0,1)\n",
       "particle values          \n",
       "74955    exx     0.005993\n",
       "         exy    -0.001785\n",
       "         exz     0.003437\n",
       "         eyy    -0.004516\n",
       "         eyz    -0.020204\n",
       "...                   ...\n",
       "890420   exy    -0.000006\n",
       "         exz     0.026016\n",
       "         eyy     0.001207\n",
       "         eyz     0.022468\n",
       "         ezz     0.004417\n",
       "\n",
       "[934416 rows x 1 columns]"
      ]
     },
     "execution_count": 355,
     "metadata": {},
     "output_type": "execute_result"
    }
   ],
   "source": [
    "r2 = r_left @ np.array([[1,0,0],[0,-1,0],[0,0,1]])\n",
    "strain_rot2 = rotateStrain(strain_traj, '(0,1)',r2)\n",
    "#strain_traj\n",
    "strain_rot2"
   ]
  },
  {
   "cell_type": "code",
   "execution_count": 347,
   "metadata": {},
   "outputs": [],
   "source": [
    "# I think this is is...\n",
    "# the problem I had before with coordinates being flipped and everything be a little be off\n",
    "# was a direct consequence of using almost 90 deg rotation and not computing the strain orginally on the\n",
    "# rheosedDepth riight handed coordinate system. Instead I was using image coordinates and the strain magnitudes were correct\n",
    "# but the signs were wrong. \n",
    "strain_rot, strain_rotPos.loc[(slice(None),['exx','exy','exz','eyy','eyz','ezz']),'(0,1)']"
   ]
  },
  {
   "cell_type": "code",
   "execution_count": 348,
   "metadata": {},
   "outputs": [
    {
     "data": {
      "text/plain": [
       "particle  values\n",
       "74955     exx      -0.004519\n",
       "          exy       0.001776\n",
       "          exz      -0.020201\n",
       "          eyy       0.005996\n",
       "          eyz      -0.003453\n",
       "                      ...   \n",
       "890420    exy       0.000007\n",
       "          exz       0.022489\n",
       "          eyy      -0.000981\n",
       "          eyz      -0.025998\n",
       "          ezz       0.004417\n",
       "Name: (0,1), Length: 934416, dtype: float64"
      ]
     },
     "execution_count": 348,
     "metadata": {},
     "output_type": "execute_result"
    }
   ],
   "source": [
    "strainTraj_rheoSedDept.loc[(slice(None),['exx','exy','exz','eyy','eyz','ezz']),'(0,1)']"
   ]
  },
  {
   "cell_type": "code",
   "execution_count": 329,
   "metadata": {},
   "outputs": [
    {
     "data": {
      "text/plain": [
       "0.001477"
      ]
     },
     "execution_count": 329,
     "metadata": {},
     "output_type": "execute_result"
    }
   ],
   "source": [
    "-0.004519 + 0.005996"
   ]
  },
  {
   "cell_type": "code",
   "execution_count": 331,
   "metadata": {},
   "outputs": [
    {
     "data": {
      "text/plain": [
       "0.001477"
      ]
     },
     "execution_count": 331,
     "metadata": {},
     "output_type": "execute_result"
    }
   ],
   "source": [
    "0.005993-0.004516"
   ]
  },
  {
   "cell_type": "code",
   "execution_count": 332,
   "metadata": {},
   "outputs": [
    {
     "data": {
      "text/plain": [
       "0.001477"
      ]
     },
     "execution_count": 332,
     "metadata": {},
     "output_type": "execute_result"
    }
   ],
   "source": [
    "0.005999 - 0.004522"
   ]
  },
  {
   "cell_type": "markdown",
   "metadata": {},
   "source": [
    "## Tasks\n",
    "- put rotation code into pycharm\n",
    "- use rotation code to compute the parallel and perpendicular strains in tfr experiment for paper\n",
    "- update figures with parallel and perp measurements. "
   ]
  },
  {
   "cell_type": "code",
   "execution_count": null,
   "metadata": {},
   "outputs": [],
   "source": []
  },
  {
   "cell_type": "code",
   "execution_count": null,
   "metadata": {},
   "outputs": [],
   "source": [
    "# how to convert between these strain measures? \n",
    "# It should be conjugate with rotation matrix e_rot = R e R^T as in mohr circle"
   ]
  },
  {
   "cell_type": "code",
   "execution_count": null,
   "metadata": {},
   "outputs": [],
   "source": [
    "# how does D2min work in this case? Should it stay unchanged? I am not sure. "
   ]
  },
  {
   "cell_type": "code",
   "execution_count": null,
   "metadata": {},
   "outputs": [],
   "source": [
    "# put the particle positions in the gel and sample in the same orthonormal basis treating the gel positions as say\n",
    "# segative particle positions and compute relative displacement fo the boundaries. "
   ]
  },
  {
   "cell_type": "code",
   "execution_count": null,
   "metadata": {},
   "outputs": [],
   "source": [
    "# diagonalize the strain tensor and find component in shear and perp direction"
   ]
  },
  {
   "cell_type": "code",
   "execution_count": null,
   "metadata": {},
   "outputs": [],
   "source": [
    "# revisit local von mises"
   ]
  }
 ],
 "metadata": {
  "kernelspec": {
   "display_name": "tractionRheoscopy",
   "language": "python",
   "name": "tractionrheoscopy"
  },
  "language_info": {
   "codemirror_mode": {
    "name": "ipython",
    "version": 3
   },
   "file_extension": ".py",
   "mimetype": "text/x-python",
   "name": "python",
   "nbconvert_exporter": "python",
   "pygments_lexer": "ipython3",
   "version": "3.7.9"
  }
 },
 "nbformat": 4,
 "nbformat_minor": 4
}
