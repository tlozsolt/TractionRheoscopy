{
 "cells": [
  {
   "cell_type": "code",
   "execution_count": 1,
   "metadata": {},
   "outputs": [],
   "source": [
    "import sys\n",
    "sys.path.extend(['/Users/zsolt/Colloid_git/TractionRheoscopy'])\n",
    "from data_analysis import static as da\n",
    "import seaborn as sns\n",
    "from matplotlib import pyplot as plt\n",
    "import pandas as pd\n",
    "from importlib import reload\n",
    "import numpy as np"
   ]
  },
  {
   "cell_type": "code",
   "execution_count": 2,
   "metadata": {},
   "outputs": [],
   "source": [
    "hdf_stem = '/Users/zsolt/Colloid/DATA/tfrGel10212018x/tfrGel10212018A_shearRun10292018f/locations_stitch/'\n",
    "sed_fName = 'tfrGel10212018A_shearRun10292018f_sed_stitched.h5'\n",
    "gel_fName = 'tfrGel10212018A_shearRun10292018f_gel_stitched.h5'\n",
    "\n",
    "figPath = '/Users/zsolt/Colloid/DATA/tfrGel10212018x/tfrGel10212018A_shearRun10292018f/plots'"
   ]
  },
  {
   "cell_type": "code",
   "execution_count": 3,
   "metadata": {},
   "outputs": [],
   "source": [
    "sedPos = da.loadData2Mem(hdf_stem + sed_fName)"
   ]
  },
  {
   "cell_type": "code",
   "execution_count": 4,
   "metadata": {},
   "outputs": [],
   "source": [
    "sed_strainTraj_dt3 = pd.read_hdf(hdf_stem + '/{}'.format('tfrGel10212018A_shearRun10292018f_sed_strainTraj_dt3.h5'))"
   ]
  },
  {
   "cell_type": "markdown",
   "metadata": {},
   "source": [
    "## Interpolate the strain in 3D using linear nearest neighbor"
   ]
  },
  {
   "cell_type": "code",
   "execution_count": 5,
   "metadata": {},
   "outputs": [
    {
     "data": {
      "text/html": [
       "<div>\n",
       "<style scoped>\n",
       "    .dataframe tbody tr th:only-of-type {\n",
       "        vertical-align: middle;\n",
       "    }\n",
       "\n",
       "    .dataframe tbody tr th {\n",
       "        vertical-align: top;\n",
       "    }\n",
       "\n",
       "    .dataframe thead th {\n",
       "        text-align: right;\n",
       "    }\n",
       "</style>\n",
       "<table border=\"1\" class=\"dataframe\">\n",
       "  <thead>\n",
       "    <tr style=\"text-align: right;\">\n",
       "      <th></th>\n",
       "      <th></th>\n",
       "      <th>(0,1)</th>\n",
       "      <th>(0,3)</th>\n",
       "      <th>(1,4)</th>\n",
       "      <th>(2,5)</th>\n",
       "      <th>(3,6)</th>\n",
       "      <th>(4,7)</th>\n",
       "      <th>(5,8)</th>\n",
       "      <th>(6,9)</th>\n",
       "      <th>(7,10)</th>\n",
       "      <th>(8,11)</th>\n",
       "      <th>...</th>\n",
       "      <th>(77,80)</th>\n",
       "      <th>(78,81)</th>\n",
       "      <th>(79,82)</th>\n",
       "      <th>(80,83)</th>\n",
       "      <th>(81,84)</th>\n",
       "      <th>(82,85)</th>\n",
       "      <th>(83,86)</th>\n",
       "      <th>(84,87)</th>\n",
       "      <th>(85,88)</th>\n",
       "      <th>(86,89)</th>\n",
       "    </tr>\n",
       "    <tr>\n",
       "      <th>particle</th>\n",
       "      <th>values</th>\n",
       "      <th></th>\n",
       "      <th></th>\n",
       "      <th></th>\n",
       "      <th></th>\n",
       "      <th></th>\n",
       "      <th></th>\n",
       "      <th></th>\n",
       "      <th></th>\n",
       "      <th></th>\n",
       "      <th></th>\n",
       "      <th></th>\n",
       "      <th></th>\n",
       "      <th></th>\n",
       "      <th></th>\n",
       "      <th></th>\n",
       "      <th></th>\n",
       "      <th></th>\n",
       "      <th></th>\n",
       "      <th></th>\n",
       "      <th></th>\n",
       "      <th></th>\n",
       "    </tr>\n",
       "  </thead>\n",
       "  <tbody>\n",
       "    <tr>\n",
       "      <th rowspan=\"5\" valign=\"top\">0</th>\n",
       "      <th>D2_min</th>\n",
       "      <td>0.176064</td>\n",
       "      <td>NaN</td>\n",
       "      <td>NaN</td>\n",
       "      <td>NaN</td>\n",
       "      <td>NaN</td>\n",
       "      <td>NaN</td>\n",
       "      <td>NaN</td>\n",
       "      <td>NaN</td>\n",
       "      <td>NaN</td>\n",
       "      <td>NaN</td>\n",
       "      <td>...</td>\n",
       "      <td>NaN</td>\n",
       "      <td>NaN</td>\n",
       "      <td>NaN</td>\n",
       "      <td>NaN</td>\n",
       "      <td>NaN</td>\n",
       "      <td>NaN</td>\n",
       "      <td>NaN</td>\n",
       "      <td>NaN</td>\n",
       "      <td>NaN</td>\n",
       "      <td>NaN</td>\n",
       "    </tr>\n",
       "    <tr>\n",
       "      <th>exx</th>\n",
       "      <td>0.016755</td>\n",
       "      <td>NaN</td>\n",
       "      <td>NaN</td>\n",
       "      <td>NaN</td>\n",
       "      <td>NaN</td>\n",
       "      <td>NaN</td>\n",
       "      <td>NaN</td>\n",
       "      <td>NaN</td>\n",
       "      <td>NaN</td>\n",
       "      <td>NaN</td>\n",
       "      <td>...</td>\n",
       "      <td>NaN</td>\n",
       "      <td>NaN</td>\n",
       "      <td>NaN</td>\n",
       "      <td>NaN</td>\n",
       "      <td>NaN</td>\n",
       "      <td>NaN</td>\n",
       "      <td>NaN</td>\n",
       "      <td>NaN</td>\n",
       "      <td>NaN</td>\n",
       "      <td>NaN</td>\n",
       "    </tr>\n",
       "    <tr>\n",
       "      <th>exy</th>\n",
       "      <td>-0.005082</td>\n",
       "      <td>NaN</td>\n",
       "      <td>NaN</td>\n",
       "      <td>NaN</td>\n",
       "      <td>NaN</td>\n",
       "      <td>NaN</td>\n",
       "      <td>NaN</td>\n",
       "      <td>NaN</td>\n",
       "      <td>NaN</td>\n",
       "      <td>NaN</td>\n",
       "      <td>...</td>\n",
       "      <td>NaN</td>\n",
       "      <td>NaN</td>\n",
       "      <td>NaN</td>\n",
       "      <td>NaN</td>\n",
       "      <td>NaN</td>\n",
       "      <td>NaN</td>\n",
       "      <td>NaN</td>\n",
       "      <td>NaN</td>\n",
       "      <td>NaN</td>\n",
       "      <td>NaN</td>\n",
       "    </tr>\n",
       "    <tr>\n",
       "      <th>exz</th>\n",
       "      <td>0.009494</td>\n",
       "      <td>NaN</td>\n",
       "      <td>NaN</td>\n",
       "      <td>NaN</td>\n",
       "      <td>NaN</td>\n",
       "      <td>NaN</td>\n",
       "      <td>NaN</td>\n",
       "      <td>NaN</td>\n",
       "      <td>NaN</td>\n",
       "      <td>NaN</td>\n",
       "      <td>...</td>\n",
       "      <td>NaN</td>\n",
       "      <td>NaN</td>\n",
       "      <td>NaN</td>\n",
       "      <td>NaN</td>\n",
       "      <td>NaN</td>\n",
       "      <td>NaN</td>\n",
       "      <td>NaN</td>\n",
       "      <td>NaN</td>\n",
       "      <td>NaN</td>\n",
       "      <td>NaN</td>\n",
       "    </tr>\n",
       "    <tr>\n",
       "      <th>eyy</th>\n",
       "      <td>-0.010655</td>\n",
       "      <td>NaN</td>\n",
       "      <td>NaN</td>\n",
       "      <td>NaN</td>\n",
       "      <td>NaN</td>\n",
       "      <td>NaN</td>\n",
       "      <td>NaN</td>\n",
       "      <td>NaN</td>\n",
       "      <td>NaN</td>\n",
       "      <td>NaN</td>\n",
       "      <td>...</td>\n",
       "      <td>NaN</td>\n",
       "      <td>NaN</td>\n",
       "      <td>NaN</td>\n",
       "      <td>NaN</td>\n",
       "      <td>NaN</td>\n",
       "      <td>NaN</td>\n",
       "      <td>NaN</td>\n",
       "      <td>NaN</td>\n",
       "      <td>NaN</td>\n",
       "      <td>NaN</td>\n",
       "    </tr>\n",
       "  </tbody>\n",
       "</table>\n",
       "<p>5 rows × 88 columns</p>\n",
       "</div>"
      ],
      "text/plain": [
       "                    (0,1)  (0,3)  (1,4)  (2,5)  (3,6)  (4,7)  (5,8)  (6,9)  \\\n",
       "particle values                                                              \n",
       "0        D2_min  0.176064    NaN    NaN    NaN    NaN    NaN    NaN    NaN   \n",
       "         exx     0.016755    NaN    NaN    NaN    NaN    NaN    NaN    NaN   \n",
       "         exy    -0.005082    NaN    NaN    NaN    NaN    NaN    NaN    NaN   \n",
       "         exz     0.009494    NaN    NaN    NaN    NaN    NaN    NaN    NaN   \n",
       "         eyy    -0.010655    NaN    NaN    NaN    NaN    NaN    NaN    NaN   \n",
       "\n",
       "                 (7,10)  (8,11)  ...  (77,80)  (78,81)  (79,82)  (80,83)  \\\n",
       "particle values                  ...                                       \n",
       "0        D2_min     NaN     NaN  ...      NaN      NaN      NaN      NaN   \n",
       "         exx        NaN     NaN  ...      NaN      NaN      NaN      NaN   \n",
       "         exy        NaN     NaN  ...      NaN      NaN      NaN      NaN   \n",
       "         exz        NaN     NaN  ...      NaN      NaN      NaN      NaN   \n",
       "         eyy        NaN     NaN  ...      NaN      NaN      NaN      NaN   \n",
       "\n",
       "                 (81,84)  (82,85)  (83,86)  (84,87)  (85,88)  (86,89)  \n",
       "particle values                                                        \n",
       "0        D2_min      NaN      NaN      NaN      NaN      NaN      NaN  \n",
       "         exx         NaN      NaN      NaN      NaN      NaN      NaN  \n",
       "         exy         NaN      NaN      NaN      NaN      NaN      NaN  \n",
       "         exz         NaN      NaN      NaN      NaN      NaN      NaN  \n",
       "         eyy         NaN      NaN      NaN      NaN      NaN      NaN  \n",
       "\n",
       "[5 rows x 88 columns]"
      ]
     },
     "execution_count": 5,
     "metadata": {},
     "output_type": "execute_result"
    }
   ],
   "source": [
    "sed_strainTraj_dt3.head()"
   ]
  },
  {
   "cell_type": "code",
   "execution_count": 144,
   "metadata": {},
   "outputs": [],
   "source": [
    "strain_exz = sed_strainTraj_dt3.loc[(slice(None),'exz'),:]['(0,1)'].unstack().dropna()\n",
    "idx = strain_exz.index"
   ]
  },
  {
   "cell_type": "code",
   "execution_count": 145,
   "metadata": {},
   "outputs": [],
   "source": [
    "pts = sedPos.loc[(0,slice(None))][['x (um, imageStack)', 'y (um, imageStack)', 'z (um, imageStack)']].loc[idx]"
   ]
  },
  {
   "cell_type": "code",
   "execution_count": 191,
   "metadata": {},
   "outputs": [
    {
     "data": {
      "text/html": [
       "<div>\n",
       "<style scoped>\n",
       "    .dataframe tbody tr th:only-of-type {\n",
       "        vertical-align: middle;\n",
       "    }\n",
       "\n",
       "    .dataframe tbody tr th {\n",
       "        vertical-align: top;\n",
       "    }\n",
       "\n",
       "    .dataframe thead th {\n",
       "        text-align: right;\n",
       "    }\n",
       "</style>\n",
       "<table border=\"1\" class=\"dataframe\">\n",
       "  <thead>\n",
       "    <tr style=\"text-align: right;\">\n",
       "      <th></th>\n",
       "      <th>x (um, imageStack)</th>\n",
       "      <th>y (um, imageStack)</th>\n",
       "      <th>z (um, imageStack)</th>\n",
       "    </tr>\n",
       "    <tr>\n",
       "      <th>particle</th>\n",
       "      <th></th>\n",
       "      <th></th>\n",
       "      <th></th>\n",
       "    </tr>\n",
       "  </thead>\n",
       "  <tbody>\n",
       "    <tr>\n",
       "      <th>0</th>\n",
       "      <td>23.480112</td>\n",
       "      <td>2.221875</td>\n",
       "      <td>27.385583</td>\n",
       "    </tr>\n",
       "    <tr>\n",
       "      <th>1</th>\n",
       "      <td>31.531264</td>\n",
       "      <td>2.180390</td>\n",
       "      <td>27.351286</td>\n",
       "    </tr>\n",
       "    <tr>\n",
       "      <th>4</th>\n",
       "      <td>35.347537</td>\n",
       "      <td>2.748365</td>\n",
       "      <td>27.335966</td>\n",
       "    </tr>\n",
       "    <tr>\n",
       "      <th>5</th>\n",
       "      <td>42.509473</td>\n",
       "      <td>2.716699</td>\n",
       "      <td>27.265042</td>\n",
       "    </tr>\n",
       "    <tr>\n",
       "      <th>6</th>\n",
       "      <td>40.966373</td>\n",
       "      <td>3.109315</td>\n",
       "      <td>27.335794</td>\n",
       "    </tr>\n",
       "  </tbody>\n",
       "</table>\n",
       "</div>"
      ],
      "text/plain": [
       "          x (um, imageStack)  y (um, imageStack)  z (um, imageStack)\n",
       "particle                                                            \n",
       "0                  23.480112            2.221875           27.385583\n",
       "1                  31.531264            2.180390           27.351286\n",
       "4                  35.347537            2.748365           27.335966\n",
       "5                  42.509473            2.716699           27.265042\n",
       "6                  40.966373            3.109315           27.335794"
      ]
     },
     "execution_count": 191,
     "metadata": {},
     "output_type": "execute_result"
    }
   ],
   "source": [
    "pts.head()"
   ]
  },
  {
   "cell_type": "code",
   "execution_count": 219,
   "metadata": {},
   "outputs": [],
   "source": [
    "zz,yy,xx = np.mgrid[35:70:0.7, 10:230:0.7,10:230:0.7]"
   ]
  },
  {
   "cell_type": "code",
   "execution_count": 147,
   "metadata": {},
   "outputs": [],
   "source": [
    "from scipy import interpolate"
   ]
  },
  {
   "cell_type": "code",
   "execution_count": 188,
   "metadata": {},
   "outputs": [],
   "source": [
    "pts_np = np.array([pts[key].to_numpy() for key in ['z (um, imageStack)', 'y (um, imageStack)', 'x (um, imageStack)']])"
   ]
  },
  {
   "cell_type": "code",
   "execution_count": 220,
   "metadata": {},
   "outputs": [],
   "source": [
    "strain_interp = interpolate.griddata(np.transpose(pts_np), strain_exz.to_numpy().squeeze(),(zz,yy,xx),method='linear')"
   ]
  },
  {
   "cell_type": "code",
   "execution_count": 174,
   "metadata": {},
   "outputs": [
    {
     "data": {
      "text/plain": [
       "(0,)"
      ]
     },
     "execution_count": 174,
     "metadata": {},
     "output_type": "execute_result"
    }
   ],
   "source": [
    "strain_interp[np.isnan(strain_interp)].shape "
   ]
  },
  {
   "cell_type": "code",
   "execution_count": 175,
   "metadata": {},
   "outputs": [
    {
     "data": {
      "text/plain": [
       "(4961250,)"
      ]
     },
     "execution_count": 175,
     "metadata": {},
     "output_type": "execute_result"
    }
   ],
   "source": [
    "strain_interp[~np.isnan(strain_interp)].shape"
   ]
  },
  {
   "cell_type": "markdown",
   "metadata": {},
   "source": [
    "## Write a correlation function with limited shift range"
   ]
  },
  {
   "cell_type": "code",
   "execution_count": 183,
   "metadata": {},
   "outputs": [],
   "source": [
    "import numba\n",
    "from data_analysis import eshelby_inclusion as eshelby\n",
    "from importlib import reload"
   ]
  },
  {
   "cell_type": "code",
   "execution_count": 185,
   "metadata": {},
   "outputs": [
    {
     "data": {
      "text/plain": [
       "<module 'data_analysis.eshelby_inclusion' from '/Users/zsolt/Colloid_git/TractionRheoscopy/data_analysis/eshelby_inclusion.py'>"
      ]
     },
     "execution_count": 185,
     "metadata": {},
     "output_type": "execute_result"
    }
   ],
   "source": [
    "reload(eshelby)"
   ]
  },
  {
   "cell_type": "code",
   "execution_count": 221,
   "metadata": {},
   "outputs": [
    {
     "data": {
      "text/plain": [
       "(50, 315, 315)"
      ]
     },
     "execution_count": 221,
     "metadata": {},
     "output_type": "execute_result"
    }
   ],
   "source": [
    "strain_interp.shape"
   ]
  },
  {
   "cell_type": "code",
   "execution_count": 223,
   "metadata": {},
   "outputs": [
    {
     "data": {
      "text/plain": [
       "array([[[-1.93595024e-03, -3.22408985e-04,  1.96978585e-03, ...,\n",
       "         -1.49639862e-03, -1.31990858e-03, -5.38960844e-04],\n",
       "        [-2.52145752e-03, -1.90380913e-03, -4.33211186e-04, ...,\n",
       "         -4.14035227e-03, -3.37619048e-03, -1.90165232e-03],\n",
       "        [-4.87461647e-03, -6.43765434e-03, -6.38030573e-03, ...,\n",
       "         -8.94246243e-03, -7.56719763e-03, -4.58299133e-03],\n",
       "        ...,\n",
       "        [-3.20221901e-03, -6.39717138e-03, -8.20911279e-03, ...,\n",
       "         -4.43863754e-03, -1.84269540e-03,  6.05979947e-04],\n",
       "        [ 5.25236409e-04, -1.17503103e-03, -2.79732200e-03, ...,\n",
       "         -6.44568710e-05,  1.60022822e-03,  2.18681077e-03],\n",
       "        [ 2.35074501e-03,  1.44059165e-03, -4.87729655e-06, ...,\n",
       "          1.45564383e-03,  2.76868419e-03,  2.88129988e-03]],\n",
       "\n",
       "       [[-2.51780658e-03, -2.44709234e-03, -1.09222538e-03, ...,\n",
       "         -2.21821195e-03, -3.08221869e-03, -3.05173305e-03],\n",
       "        [-4.77044994e-03, -7.28139844e-03, -7.46668871e-03, ...,\n",
       "         -8.85297040e-03, -8.37815232e-03, -5.60744610e-03],\n",
       "        [-1.08038249e-02, -1.90727299e-02, -2.14204409e-02, ...,\n",
       "         -2.11444012e-02, -1.96621587e-02, -1.16616680e-02],\n",
       "        ...,\n",
       "        [-9.19483270e-03, -1.88803302e-02, -2.29871067e-02, ...,\n",
       "         -1.72433335e-02, -1.34041309e-02, -4.75680479e-03],\n",
       "        [-1.91736443e-03, -6.33646569e-03, -9.48033055e-03, ...,\n",
       "         -5.86389263e-03, -3.22430825e-03,  4.22054577e-04],\n",
       "        [ 1.34315036e-03, -3.80546850e-04, -2.42214931e-03, ...,\n",
       "         -6.34446103e-04,  1.02396095e-03,  2.36289536e-03]],\n",
       "\n",
       "       [[ 4.38070696e-03,  1.88854182e-03,  1.92438954e-03, ...,\n",
       "          3.25618733e-03,  2.12829844e-03,  2.80261091e-03],\n",
       "        [-8.76319633e-04, -9.18268257e-03, -1.08596628e-02, ...,\n",
       "         -9.43730381e-03, -9.38041794e-03, -2.77859646e-03],\n",
       "        [-1.40476261e-02, -3.37388962e-02, -3.55436403e-02, ...,\n",
       "         -3.14606464e-02, -3.29884105e-02, -1.57516259e-02],\n",
       "        ...,\n",
       "        [-1.42553716e-02, -3.49344441e-02, -3.74715383e-02, ...,\n",
       "         -2.84072084e-02, -2.66316376e-02, -7.84935571e-03],\n",
       "        [ 2.08452323e-04, -9.28609042e-03, -1.28071712e-02, ...,\n",
       "         -7.61583361e-03, -4.68440982e-03,  4.09741891e-03],\n",
       "        [ 6.68874224e-03,  3.49181027e-03,  1.26766936e-03, ...,\n",
       "          3.22246160e-03,  5.21397286e-03,  8.64454414e-03]],\n",
       "\n",
       "       ...,\n",
       "\n",
       "       [[ 8.64454414e-03,  5.21397286e-03,  3.22246160e-03, ...,\n",
       "          1.26766936e-03,  3.49181027e-03,  6.68874224e-03],\n",
       "        [ 4.09741891e-03, -4.68440982e-03, -7.61583361e-03, ...,\n",
       "         -1.28071712e-02, -9.28609042e-03,  2.08452323e-04],\n",
       "        [-7.84935571e-03, -2.66316376e-02, -2.84072084e-02, ...,\n",
       "         -3.74715383e-02, -3.49344441e-02, -1.42553716e-02],\n",
       "        ...,\n",
       "        [-1.57516259e-02, -3.29884105e-02, -3.14606464e-02, ...,\n",
       "         -3.55436403e-02, -3.37388962e-02, -1.40476261e-02],\n",
       "        [-2.77859646e-03, -9.38041794e-03, -9.43730381e-03, ...,\n",
       "         -1.08596628e-02, -9.18268257e-03, -8.76319633e-04],\n",
       "        [ 2.80261091e-03,  2.12829844e-03,  3.25618733e-03, ...,\n",
       "          1.92438954e-03,  1.88854182e-03,  4.38070696e-03]],\n",
       "\n",
       "       [[ 2.36289536e-03,  1.02396095e-03, -6.34446103e-04, ...,\n",
       "         -2.42214931e-03, -3.80546850e-04,  1.34315036e-03],\n",
       "        [ 4.22054577e-04, -3.22430825e-03, -5.86389263e-03, ...,\n",
       "         -9.48033055e-03, -6.33646569e-03, -1.91736443e-03],\n",
       "        [-4.75680479e-03, -1.34041309e-02, -1.72433335e-02, ...,\n",
       "         -2.29871067e-02, -1.88803302e-02, -9.19483270e-03],\n",
       "        ...,\n",
       "        [-1.16616680e-02, -1.96621587e-02, -2.11444012e-02, ...,\n",
       "         -2.14204409e-02, -1.90727299e-02, -1.08038249e-02],\n",
       "        [-5.60744610e-03, -8.37815232e-03, -8.85297040e-03, ...,\n",
       "         -7.46668871e-03, -7.28139844e-03, -4.77044994e-03],\n",
       "        [-3.05173305e-03, -3.08221869e-03, -2.21821195e-03, ...,\n",
       "         -1.09222538e-03, -2.44709234e-03, -2.51780658e-03]],\n",
       "\n",
       "       [[ 2.88129988e-03,  2.76868419e-03,  1.45564383e-03, ...,\n",
       "         -4.87729655e-06,  1.44059165e-03,  2.35074501e-03],\n",
       "        [ 2.18681077e-03,  1.60022822e-03, -6.44568710e-05, ...,\n",
       "         -2.79732200e-03, -1.17503103e-03,  5.25236409e-04],\n",
       "        [ 6.05979947e-04, -1.84269540e-03, -4.43863754e-03, ...,\n",
       "         -8.20911279e-03, -6.39717138e-03, -3.20221901e-03],\n",
       "        ...,\n",
       "        [-4.58299133e-03, -7.56719763e-03, -8.94246243e-03, ...,\n",
       "         -6.38030573e-03, -6.43765434e-03, -4.87461647e-03],\n",
       "        [-1.90165232e-03, -3.37619048e-03, -4.14035227e-03, ...,\n",
       "         -4.33211186e-04, -1.90380913e-03, -2.52145752e-03],\n",
       "        [-5.38960844e-04, -1.31990858e-03, -1.49639862e-03, ...,\n",
       "          1.96978585e-03, -3.22408985e-04, -1.93595024e-03]]])"
      ]
     },
     "execution_count": 223,
     "metadata": {},
     "output_type": "execute_result"
    }
   ],
   "source": [
    "eshelby.spatialCorr(strain_interp,strain_interp,(5,5,5))"
   ]
  },
  {
   "cell_type": "code",
   "execution_count": null,
   "metadata": {},
   "outputs": [],
   "source": []
  },
  {
   "cell_type": "code",
   "execution_count": null,
   "metadata": {},
   "outputs": [],
   "source": []
  },
  {
   "cell_type": "code",
   "execution_count": null,
   "metadata": {},
   "outputs": [],
   "source": []
  },
  {
   "cell_type": "code",
   "execution_count": null,
   "metadata": {},
   "outputs": [],
   "source": []
  },
  {
   "cell_type": "markdown",
   "metadata": {},
   "source": [
    "## Test of interpolate.griddata"
   ]
  },
  {
   "cell_type": "code",
   "execution_count": 205,
   "metadata": {},
   "outputs": [],
   "source": [
    "def g(x,y,z): return x*y*z\n",
    "pts = np.random.rand(10000,3)\n",
    "val = g(pts[:,0],pts[:,1],pts[:,2])"
   ]
  },
  {
   "cell_type": "code",
   "execution_count": 207,
   "metadata": {},
   "outputs": [],
   "source": [
    "pts;"
   ]
  },
  {
   "cell_type": "code",
   "execution_count": 216,
   "metadata": {},
   "outputs": [],
   "source": [
    "xx,yy,zz = np.mgrid[0:1:0.5, 0:1:0.1,0:1:0.1]"
   ]
  },
  {
   "cell_type": "code",
   "execution_count": 203,
   "metadata": {},
   "outputs": [],
   "source": [
    "xx;"
   ]
  },
  {
   "cell_type": "code",
   "execution_count": 217,
   "metadata": {},
   "outputs": [],
   "source": [
    "out = interpolate.griddata(pts,val,(zz,yy,xx))"
   ]
  },
  {
   "cell_type": "code",
   "execution_count": 218,
   "metadata": {},
   "outputs": [
    {
     "data": {
      "text/plain": [
       "(2, 10, 10)"
      ]
     },
     "execution_count": 218,
     "metadata": {},
     "output_type": "execute_result"
    }
   ],
   "source": [
    "out.shape"
   ]
  },
  {
   "cell_type": "code",
   "execution_count": null,
   "metadata": {},
   "outputs": [],
   "source": []
  }
 ],
 "metadata": {
  "kernelspec": {
   "display_name": "Python 3",
   "language": "python",
   "name": "python3"
  },
  "language_info": {
   "codemirror_mode": {
    "name": "ipython",
    "version": 3
   },
   "file_extension": ".py",
   "mimetype": "text/x-python",
   "name": "python",
   "nbconvert_exporter": "python",
   "pygments_lexer": "ipython3",
   "version": "3.7.7"
  }
 },
 "nbformat": 4,
 "nbformat_minor": 4
}
